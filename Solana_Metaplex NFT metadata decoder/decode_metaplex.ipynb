{
  "nbformat": 4,
  "nbformat_minor": 0,
  "metadata": {
    "colab": {
      "name": "decode_metaplex.ipynb",
      "provenance": [],
      "collapsed_sections": []
    },
    "kernelspec": {
      "name": "python3",
      "display_name": "Python 3"
    },
    "language_info": {
      "name": "python"
    }
  },
  "cells": [
    {
      "cell_type": "code",
      "execution_count": null,
      "metadata": {
        "colab": {
          "base_uri": "https://localhost:8080/"
        },
        "id": "nAxZPatkSvBX",
        "outputId": "f4a579b6-c977-4ed9-f417-738196197681"
      },
      "outputs": [
        {
          "output_type": "stream",
          "name": "stdout",
          "text": [
            "Looking in indexes: https://pypi.org/simple, https://us-python.pkg.dev/colab-wheels/public/simple/\n",
            "Collecting base58\n",
            "  Downloading base58-2.1.1-py3-none-any.whl (5.6 kB)\n",
            "Installing collected packages: base58\n",
            "Successfully installed base58-2.1.1\n"
          ]
        }
      ],
      "source": [
        "pip install base58"
      ]
    },
    {
      "cell_type": "code",
      "source": [
        "import base58\n",
        "import base64\n",
        "import struct\n",
        "\n",
        "def unpack_metadata_account(data):\n",
        "    assert(data[0] == 4)\n",
        "    i = 1\n",
        "    source_account = base58.b58encode(bytes(struct.unpack('<' + \"B\"*32, data[i:i+32])))\n",
        "    i += 32\n",
        "    mint_account = base58.b58encode(bytes(struct.unpack('<' + \"B\"*32, data[i:i+32])))\n",
        "    i += 32\n",
        "    name_len = struct.unpack('<I', data[i:i+4])[0]\n",
        "    i += 4\n",
        "    name = struct.unpack('<' + \"B\"*name_len, data[i:i+name_len])\n",
        "    i += name_len\n",
        "    symbol_len = struct.unpack('<I', data[i:i+4])[0]\n",
        "    i += 4 \n",
        "    symbol = struct.unpack('<' + \"B\"*symbol_len, data[i:i+symbol_len])\n",
        "    i += symbol_len\n",
        "    uri_len = struct.unpack('<I', data[i:i+4])[0]\n",
        "    i += 4 \n",
        "    uri = struct.unpack('<' + \"B\"*uri_len, data[i:i+uri_len])\n",
        "    i += uri_len\n",
        "    fee = struct.unpack('<h', data[i:i+2])[0]\n",
        "    i += 2\n",
        "    has_creator = data[i] \n",
        "    i += 1\n",
        "    creators = []\n",
        "    verified = []\n",
        "    share = []\n",
        "    if has_creator:\n",
        "        creator_len = struct.unpack('<I', data[i:i+4])[0]\n",
        "        i += 4\n",
        "        for _ in range(creator_len):\n",
        "            creator = base58.b58encode(bytes(struct.unpack('<' + \"B\"*32, data[i:i+32])))\n",
        "            creators.append(creator)\n",
        "            i += 32\n",
        "            verified.append(data[i])\n",
        "            i += 1\n",
        "            share.append(data[i])\n",
        "            i += 1\n",
        "    primary_sale_happened = bool(data[i])\n",
        "    i += 1\n",
        "    is_mutable = bool(data[i])\n",
        "    metadata = {\n",
        "        \"update_authority\": source_account,\n",
        "        \"mint\": mint_account,\n",
        "        \"data\": {\n",
        "            \"name\": bytes(name).decode(\"utf-8\").strip(\"\\x00\"),\n",
        "            \"symbol\": bytes(symbol).decode(\"utf-8\").strip(\"\\x00\"),\n",
        "            \"uri\": bytes(uri).decode(\"utf-8\").strip(\"\\x00\"),\n",
        "            \"seller_fee_basis_points\": fee,\n",
        "            \"creators\": creators,\n",
        "            \"verified\": verified,\n",
        "            \"share\": share,\n",
        "        },\n",
        "        \"primary_sale_happened\": primary_sale_happened,\n",
        "        \"is_mutable\": is_mutable,\n",
        "    }\n",
        "    return metadata"
      ],
      "metadata": {
        "id": "gF3hhAXGSxoi"
      },
      "execution_count": null,
      "outputs": []
    },
    {
      "cell_type": "code",
      "source": [
        "rawdata = \"BAaFLfIXeKRi6nmq6BUA6umKk13MoF+LiZyotBAhp5mAsku0a/f9w7D1gJ82cZokGXec75GzLhtEy2iTHJN0UzcgAAAAU25lYWtlciAjMTg2OTUxMDU3AAAAAAAAAAAAAAAAAAAKAAAAAAAAAAAAAAAAAMgAAABodHRwczovL2FwaS5zdGVwbi5jb20vcnVuL25mdGpzb24vMTAzLzExNTgyMzA5MzA4MwAAAAAAAAAAAAAAAAAAAAAAAAAAAAAAAAAAAAAAAAAAAAAAAAAAAAAAAAAAAAAAAAAAAAAAAAAAAAAAAAAAAAAAAAAAAAAAAAAAAAAAAAAAAAAAAAAAAAAAAAAAAAAAAAAAAAAAAAAAAAAAAAAAAAAAAAAAAAAAAAAAAAAAAAAAAAAAAAAAAAAAAAAAAAAAAAAAAAAAAJABAQEAAAAGhS3yF3ikYup5qugVAOrpipNdzKBfi4mcqLQQIaeZgAFkAAEB/wEAAAAAAAAAAAAAAAAAAAAAAAAAAAAAAAAAAAAAAAAAAAAAAAAAAAAAAAAAAAAAAAAAAAAAAAAAAAAAAAAAAAAAAAAAAAAAAAAAAAAAAAAAAAAAAAAAAAAAAAAAAAAAAAAAAAAAAAAAAAAAAAAAAAAAAAAAAAAAAAAAAAAAAAAAAAAAAAAAAAAAAAAAAAAAAAAAAAAAAAAAAAAAAAAAAAAAAAAAAAAAAAAAAAAAAAAAAAAAAAAAAAAAAAAAAAAAAAAAAAAAAAAAAAAAAAAAAAAAAAAAAAAAAAAAAAAAAAAAAAAAAAAAAAAAAAAAAAAAAAAAAAAAAAAAAAAAAAAAAAAAAAAAAAAAAAAAAAAAAAAAAAAAAAAAAAAAAAAAAAAAAAAAAAAAAAAAAAAAAAAAAAAAAAAAAAAAAAAAAA==\"\n",
        "base64_bytes = base64.b64decode(rawdata)\n",
        "original_object = unpack_metadata_account(base64_bytes)\n",
        "original_object"
      ],
      "metadata": {
        "colab": {
          "base_uri": "https://localhost:8080/"
        },
        "id": "mH1vA0vOS0xD",
        "outputId": "af7ec7ab-9ac5-4ce4-a6f6-34b89edee4cb"
      },
      "execution_count": null,
      "outputs": [
        {
          "output_type": "execute_result",
          "data": {
            "text/plain": [
              "{'data': {'creators': [b'STEPNq2UGeGSzCyGVr2nMQAzf8xuejwqebd84wcksCK'],\n",
              "  'name': 'Sneaker #186951057',\n",
              "  'seller_fee_basis_points': 400,\n",
              "  'share': [100],\n",
              "  'symbol': '',\n",
              "  'uri': 'https://api.stepn.com/run/nftjson/103/115823093083',\n",
              "  'verified': [1]},\n",
              " 'is_mutable': True,\n",
              " 'mint': b'CzzXPMTRFbpjawFmWsTjhMsF1zGYge1thT5v9BJsG8ox',\n",
              " 'primary_sale_happened': False,\n",
              " 'update_authority': b'STEPNq2UGeGSzCyGVr2nMQAzf8xuejwqebd84wcksCK'}"
            ]
          },
          "metadata": {},
          "execution_count": 3
        }
      ]
    }
  ]
}