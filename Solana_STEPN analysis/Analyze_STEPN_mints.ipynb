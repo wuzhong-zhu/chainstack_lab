{
  "nbformat": 4,
  "nbformat_minor": 0,
  "metadata": {
    "colab": {
      "name": "Analyze STEPN mints.ipynb",
      "provenance": [],
      "collapsed_sections": []
    },
    "kernelspec": {
      "name": "python3",
      "display_name": "Python 3"
    },
    "language_info": {
      "name": "python"
    }
  },
  "cells": [
    {
      "cell_type": "code",
      "execution_count": null,
      "metadata": {
        "id": "1hIHnkgPxsP6"
      },
      "outputs": [],
      "source": [
        "pip install solana"
      ]
    },
    {
      "cell_type": "code",
      "source": [
        "pip install base58"
      ],
      "metadata": {
        "colab": {
          "base_uri": "https://localhost:8080/"
        },
        "collapsed": true,
        "id": "RM5KW9qZxye1",
        "outputId": "6ef951ab-8d70-4f27-d338-470def67a938"
      },
      "execution_count": null,
      "outputs": [
        {
          "output_type": "stream",
          "name": "stdout",
          "text": [
            "Looking in indexes: https://pypi.org/simple, https://us-python.pkg.dev/colab-wheels/public/simple/\n",
            "Requirement already satisfied: base58 in /usr/local/lib/python3.7/dist-packages (2.1.1)\n"
          ]
        }
      ]
    },
    {
      "cell_type": "code",
      "source": [
        "pip install plotly"
      ],
      "metadata": {
        "id": "_konaqKGxyn8"
      },
      "execution_count": null,
      "outputs": []
    },
    {
      "cell_type": "markdown",
      "source": [
        "# Getting start"
      ],
      "metadata": {
        "id": "aIFWmSBuyIa2"
      }
    },
    {
      "cell_type": "code",
      "source": [
        "import json\n",
        "import solana\n",
        "import time\n",
        "import logging\n",
        "import threading\n",
        "import numpy as np\n",
        "import urllib.request\n",
        "import json\n",
        "from urllib.request import Request, urlopen\n",
        "\n",
        "import base58\n",
        "import base64\n",
        "import struct\n",
        "\n",
        "from solana.rpc.api import Client\n",
        "explorerULRAdd = \"https://explorer.solana.com/address/\"\n",
        "explorerULRTx = \"https://explorer.solana.com/tx/\""
      ],
      "metadata": {
        "id": "KBOgUfwlyGEx"
      },
      "execution_count": null,
      "outputs": []
    },
    {
      "cell_type": "markdown",
      "source": [
        "# Fill in your Chainstack solana endpoint here:"
      ],
      "metadata": {
        "id": "MZS9SMPIyXIr"
      }
    },
    {
      "cell_type": "code",
      "source": [
        "http_client = Client(\"\")"
      ],
      "metadata": {
        "id": "7-F52y_6xyue"
      },
      "execution_count": null,
      "outputs": []
    },
    {
      "cell_type": "markdown",
      "source": [
        "# Download data from solana"
      ],
      "metadata": {
        "id": "AD3ZVLUbyeJF"
      }
    },
    {
      "cell_type": "code",
      "source": [
        "lastSignature = None\n",
        "timeStampNow = int(time.time())\n",
        "count = 0\n",
        "mintArr = [] #where data is stored\n",
        "blkTime = timeStampNow\n",
        "timeRange = 0.5*60*60 #0.5 hours\n",
        "\n",
        "\n",
        "def getTxDetail(txSignature):\n",
        "    txDetail = http_client.get_transaction(txSignature)\n",
        "    if \"result\" in txDetail: \n",
        "        if \"meta\" in txDetail[\"result\"]:\n",
        "            if \"postTokenBalances\" in txDetail[\"result\"][\"meta\"]:\n",
        "                if (txDetail[\"result\"][\"meta\"][\"postTokenBalances\"]):\n",
        "                    if len(txDetail[\"result\"][\"meta\"][\"postTokenBalances\"]) == 1:\n",
        "                        if (\"mint\" in txDetail[\"result\"][\"meta\"][\"postTokenBalances\"][0])and(\"owner\" in txDetail[\"result\"][\"meta\"][\"postTokenBalances\"][0]):\n",
        "                            if txDetail[\"result\"][\"meta\"][\"postTokenBalances\"][0][\"owner\"] == \"STEPNq2UGeGSzCyGVr2nMQAzf8xuejwqebd84wcksCK\":\n",
        "                                blkTime = txDetail[\"result\"][\"blockTime\"]\n",
        "                                mintAddress = txDetail[\"result\"][\"meta\"][\"postTokenBalances\"][0][\"mint\"]\n",
        "                                metadataIdx = txDetail[\"result\"][\"transaction\"][\"message\"][\"instructions\"][2][\"accounts\"][0]\n",
        "                                metaDataAddr = txDetail[\"result\"][\"transaction\"][\"message\"][\"accountKeys\"][metadataIdx]\n",
        "                                # Print the mint address\n",
        "                                print(explorerULRAdd+mintAddress)\n",
        "                                mintArr.append({\"blockTime\":blkTime,\"txAddress\":txSignature,\"mintAddress\":mintAddress, \"metaAddress\":metaDataAddr })\n",
        "\n",
        "# Getting all transaction for minting new shoes in the past half hour\n",
        "if __name__ == \"__main__\":\n",
        "    while(True):\n",
        "        print(\"round-\"+str(count+1))\n",
        "        print(\"getting transactions\")\n",
        "        txs = http_client.get_signatures_for_address(\"STEPNq2UGeGSzCyGVr2nMQAzf8xuejwqebd84wcksCK\",limit=200,before=lastSignature)[\"result\"]\n",
        "        print(\"processing signatures\")\n",
        "        signatures = np.array([o[\"signature\"] for o in txs])\n",
        "        \n",
        "        threads = list()\n",
        "        for signature in signatures:\n",
        "            x = threading.Thread(target=getTxDetail, args=(signature,))\n",
        "            threads.append(x)\n",
        "            x.start()\n",
        "        for index, thread in enumerate(threads):\n",
        "            thread.join()\n",
        "        if(txs[-1]['blockTime'] < (timeStampNow-timeRange)):\n",
        "            break\n",
        "        else:\n",
        "            count += 1\n",
        "            lastSignature = txs[-1][\"signature\"]\n",
        "        time.sleep(3)"
      ],
      "metadata": {
        "colab": {
          "base_uri": "https://localhost:8080/"
        },
        "id": "UqhdP_lOycWf",
        "outputId": "fc0d5871-70fa-4a83-f1e0-43d74bce18db"
      },
      "execution_count": null,
      "outputs": [
        {
          "output_type": "stream",
          "name": "stdout",
          "text": [
            "round-1\n",
            "getting transactions\n",
            "processing signatures\n",
            "https://explorer.solana.com/address/P3TsW7wRNqmJ32Dpk54YtfqA2QMMP6dt4SwHuzkUL5S\n",
            "https://explorer.solana.com/address/P7MTbPCKy4NyD4s2Yt1rHznHCZjzcpEVY1pCscKoXN2\n",
            "https://explorer.solana.com/address/EGCnoNo2oH5nvXpXnNrZtN4AshpSbrUQxDBxvpA2fsA4\n",
            "round-2\n",
            "getting transactions\n",
            "processing signatures\n",
            "https://explorer.solana.com/address/GwVNf1XRb3XbB49Jb1pL1ZyTtxJuLGdL1aau6JuUvGeD\n",
            "https://explorer.solana.com/address/5XPWbFiuxFbqNhjefq4FeJNoQZ9jAmMGAetHTnQWPdYYhttps://explorer.solana.com/address/CiwjcsmzaZd8jbicAkmoYPvbPGgs2EHdWCTtKozDc33k\n",
            "\n",
            "https://explorer.solana.com/address/GmJ2KmiUiGV8oqBC9mBGEcsja13vLLT8oRtcmKqGRBTF\n",
            "round-3\n",
            "getting transactions\n",
            "processing signatures\n",
            "https://explorer.solana.com/address/AisHx1N8shrxgULD7oYcfjwT952Eq5ns1a4xDeKfm95D\n",
            "https://explorer.solana.com/address/4xDJmtrjtkKa35siAu8PSVGNaChxyj5yn4iArXJKYmJX\n",
            "https://explorer.solana.com/address/GQW2833CWajghKphuCufq6yMjf1bLR567D17UNs67sVBhttps://explorer.solana.com/address/9eKJLN79uDikE7mEHkX8uEXUeNiMXo86CzBhVWASLfVm\n",
            "\n",
            "https://explorer.solana.com/address/8oqE9Wtd9knNR44soLNG4vCDSbffMCjaBcWGUP758UVS\n",
            "https://explorer.solana.com/address/8gT6zVixzRGYPuepBTCEkKU58yoXrc1dNq76jKqJfhtvhttps://explorer.solana.com/address/7GajYW8MrkoPBGL56kBrctr7b7znsQSzxk7neM3bEDMm\n",
            "\n",
            "round-4\n",
            "getting transactions\n",
            "processing signatures\n",
            "https://explorer.solana.com/address/7jGi61avzVjZyjBgrUpRUpnDQg1GUWX4ApnHsnUQfU5K\n",
            "https://explorer.solana.com/address/A1d6HSMoqJkmnX5a5p81fNS4br622sqzE4BYFqNwQqTr\n",
            "https://explorer.solana.com/address/8s8NtBQxcdij4XMywXRRhPDRGKnbCjfUqEMWnVmicPYM\n",
            "https://explorer.solana.com/address/F8dhPLHXZ9cS5ZJZduLKFA1eaQjW1HLiLy71CpmmH9Wr\n",
            "https://explorer.solana.com/address/5yLfzgWVSmMTMcVofKsnH3gsKyn9w38ND1mUHe8Q3g53\n",
            "https://explorer.solana.com/address/9xGyiJCv2DfXD2VgR6BDWWejmThyBxkfchhJStxCcwAt\n",
            "https://explorer.solana.com/address/7Z1qyjzwhnhQpkc9vFozXusapStjwvVUvq4ZQwZm7ZTs\n",
            "https://explorer.solana.com/address/Cba2ADPKw3LyBcG8p98yxTuJbdVePvmCpsMpQHsgdG8Z\n",
            "https://explorer.solana.com/address/2dpXmsF3JenyBvjVWTVKc7McBPW8fko4djTfaffXFHjc\n",
            "https://explorer.solana.com/address/9uQ8qYQVuwUagNuBkBfhieePk6Gw2BjdCH9xJ34r2EoU\n",
            "round-5\n",
            "getting transactions\n",
            "processing signatures\n",
            "https://explorer.solana.com/address/9PqZpVPRvNCFwVTdaufqowXApCBzaE66VQ9KXZzM3rCthttps://explorer.solana.com/address/FrmKNEvAP8Ytoce81etUVtt4aTCnFDAkVHFtyt59BmEj\n",
            "\n",
            "https://explorer.solana.com/address/2xfmVyCqvG7HjmZZ28xFsRa9xU6fchx8NgXCfqKyWFra\n",
            "https://explorer.solana.com/address/6RXjocmiLWWFRvbwqVQfZYagzbjR6nsF966wm9qQWYqK\n",
            "https://explorer.solana.com/address/8VEku7BqZrY18FsrF9DwgeLyATVqu4sriqBmWccQ5UFs\n",
            "https://explorer.solana.com/address/AeYysnBpWc4oDErSK24x8975zuNRKqTUjGpFUpTL8ZMo\n",
            "https://explorer.solana.com/address/2eE2rcpH2n2ATPgeByQUQqyjirhtiD9RHa5YMu8yY4Pd\n",
            "https://explorer.solana.com/address/2t4JfSyabygSsy5K7gy6VoWkoZWGSesJpBpWbXNhej8r\n",
            "https://explorer.solana.com/address/DNo4PqSPYEayfni461WKRQFNTcK2txcVjbQF59U5vTvL\n",
            "https://explorer.solana.com/address/7ETn2pxc8Eway4VkxcV4xkaNFfu2Au8dnAbqVtLntQ1thttps://explorer.solana.com/address/AWYgQpqP99eH47mDoSaZPttx6GUFBc2Dj7vqXVsWtxkmhttps://explorer.solana.com/address/9r7UBB6zw5FW6UbF8TUaFMv5nMyC9cuv4z4vCfoLLqnh\n",
            "https://explorer.solana.com/address/4WqgMaud58CySDFNthE6VD1ztV2vNT6QJBDt6FwypT8q\n",
            "\n",
            "\n",
            "https://explorer.solana.com/address/ZQHeUC7g2mhaWXmiCV7fRbpuKNQx4fsNGQAi3k91Duahttps://explorer.solana.com/address/6NLLRmBvPtGroULzi6rhRiuDTrp7gB8R7YRbZ8mVXEAy\n",
            "\n",
            "https://explorer.solana.com/address/9BXhqMPiVKC58KKzU9cGFsDAfoPNmp3cJE3rRgooh67B\n",
            "https://explorer.solana.com/address/CoMmUB72VZksDp5QwvjXSaAQkzpNn2JfyyF7fqsNTRCz\n",
            "https://explorer.solana.com/address/CpwzjkjVLcvUnLyeUJnUgDjvnekYeQRXfrB9QmxBa7Xz\n",
            "round-6\n",
            "getting transactions\n",
            "processing signatures\n",
            "https://explorer.solana.com/address/CZ8Fbbp5nhMimSnuTrhH4kF9DLiXs8jw8Dm5siZrcc2Z\n",
            "https://explorer.solana.com/address/C8DrEWxTP7YAqDvMquFwbpE2jXwXDS6kqwJoMFrUKf5https://explorer.solana.com/address/EvTPNvpNR1fGtMdNUYproK17mtQVkVwCVjJcUfV7GFEk\n",
            "\n",
            "https://explorer.solana.com/address/HAe2cWyFnioMDJGHN5cvFvangM7mJci2nPEwwuVF57T5\n",
            "https://explorer.solana.com/address/BLABhz4rkdeKe43VrqKXCu77pm7vP8V8Hk8U6HLNcTGM\n",
            "round-7\n",
            "getting transactions\n",
            "processing signatures\n",
            "https://explorer.solana.com/address/8zoMEXg6prWjDExEkKga2QuupfwjDmGokKhVemHw1LjN\n",
            "https://explorer.solana.com/address/3q72vvP1XbqttrFf3pfPgthxKwdDC1wMacdjAAf6upt5\n",
            "https://explorer.solana.com/address/5rDoQy8d98EPqMY6ABHN8TaLpiAPkUeSqS3V8hjPnaW4\n",
            "https://explorer.solana.com/address/CPhcom11wu3dRAEW8dRvcw3d41xmQaYCFYndAJDJ7umkhttps://explorer.solana.com/address/133xxX8CgAqwtiUi1fHZ8ZmnXY7wgTezEXqeAQ7du12a\n",
            "https://explorer.solana.com/address/ErEcDmk5nBPoujVymQe7XiE5zBtnQ3xNPxNvLKzoYNWC\n",
            "\n",
            "https://explorer.solana.com/address/BKs6GuU9nnrw2uU3F8Us96hyPDmcP7NxcvGujTqdYuFA\n",
            "https://explorer.solana.com/address/E37NGFFZ9LWLFbgHWVGnV6vSQ2HDT7VuHJ24QM8o4UbZ\n"
          ]
        }
      ]
    },
    {
      "cell_type": "markdown",
      "source": [
        "# Decode metaplex token metadata"
      ],
      "metadata": {
        "id": "9yllwxd-yuxq"
      }
    },
    {
      "cell_type": "code",
      "source": [
        "def unpack_metadata_account(rawdata):\n",
        "    data = base64.b64decode(rawdata)\n",
        "    assert(data[0] == 4)\n",
        "    i = 1\n",
        "    source_account = base58.b58encode(bytes(struct.unpack('<' + \"B\"*32, data[i:i+32])))\n",
        "    i += 32\n",
        "    mint_account = base58.b58encode(bytes(struct.unpack('<' + \"B\"*32, data[i:i+32])))\n",
        "    i += 32\n",
        "    name_len = struct.unpack('<I', data[i:i+4])[0]\n",
        "    i += 4\n",
        "    name = struct.unpack('<' + \"B\"*name_len, data[i:i+name_len])\n",
        "    i += name_len\n",
        "    symbol_len = struct.unpack('<I', data[i:i+4])[0]\n",
        "    i += 4 \n",
        "    symbol = struct.unpack('<' + \"B\"*symbol_len, data[i:i+symbol_len])\n",
        "    i += symbol_len\n",
        "    uri_len = struct.unpack('<I', data[i:i+4])[0]\n",
        "    i += 4 \n",
        "    uri = struct.unpack('<' + \"B\"*uri_len, data[i:i+uri_len])\n",
        "    i += uri_len\n",
        "    fee = struct.unpack('<h', data[i:i+2])[0]\n",
        "    i += 2\n",
        "    has_creator = data[i] \n",
        "    i += 1\n",
        "    creators = []\n",
        "    verified = []\n",
        "    share = []\n",
        "    if has_creator:\n",
        "        creator_len = struct.unpack('<I', data[i:i+4])[0]\n",
        "        i += 4\n",
        "        for _ in range(creator_len):\n",
        "            creator = base58.b58encode(bytes(struct.unpack('<' + \"B\"*32, data[i:i+32])))\n",
        "            creators.append(creator)\n",
        "            i += 32\n",
        "            verified.append(data[i])\n",
        "            i += 1\n",
        "            share.append(data[i])\n",
        "            i += 1\n",
        "    primary_sale_happened = bool(data[i])\n",
        "    i += 1\n",
        "    is_mutable = bool(data[i])\n",
        "    metadata = {\n",
        "        \"update_authority\": source_account,\n",
        "        \"mint\": mint_account,\n",
        "        \"data\": {\n",
        "            \"name\": bytes(name).decode(\"utf-8\").strip(\"\\x00\"),\n",
        "            \"symbol\": bytes(symbol).decode(\"utf-8\").strip(\"\\x00\"),\n",
        "            \"uri\": bytes(uri).decode(\"utf-8\").strip(\"\\x00\"),\n",
        "            \"seller_fee_basis_points\": fee,\n",
        "            \"creators\": creators,\n",
        "            \"verified\": verified,\n",
        "            \"share\": share,\n",
        "        },\n",
        "        \"primary_sale_happened\": primary_sale_happened,\n",
        "        \"is_mutable\": is_mutable,\n",
        "    }\n",
        "    return metadata"
      ],
      "metadata": {
        "id": "RxeTF-GQycY5"
      },
      "execution_count": null,
      "outputs": []
    },
    {
      "cell_type": "markdown",
      "source": [
        "# Getting the metadata and shoe attributes"
      ],
      "metadata": {
        "id": "SDEPZZU3y0Bv"
      }
    },
    {
      "cell_type": "code",
      "source": [
        "shoeArr = []\n",
        "sleepTimeBetweenRequest = 1 # 1 second\n",
        "\n",
        "def getShoeInfo(mintObj):\n",
        "    data = http_client.get_account_info(mintObj[\"metaAddress\"])\n",
        "    rawdata = data[\"result\"][\"value\"][\"data\"][0]\n",
        "    metadata = unpack_metadata_account(rawdata)\n",
        "    mintObj[\"is_mutable\"] = metadata[\"is_mutable\"]\n",
        "    mintObj[\"primary_sale_happened\"] = metadata[\"primary_sale_happened\"]\n",
        "    mintObj[\"symbol\"] = metadata[\"data\"][\"symbol\"]\n",
        "    mintObj[\"uri\"] = metadata[\"data\"][\"uri\"]\n",
        "    mintObj[\"seller_fee_basis_points\"] = metadata[\"data\"][\"seller_fee_basis_points\"]\n",
        "    mintObj[\"creators\"] = metadata[\"data\"][\"creators\"]\n",
        "    stepnUri = metadata[\"data\"][\"uri\"]\n",
        "    req = Request(stepnUri, headers={'User-Agent': 'Mozilla/5.0'})\n",
        "    shoeData = json.loads(urlopen(req).read())\n",
        "    mintObj[\"name\"] = shoeData[\"name\"]\n",
        "    mintObj[\"description\"] = shoeData[\"description\"]\n",
        "    mintObj[\"image\"] = shoeData[\"image\"]\n",
        "    for attr in shoeData[\"attributes\"]:\n",
        "        mintObj[attr[\"trait_type\"]] = attr[\"value\"]\n",
        "    print(stepnUri)\n",
        "    shoeArr.append(mintObj)\n",
        "    \n",
        "\n",
        "if __name__ == \"__main__\":\n",
        "    threads = list()\n",
        "    for mintObj in mintArr:\n",
        "        x = threading.Thread(target=getShoeInfo, args=(mintObj,))\n",
        "        threads.append(x)\n",
        "        x.start()\n",
        "        time.sleep(sleepTimeBetweenRequest)\n",
        "    for index, thread in enumerate(threads):\n",
        "        thread.join()"
      ],
      "metadata": {
        "colab": {
          "base_uri": "https://localhost:8080/"
        },
        "id": "Z7u_ezZ_ycbs",
        "outputId": "7b53582d-8603-480c-85b9-e096e80fbc6e"
      },
      "execution_count": null,
      "outputs": [
        {
          "output_type": "stream",
          "name": "stdout",
          "text": [
            "https://api.stepn.com/run/nftjson/103/100098400115\n",
            "https://api.stepn.com/run/nftjson/103/74943160245\n",
            "https://api.stepn.com/run/nftjson/103/90178694514\n",
            "https://api.stepn.com/run/nftjson/103/93002654859\n",
            "https://api.stepn.com/run/nftjson/103/121108538635\n",
            "https://api.stepn.com/run/nftjson/103/109598897569\n",
            "https://api.stepn.com/run/nftjson/103/91816402919\n",
            "https://api.stepn.com/run/nftjson/103/147882251489\n",
            "https://api.stepn.com/run/nftjson/103/34371383631\n",
            "https://api.stepn.com/run/nftjson/103/81430058021\n",
            "https://api.stepn.com/run/nftjson/103/132908497965\n",
            "https://api.stepn.com/run/nftjson/103/120255620447\n",
            "https://api.stepn.com/run/nftjson/103/149237521401\n",
            "https://api.stepn.com/run/nftjson/103/47344326569\n",
            "https://api.stepn.com/run/nftjson/103/169100562369\n",
            "https://api.stepn.com/run/nftjson/103/185416094927\n",
            "https://api.stepn.com/run/nftjson/103/50406358749\n",
            "https://api.stepn.com/run/nftjson/103/86432283245\n",
            "https://api.stepn.com/run/nftjson/103/104668000567\n",
            "https://api.stepn.com/run/nftjson/103/51075064735\n",
            "https://api.stepn.com/run/nftjson/103/120734236055\n",
            "https://api.stepn.com/run/nftjson/103/129637200575\n",
            "https://api.stepn.com/run/nftjson/103/145809230007\n",
            "https://api.stepn.com/run/nftjson/103/186604592995\n",
            "https://api.stepn.com/run/nftjson/103/157449953923\n",
            "https://api.stepn.com/run/nftjson/103/134785414585\n",
            "https://api.stepn.com/run/nftjson/103/47321679205\n",
            "https://api.stepn.com/run/nftjson/103/147384118141\n",
            "https://api.stepn.com/run/nftjson/103/35329199627\n",
            "https://api.stepn.com/run/nftjson/103/75194179491\n",
            "https://api.stepn.com/run/nftjson/103/131394131927\n",
            "https://api.stepn.com/run/nftjson/103/52935489129\n",
            "https://api.stepn.com/run/nftjson/103/86108272633\n",
            "https://api.stepn.com/run/nftjson/103/107724414453\n",
            "https://api.stepn.com/run/nftjson/103/198649075633\n",
            "https://api.stepn.com/run/nftjson/103/61160077647\n",
            "https://api.stepn.com/run/nftjson/103/123126230027\n",
            "https://api.stepn.com/run/nftjson/103/22385396075\n",
            "https://api.stepn.com/run/nftjson/103/180501218697\n",
            "https://api.stepn.com/run/nftjson/103/192420421195\n",
            "https://api.stepn.com/run/nftjson/103/130927074845\n",
            "https://api.stepn.com/run/nftjson/103/77030693783\n",
            "https://api.stepn.com/run/nftjson/103/57324705531\n",
            "https://api.stepn.com/run/nftjson/103/174746064331\n",
            "https://api.stepn.com/run/nftjson/103/165072629595\n",
            "https://api.stepn.com/run/nftjson/103/51507787643\n",
            "https://api.stepn.com/run/nftjson/103/191636959225\n",
            "https://api.stepn.com/run/nftjson/103/59771662961\n",
            "https://api.stepn.com/run/nftjson/103/159816304103\n",
            "https://api.stepn.com/run/nftjson/103/65508502951\n",
            "https://api.stepn.com/run/nftjson/103/117536933489\n",
            "https://api.stepn.com/run/nftjson/103/103254029141\n",
            "https://api.stepn.com/run/nftjson/103/193351853799\n",
            "https://api.stepn.com/run/nftjson/103/92390823439\n",
            "https://api.stepn.com/run/nftjson/103/119774952525\n"
          ]
        }
      ]
    },
    {
      "cell_type": "markdown",
      "source": [
        "# Analysis:"
      ],
      "metadata": {
        "id": "La-QEGbTy89s"
      }
    },
    {
      "cell_type": "code",
      "source": [
        "import pandas as pd\n",
        "\n",
        "shoedf = pd.DataFrame(shoeArr, columns = shoeArr[0].keys())"
      ],
      "metadata": {
        "id": "Zlxpmf2fyceV"
      },
      "execution_count": null,
      "outputs": []
    },
    {
      "cell_type": "markdown",
      "source": [
        "### Save to csv"
      ],
      "metadata": {
        "id": "2ZRBcG-XzEmm"
      }
    },
    {
      "cell_type": "code",
      "source": [
        "shoedf.to_csv(\"save.csv\", sep=',', encoding='utf-8')"
      ],
      "metadata": {
        "id": "vcTJ7ugMychA"
      },
      "execution_count": null,
      "outputs": []
    },
    {
      "cell_type": "markdown",
      "source": [
        "### Read from csv"
      ],
      "metadata": {
        "id": "VTLd81fczIzl"
      }
    },
    {
      "cell_type": "code",
      "source": [
        "shoedf = pd.read_csv('save.csv')\n"
      ],
      "metadata": {
        "id": "dSVFqxLrycm9"
      },
      "execution_count": null,
      "outputs": []
    },
    {
      "cell_type": "markdown",
      "source": [
        "### Listing all new shoes"
      ],
      "metadata": {
        "id": "QCN_Ty9gzM8X"
      }
    },
    {
      "cell_type": "code",
      "source": [
        "from IPython.display import Image, HTML, display\n",
        "\n",
        "htmlStr = '<div class=\"row\">'\n",
        "for shoe in shoeArr:\n",
        "  try:\n",
        "    htmlStr += '<img src=' + shoe[\"image\"]+' style=\"width:150px\"> </img>'\n",
        "    htmlStr += '<p>' + shoe[\"name\"]+'</p>'\n",
        "    htmlStr += '<p>' + shoe[\"Sneaker quality\"]+'</p>'\n",
        "    htmlStr += '<p>' + shoe[\"Sneaker type\"]+'</p>'\n",
        "    mintTime = time.strftime('%Y-%m-%d %H:%M:%S', time.localtime(shoe[\"blockTime\"]))\n",
        "    htmlStr += '<p> Minted at ' + mintTime +'</p>'\n",
        "    htmlStr += '<a href=\"'+ explorerULRAdd + shoe[\"mintAddress\"]+'\" target=”_blank”>Mint address</a>'\n",
        "    htmlStr += '<p>***</p>'\n",
        "  except Exception:\n",
        "    pass\n",
        "htmlStr += '<div>'\n",
        "HTML(htmlStr)"
      ],
      "metadata": {
        "colab": {
          "base_uri": "https://localhost:8080/",
          "height": 1000
        },
        "id": "FHdUF0ETzOdD",
        "outputId": "471ec7cf-ecf4-4f39-eefd-db3ecb565af0"
      },
      "execution_count": null,
      "outputs": [
        {
          "output_type": "execute_result",
          "data": {
            "text/plain": [
              "<IPython.core.display.HTML object>"
            ],
            "text/html": [
              "<div class=\"row\"><img src=https://res.stepn.com/imgOut/14/1/m2186e5_88871542881642f3886688ffff6388ff0122_67_chain.png style=\"width:150px\"> </img><p>Sneaker #443442195</p><p>Common</p><p>Walker</p><p> Minted at 2022-07-04 02:50:01</p><a href=\"https://explorer.solana.com/address/P3TsW7wRNqmJ32Dpk54YtfqA2QMMP6dt4SwHuzkUL5S\" target=”_blank”>Mint address</a><p>***</p><img src=https://arweave.net/Iz12GYQ-AsNonqJ0QQokVBtR1jxaPjSTuBF3xh-OVpc style=\"width:150px\"> </img><p>Sneaker #232651699</p><p>Common</p><p>Jogger</p><p> Minted at 2022-07-04 02:46:03</p><a href=\"https://explorer.solana.com/address/P7MTbPCKy4NyD4s2Yt1rHznHCZjzcpEVY1pCscKoXN2\" target=”_blank”>Mint address</a><p>***</p><img src=https://arweave.net/WSmxA-_cobYOanryEuLWk61_McLMhv6AIo0BnE6f3yg style=\"width:150px\"> </img><p>STEPN Shoebox #812068589</p><img src=https://arweave.net/b7JjRcWoOYBEJ-oLwnsw0nivENwTUsswXcLxuhwcf_A style=\"width:150px\"> </img><p>Sneaker #885672710</p><p>Common</p><p>Jogger</p><p> Minted at 2022-07-04 02:45:00</p><a href=\"https://explorer.solana.com/address/GwVNf1XRb3XbB49Jb1pL1ZyTtxJuLGdL1aau6JuUvGeD\" target=”_blank”>Mint address</a><p>***</p><img src=https://arweave.net/nWE_VLRvPI2TCp0aQprAT5ttbZGcR9QX0CBo-rRa4vI style=\"width:150px\"> </img><p>Sneaker #561919015</p><p>Common</p><p>Jogger</p><p> Minted at 2022-07-04 02:44:03</p><a href=\"https://explorer.solana.com/address/CiwjcsmzaZd8jbicAkmoYPvbPGgs2EHdWCTtKozDc33k\" target=”_blank”>Mint address</a><p>***</p><img src=https://arweave.net/qDL0DYlsO81kKTzkoETx005K2UYeK121e5qVTT2Gzds style=\"width:150px\"> </img><p>Sneaker #567990804</p><p>Common</p><p>Walker</p><p> Minted at 2022-07-04 02:44:03</p><a href=\"https://explorer.solana.com/address/5XPWbFiuxFbqNhjefq4FeJNoQZ9jAmMGAetHTnQWPdYY\" target=”_blank”>Mint address</a><p>***</p><img src=https://arweave.net/VtzAo9cO-E2D-Co4bzhdRlN_8qT8qsi5WaGghxsb9T0 style=\"width:150px\"> </img><p>Sneaker #572931379</p><p>Common</p><p>Runner</p><p> Minted at 2022-07-04 02:40:58</p><a href=\"https://explorer.solana.com/address/GmJ2KmiUiGV8oqBC9mBGEcsja13vLLT8oRtcmKqGRBTF\" target=”_blank”>Mint address</a><p>***</p><img src=https://arweave.net/7uQHh-M3CDlSqaxRFdMlJoIFfANF_QYx2s4cj80_9xc style=\"width:150px\"> </img><p>Sneaker #943892671</p><p>Common</p><p>Jogger</p><p> Minted at 2022-07-04 02:38:04</p><a href=\"https://explorer.solana.com/address/AisHx1N8shrxgULD7oYcfjwT952Eq5ns1a4xDeKfm95D\" target=”_blank”>Mint address</a><p>***</p><img src=https://arweave.net/WO8VadBkr2_yP1UsPb7SXix_sk0DsBiOSMkdPeob868 style=\"width:150px\"> </img><p>Sneaker #499116148</p><p>Common</p><p>Walker</p><p> Minted at 2022-07-04 02:36:59</p><a href=\"https://explorer.solana.com/address/4xDJmtrjtkKa35siAu8PSVGNaChxyj5yn4iArXJKYmJX\" target=”_blank”>Mint address</a><p>***</p><img src=https://arweave.net/QSLtPHsFV27zzO4YE6UbKgaNOnsBOcdR12e6m6jHhio style=\"width:150px\"> </img><p>Sneaker #222697464</p><p>Rare</p><p>Walker</p><p> Minted at 2022-07-04 02:36:59</p><a href=\"https://explorer.solana.com/address/9eKJLN79uDikE7mEHkX8uEXUeNiMXo86CzBhVWASLfVm\" target=”_blank”>Mint address</a><p>***</p><img src=https://arweave.net/EtLVll3XRF9NfzVLxzjcIelIh4wR_4pqd5-J46dCvLY style=\"width:150px\"> </img><p>Sneaker #190128707</p><p>Common</p><p>Walker</p><p> Minted at 2022-07-04 02:36:57</p><a href=\"https://explorer.solana.com/address/GQW2833CWajghKphuCufq6yMjf1bLR567D17UNs67sVB\" target=”_blank”>Mint address</a><p>***</p><img src=https://arweave.net/sntQWk2MW8wg84m18kH76M-Nk5EvAP_vPEiMhZXlHgk style=\"width:150px\"> </img><p>Sneaker #191715775</p><p>Common</p><p>Walker</p><p> Minted at 2022-07-04 02:36:57</p><a href=\"https://explorer.solana.com/address/8oqE9Wtd9knNR44soLNG4vCDSbffMCjaBcWGUP758UVS\" target=”_blank”>Mint address</a><p>***</p><img src=https://arweave.net/AwU0QyFCN54rEhxECsnqH7BjyCM607PhQbsVtKov01k style=\"width:150px\"> </img><p>Sneaker #304180155</p><p>Common</p><p>Runner</p><p> Minted at 2022-07-04 02:36:45</p><a href=\"https://explorer.solana.com/address/8gT6zVixzRGYPuepBTCEkKU58yoXrc1dNq76jKqJfhtv\" target=”_blank”>Mint address</a><p>***</p><img src=https://arweave.net/5YDgnhNty1KEIe71xek3oqGx7qwDvymC-eIa25pTvGg style=\"width:150px\"> </img><p>Sneaker #159412024</p><p>Common</p><p>Runner</p><p> Minted at 2022-07-04 02:36:45</p><a href=\"https://explorer.solana.com/address/7GajYW8MrkoPBGL56kBrctr7b7znsQSzxk7neM3bEDMm\" target=”_blank”>Mint address</a><p>***</p><img src=https://arweave.net/_yLJFgq8zgc_5veGoNFKseJ_3jTjcfGPOIyazYSQZ94 style=\"width:150px\"> </img><p>Sneaker #962269406</p><p>Common</p><p>Runner</p><p> Minted at 2022-07-04 02:32:58</p><a href=\"https://explorer.solana.com/address/7jGi61avzVjZyjBgrUpRUpnDQg1GUWX4ApnHsnUQfU5K\" target=”_blank”>Mint address</a><p>***</p><img src=https://arweave.net/ANsrdWCvGj_r6E2AIMPQYuJXeO611wHUsp_5ipFqEKg style=\"width:150px\"> </img><p>Sneaker #944843397</p><p>Common</p><p>Runner</p><p> Minted at 2022-07-04 02:33:03</p><a href=\"https://explorer.solana.com/address/A1d6HSMoqJkmnX5a5p81fNS4br622sqzE4BYFqNwQqTr\" target=”_blank”>Mint address</a><p>***</p><img src=https://arweave.net/tr6Blo00JYHc_fcO3un-y7vsCvsSafhRk8vUC6HDbPs style=\"width:150px\"> </img><p>Sneaker #716383152</p><p>Common</p><p>Jogger</p><p> Minted at 2022-07-04 02:33:03</p><a href=\"https://explorer.solana.com/address/8s8NtBQxcdij4XMywXRRhPDRGKnbCjfUqEMWnVmicPYM\" target=”_blank”>Mint address</a><p>***</p><img src=https://arweave.net/tbsn0Y6SKeyzN8OSCdzd2JR9v-CdpdMnxc14Y5Oukwk style=\"width:150px\"> </img><p>Sneaker #986571942</p><p>Common</p><p>Runner</p><p> Minted at 2022-07-04 02:32:57</p><a href=\"https://explorer.solana.com/address/F8dhPLHXZ9cS5ZJZduLKFA1eaQjW1HLiLy71CpmmH9Wr\" target=”_blank”>Mint address</a><p>***</p><img src=https://arweave.net/Ms0E-LoKDNkNMZoUIgWe_9V9uoy4e2pVdbEYG6sbIgk style=\"width:150px\"> </img><p>Sneaker #983531313</p><p>Common</p><p>Runner</p><p> Minted at 2022-07-04 02:32:57</p><a href=\"https://explorer.solana.com/address/5yLfzgWVSmMTMcVofKsnH3gsKyn9w38ND1mUHe8Q3g53\" target=”_blank”>Mint address</a><p>***</p><img src=https://arweave.net/D9if07xHXsZzzF4AB2q6TaBzT5Aj7prSTpQqdHWbNsM style=\"width:150px\"> </img><p>Sneaker #931690679</p><p>Common</p><p>Runner</p><p> Minted at 2022-07-04 02:31:56</p><a href=\"https://explorer.solana.com/address/9xGyiJCv2DfXD2VgR6BDWWejmThyBxkfchhJStxCcwAt\" target=”_blank”>Mint address</a><p>***</p><img src=https://arweave.net/Cg-8hsiOjag8pEPhcikXRQm63uMCuWiUUU90IljVXyU style=\"width:150px\"> </img><p>Sneaker #754054034</p><p>Uncommon</p><p>Walker</p><p> Minted at 2022-07-04 02:31:56</p><a href=\"https://explorer.solana.com/address/7Z1qyjzwhnhQpkc9vFozXusapStjwvVUvq4ZQwZm7ZTs\" target=”_blank”>Mint address</a><p>***</p><img src=https://arweave.net/uNnFx8_YNlwf-eMQijQ4AvgTsm3bYZ1tKCmjmpiMtuY style=\"width:150px\"> </img><p>Sneaker #487545296</p><p>Uncommon</p><p>Walker</p><p> Minted at 2022-07-04 02:31:56</p><a href=\"https://explorer.solana.com/address/Cba2ADPKw3LyBcG8p98yxTuJbdVePvmCpsMpQHsgdG8Z\" target=”_blank”>Mint address</a><p>***</p><img src=https://arweave.net/qyolcSmuDkWf93cbmIYcU8QI3zRr4f_p88cEuSUMq54 style=\"width:150px\"> </img><p>Sneaker #899262457</p><p>Common</p><p>Runner</p><p> Minted at 2022-07-04 02:31:51</p><a href=\"https://explorer.solana.com/address/2dpXmsF3JenyBvjVWTVKc7McBPW8fko4djTfaffXFHjc\" target=”_blank”>Mint address</a><p>***</p><img src=https://arweave.net/c8VGWJDq4aVUutKc02Bvy4IMzlIpnR2h7z_dEej7soM style=\"width:150px\"> </img><p>Sneaker #816643783</p><p>Common</p><p>Runner</p><p> Minted at 2022-07-04 02:31:49</p><a href=\"https://explorer.solana.com/address/9uQ8qYQVuwUagNuBkBfhieePk6Gw2BjdCH9xJ34r2EoU\" target=”_blank”>Mint address</a><p>***</p><img src=https://arweave.net/cBATCLEb2wHjWhB7NhjrM-eHqF5_iCRxXclMcqqKbXY style=\"width:150px\"> </img><p>Sneaker #742791724</p><p>Common</p><p>Runner</p><p> Minted at 2022-07-04 02:31:15</p><a href=\"https://explorer.solana.com/address/FrmKNEvAP8Ytoce81etUVtt4aTCnFDAkVHFtyt59BmEj\" target=”_blank”>Mint address</a><p>***</p><img src=https://arweave.net/UaWVSpl5AZI1BCCFZ0bVOklq3Bg_zRKTELgjXFxcIt8 style=\"width:150px\"> </img><p>Sneaker #787840211</p><p>Common</p><p>Runner</p><p> Minted at 2022-07-04 02:31:15</p><a href=\"https://explorer.solana.com/address/9PqZpVPRvNCFwVTdaufqowXApCBzaE66VQ9KXZzM3rCt\" target=”_blank”>Mint address</a><p>***</p><img src=https://arweave.net/lAMArDlcGOMz0PonKRCk4uLSWAdMRa2Q6v1moEr1loM style=\"width:150px\"> </img><p>Sneaker #748248939</p><p>Common</p><p>Runner</p><p> Minted at 2022-07-04 02:31:03</p><a href=\"https://explorer.solana.com/address/2xfmVyCqvG7HjmZZ28xFsRa9xU6fchx8NgXCfqKyWFra\" target=”_blank”>Mint address</a><p>***</p><img src=https://arweave.net/Q57VdTsarKof9ackui0k67vTcLJvTh05RD_vCILT678 style=\"width:150px\"> </img><p>Sneaker #734644201</p><p>Common</p><p>Runner</p><p> Minted at 2022-07-04 02:30:56</p><a href=\"https://explorer.solana.com/address/6RXjocmiLWWFRvbwqVQfZYagzbjR6nsF966wm9qQWYqK\" target=”_blank”>Mint address</a><p>***</p><img src=https://arweave.net/6F6F69f45a59Bk-YT4Z1_eIfCcOMgIwIHLq_CLkjNzU style=\"width:150px\"> </img><p>Sneaker #968444400</p><p>Common</p><p>Runner</p><p> Minted at 2022-07-04 02:30:56</p><a href=\"https://explorer.solana.com/address/8VEku7BqZrY18FsrF9DwgeLyATVqu4sriqBmWccQ5UFs\" target=”_blank”>Mint address</a><p>***</p><img src=https://arweave.net/zaBRkGEQKQwi3s6BFecxKVlgr-q5KEHJLOomPfKPPZw style=\"width:150px\"> </img><p>Sneaker #584153096</p><p>Common</p><p>Runner</p><p> Minted at 2022-07-04 02:29:58</p><a href=\"https://explorer.solana.com/address/AeYysnBpWc4oDErSK24x8975zuNRKqTUjGpFUpTL8ZMo\" target=”_blank”>Mint address</a><p>***</p><img src=https://arweave.net/aHyTfzoctP_FWAiUXfTni2xomt6gekwS6Y9hul2GoL8 style=\"width:150px\"> </img><p>Sneaker #698783545</p><p>Common</p><p>Runner</p><p> Minted at 2022-07-04 02:29:58</p><a href=\"https://explorer.solana.com/address/2eE2rcpH2n2ATPgeByQUQqyjirhtiD9RHa5YMu8yY4Pd\" target=”_blank”>Mint address</a><p>***</p><img src=https://arweave.net/eIEau8J0q7WIjLW2PTRv_gR5-JYNxKcKAmSdIK9r9wM style=\"width:150px\"> </img><p>Sneaker #696411568</p><p>Common</p><p>Runner</p><p> Minted at 2022-07-04 02:29:58</p><a href=\"https://explorer.solana.com/address/2t4JfSyabygSsy5K7gy6VoWkoZWGSesJpBpWbXNhej8r\" target=”_blank”>Mint address</a><p>***</p><img src=https://arweave.net/au-rgpm1CfKCKRgq1xR4eRiFR9laqCsgIUucc0_6Plk style=\"width:150px\"> </img><p>Sneaker #880085753</p><p>Common</p><p>Runner</p><p> Minted at 2022-07-04 02:29:12</p><a href=\"https://explorer.solana.com/address/DNo4PqSPYEayfni461WKRQFNTcK2txcVjbQF59U5vTvL\" target=”_blank”>Mint address</a><p>***</p><img src=https://arweave.net/BdWhfIiz04Qfpmhozsx4u1oj6IxRlpQ2ZgbomvZgZIE style=\"width:150px\"> </img><p>Sneaker #395464749</p><p>Common</p><p>Runner</p><p> Minted at 2022-07-04 02:28:56</p><a href=\"https://explorer.solana.com/address/9r7UBB6zw5FW6UbF8TUaFMv5nMyC9cuv4z4vCfoLLqnh\" target=”_blank”>Mint address</a><p>***</p><img src=https://arweave.net/TtyKpZy4DE5Rv6PePe_INA5gXTkSzLYPUCleKffbEI8 style=\"width:150px\"> </img><p>Sneaker #368935973</p><p>Common</p><p>Runner</p><p> Minted at 2022-07-04 02:28:59</p><a href=\"https://explorer.solana.com/address/7ETn2pxc8Eway4VkxcV4xkaNFfu2Au8dnAbqVtLntQ1t\" target=”_blank”>Mint address</a><p>***</p><img src=https://arweave.net/ByOFAkG2-HoAlhluCW04T-4kT77VdAxx-kdHkKLy5GI style=\"width:150px\"> </img><p>Sneaker #953910773</p><p>Common</p><p>Trainer</p><p> Minted at 2022-07-04 02:28:55</p><a href=\"https://explorer.solana.com/address/4WqgMaud58CySDFNthE6VD1ztV2vNT6QJBDt6FwypT8q\" target=”_blank”>Mint address</a><p>***</p><img src=https://arweave.net/6P-UcNABcKx2YIC0TSRfm8PeR3fRrlYj2BUpWOJdMJo style=\"width:150px\"> </img><p>Sneaker #579612540</p><p>Common</p><p>Runner</p><p> Minted at 2022-07-04 02:28:59</p><a href=\"https://explorer.solana.com/address/AWYgQpqP99eH47mDoSaZPttx6GUFBc2Dj7vqXVsWtxkm\" target=”_blank”>Mint address</a><p>***</p><img src=https://arweave.net/XXyvqAB2XnyS2i9u5qPHRwA2wGVruM8KRb9ZcelZZck style=\"width:150px\"> </img><p>Sneaker #364299240</p><p>Common</p><p>Runner</p><p> Minted at 2022-07-04 02:28:01</p><a href=\"https://explorer.solana.com/address/ZQHeUC7g2mhaWXmiCV7fRbpuKNQx4fsNGQAi3k91Dua\" target=”_blank”>Mint address</a><p>***</p><img src=https://arweave.net/I_izf1nXbnImSUFnxiUfIOftTG17NuANMklk_S3IUUs style=\"width:150px\"> </img><p>Sneaker #476113655</p><p>Common</p><p>Runner</p><p> Minted at 2022-07-04 02:28:03</p><a href=\"https://explorer.solana.com/address/6NLLRmBvPtGroULzi6rhRiuDTrp7gB8R7YRbZ8mVXEAy\" target=”_blank”>Mint address</a><p>***</p><img src=https://arweave.net/jHgetEs_Jap_MrUnDen6ApecCKZ0rpv9vxEjXoMND0g style=\"width:150px\"> </img><p>Sneaker #865359019</p><p>Common</p><p>Runner</p><p> Minted at 2022-07-04 02:27:58</p><a href=\"https://explorer.solana.com/address/9BXhqMPiVKC58KKzU9cGFsDAfoPNmp3cJE3rRgooh67B\" target=”_blank”>Mint address</a><p>***</p><img src=https://arweave.net/rRZ27Meby25JDJaoJ91kRAlEolJQqM0SvO29tHaHbrM style=\"width:150px\"> </img><p>Sneaker #359012542</p><p>Common</p><p>Runner</p><p> Minted at 2022-07-04 02:27:10</p><a href=\"https://explorer.solana.com/address/CoMmUB72VZksDp5QwvjXSaAQkzpNn2JfyyF7fqsNTRCz\" target=”_blank”>Mint address</a><p>***</p><img src=https://arweave.net/1TjN6yLtz8zXrHmh6aLeAPqtFRHLEhM8cszM7KZItXE style=\"width:150px\"> </img><p>Sneaker #309565471</p><p>Common</p><p>Runner</p><p> Minted at 2022-07-04 02:27:10</p><a href=\"https://explorer.solana.com/address/CpwzjkjVLcvUnLyeUJnUgDjvnekYeQRXfrB9QmxBa7Xz\" target=”_blank”>Mint address</a><p>***</p><img src=https://arweave.net/WCyabhqlW06-Vg-W9ShxGLy24ugagAdfqWjXkNU11bs style=\"width:150px\"> </img><p>Sneaker #282607196</p><p>Common</p><p>Runner</p><p> Minted at 2022-07-04 02:26:06</p><a href=\"https://explorer.solana.com/address/CZ8Fbbp5nhMimSnuTrhH4kF9DLiXs8jw8Dm5siZrcc2Z\" target=”_blank”>Mint address</a><p>***</p><img src=https://arweave.net/vVomwEWXjIyq7MjcUXtisyD_vJDJtXhm7XsDX_rVUb4 style=\"width:150px\"> </img><p>Sneaker #691667112</p><p>Common</p><p>Walker</p><p> Minted at 2022-07-04 02:24:58</p><a href=\"https://explorer.solana.com/address/C8DrEWxTP7YAqDvMquFwbpE2jXwXDS6kqwJoMFrUKf5\" target=”_blank”>Mint address</a><p>***</p><img src=https://arweave.net/AOZchbGnxjtOJkxMpKOF_sKrqsXLEgFZ1rxOLEQz8_A style=\"width:150px\"> </img><p>Sneaker #201172126</p><p>Common</p><p>Runner</p><p> Minted at 2022-07-04 02:25:02</p><a href=\"https://explorer.solana.com/address/EvTPNvpNR1fGtMdNUYproK17mtQVkVwCVjJcUfV7GFEk\" target=”_blank”>Mint address</a><p>***</p><img src=https://arweave.net/JoBh8gDg9ggpv9-V1FoNC_xXY2CSu9rlyfpeBOqdgMY style=\"width:150px\"> </img><p>Sneaker #165513362</p><p>Common</p><p>Runner</p><p> Minted at 2022-07-04 02:23:57</p><a href=\"https://explorer.solana.com/address/HAe2cWyFnioMDJGHN5cvFvangM7mJci2nPEwwuVF57T5\" target=”_blank”>Mint address</a><p>***</p><img src=https://arweave.net/-ckkHa1qzlvpJWOr8ZsThyTryPyWaqQK-uupKw5172c style=\"width:150px\"> </img><p>Sneaker #470115202</p><p>Common</p><p>Walker</p><p> Minted at 2022-07-04 02:22:59</p><a href=\"https://explorer.solana.com/address/BLABhz4rkdeKe43VrqKXCu77pm7vP8V8Hk8U6HLNcTGM\" target=”_blank”>Mint address</a><p>***</p><img src=https://arweave.net/7JnnEdpXyTnHQoEHkOYVM3F2SX8N1kx1rePBKBSBwtI style=\"width:150px\"> </img><p>Sneaker #357575980</p><p>Common</p><p>Walker</p><p> Minted at 2022-07-04 02:21:58</p><a href=\"https://explorer.solana.com/address/8zoMEXg6prWjDExEkKga2QuupfwjDmGokKhVemHw1LjN\" target=”_blank”>Mint address</a><p>***</p><img src=https://arweave.net/gO5aI7qvUenYOx4On6MaFTJELWWathjGGCGLCXXzgOo style=\"width:150px\"> </img><p>Sneaker #107083546</p><p>Common</p><p>Runner</p><p> Minted at 2022-07-04 02:21:59</p><a href=\"https://explorer.solana.com/address/3q72vvP1XbqttrFf3pfPgthxKwdDC1wMacdjAAf6upt5\" target=”_blank”>Mint address</a><p>***</p><img src=https://arweave.net/ve2K5XaLRBtwowtjowZtQryhSIECxZmXPBamlRfeYO8 style=\"width:150px\"> </img><p>Sneaker #549878824</p><p>Common</p><p>Walker</p><p> Minted at 2022-07-04 02:21:58</p><a href=\"https://explorer.solana.com/address/5rDoQy8d98EPqMY6ABHN8TaLpiAPkUeSqS3V8hjPnaW4\" target=”_blank”>Mint address</a><p>***</p><img src=https://arweave.net/7Nru2xiNNGhyk5SxWrgi7wAC94brL3_EK2PjoSat17Q style=\"width:150px\"> </img><p>Sneaker #622003029</p><p>Uncommon</p><p>Jogger</p><p> Minted at 2022-07-04 02:20:58</p><a href=\"https://explorer.solana.com/address/133xxX8CgAqwtiUi1fHZ8ZmnXY7wgTezEXqeAQ7du12a\" target=”_blank”>Mint address</a><p>***</p><img src=https://arweave.net/lHXPgdO_RWua1dlkr0otn56hbPeLZYGZfYHsF06qdFI style=\"width:150px\"> </img><p>Sneaker #884207101</p><p>Uncommon</p><p>Jogger</p><p> Minted at 2022-07-04 02:20:58</p><a href=\"https://explorer.solana.com/address/CPhcom11wu3dRAEW8dRvcw3d41xmQaYCFYndAJDJ7umk\" target=”_blank”>Mint address</a><p>***</p><img src=https://arweave.net/1GMe5olLDMI75ehG_HOEV4q_UjpAGfiCC9MjV6jm4L4 style=\"width:150px\"> </img><p>Sneaker #437860760</p><p>Uncommon</p><p>Jogger</p><p> Minted at 2022-07-04 02:20:57</p><a href=\"https://explorer.solana.com/address/ErEcDmk5nBPoujVymQe7XiE5zBtnQ3xNPxNvLKzoYNWC\" target=”_blank”>Mint address</a><p>***</p><img src=https://arweave.net/EXAmyxxByJgp4yrAENGWX4wDV5PM1gt9nFWFOt_OS6Y style=\"width:150px\"> </img><p>Sneaker #773973730</p><p>Uncommon</p><p>Jogger</p><p> Minted at 2022-07-04 02:18:01</p><a href=\"https://explorer.solana.com/address/E37NGFFZ9LWLFbgHWVGnV6vSQ2HDT7VuHJ24QM8o4UbZ\" target=”_blank”>Mint address</a><p>***</p><img src=https://arweave.net/GfKbsbQL6qVB-iVYtT-oX5xej53M7ew2O67prhVJj1w style=\"width:150px\"> </img><p>Sneaker #225793495</p><p>Common</p><p>Walker</p><p> Minted at 2022-07-04 02:18:00</p><a href=\"https://explorer.solana.com/address/BKs6GuU9nnrw2uU3F8Us96hyPDmcP7NxcvGujTqdYuFA\" target=”_blank”>Mint address</a><p>***</p><div>"
            ]
          },
          "metadata": {},
          "execution_count": 43
        }
      ]
    },
    {
      "cell_type": "markdown",
      "source": [
        "# Shoe types"
      ],
      "metadata": {
        "id": "G6cioa1IGil1"
      }
    },
    {
      "cell_type": "code",
      "source": [
        "import plotly.express as px\n",
        "\n",
        "fig = px.pie(shoedf, names='Sneaker type', title='Type of shoes')\n",
        "fig.show()"
      ],
      "metadata": {
        "colab": {
          "base_uri": "https://localhost:8080/",
          "height": 542
        },
        "id": "pAJrIEGkGmE4",
        "outputId": "709dd8d6-f0fd-4ffe-ec77-2d13d757747d"
      },
      "execution_count": null,
      "outputs": [
        {
          "output_type": "display_data",
          "data": {
            "text/html": [
              "<html>\n",
              "<head><meta charset=\"utf-8\" /></head>\n",
              "<body>\n",
              "    <div>            <script src=\"https://cdnjs.cloudflare.com/ajax/libs/mathjax/2.7.5/MathJax.js?config=TeX-AMS-MML_SVG\"></script><script type=\"text/javascript\">if (window.MathJax) {MathJax.Hub.Config({SVG: {font: \"STIX-Web\"}});}</script>                <script type=\"text/javascript\">window.PlotlyConfig = {MathJaxConfig: 'local'};</script>\n",
              "        <script src=\"https://cdn.plot.ly/plotly-2.8.3.min.js\"></script>                <div id=\"5f83126d-6721-4ce9-946b-fd5514afc17d\" class=\"plotly-graph-div\" style=\"height:525px; width:100%;\"></div>            <script type=\"text/javascript\">                                    window.PLOTLYENV=window.PLOTLYENV || {};                                    if (document.getElementById(\"5f83126d-6721-4ce9-946b-fd5514afc17d\")) {                    Plotly.newPlot(                        \"5f83126d-6721-4ce9-946b-fd5514afc17d\",                        [{\"domain\":{\"x\":[0.0,1.0],\"y\":[0.0,1.0]},\"hovertemplate\":\"Sneaker type=%{label}<extra></extra>\",\"labels\":[\"Walker\",\"Jogger\",null,\"Jogger\",\"Jogger\",\"Walker\",\"Runner\",\"Jogger\",\"Walker\",\"Walker\",\"Walker\",\"Walker\",\"Runner\",\"Runner\",\"Runner\",\"Runner\",\"Jogger\",\"Runner\",\"Runner\",\"Runner\",\"Walker\",\"Walker\",\"Runner\",\"Runner\",\"Runner\",\"Runner\",\"Runner\",\"Runner\",\"Runner\",\"Runner\",\"Runner\",\"Runner\",\"Runner\",\"Runner\",\"Runner\",\"Trainer\",\"Runner\",\"Runner\",\"Runner\",\"Runner\",\"Runner\",\"Runner\",\"Runner\",\"Walker\",\"Runner\",\"Runner\",\"Walker\",\"Walker\",\"Runner\",\"Walker\",\"Jogger\",\"Jogger\",\"Jogger\",\"Jogger\",\"Walker\"],\"legendgroup\":\"\",\"name\":\"\",\"showlegend\":true,\"type\":\"pie\"}],                        {\"template\":{\"data\":{\"bar\":[{\"error_x\":{\"color\":\"#2a3f5f\"},\"error_y\":{\"color\":\"#2a3f5f\"},\"marker\":{\"line\":{\"color\":\"#E5ECF6\",\"width\":0.5},\"pattern\":{\"fillmode\":\"overlay\",\"size\":10,\"solidity\":0.2}},\"type\":\"bar\"}],\"barpolar\":[{\"marker\":{\"line\":{\"color\":\"#E5ECF6\",\"width\":0.5},\"pattern\":{\"fillmode\":\"overlay\",\"size\":10,\"solidity\":0.2}},\"type\":\"barpolar\"}],\"carpet\":[{\"aaxis\":{\"endlinecolor\":\"#2a3f5f\",\"gridcolor\":\"white\",\"linecolor\":\"white\",\"minorgridcolor\":\"white\",\"startlinecolor\":\"#2a3f5f\"},\"baxis\":{\"endlinecolor\":\"#2a3f5f\",\"gridcolor\":\"white\",\"linecolor\":\"white\",\"minorgridcolor\":\"white\",\"startlinecolor\":\"#2a3f5f\"},\"type\":\"carpet\"}],\"choropleth\":[{\"colorbar\":{\"outlinewidth\":0,\"ticks\":\"\"},\"type\":\"choropleth\"}],\"contour\":[{\"colorbar\":{\"outlinewidth\":0,\"ticks\":\"\"},\"colorscale\":[[0.0,\"#0d0887\"],[0.1111111111111111,\"#46039f\"],[0.2222222222222222,\"#7201a8\"],[0.3333333333333333,\"#9c179e\"],[0.4444444444444444,\"#bd3786\"],[0.5555555555555556,\"#d8576b\"],[0.6666666666666666,\"#ed7953\"],[0.7777777777777778,\"#fb9f3a\"],[0.8888888888888888,\"#fdca26\"],[1.0,\"#f0f921\"]],\"type\":\"contour\"}],\"contourcarpet\":[{\"colorbar\":{\"outlinewidth\":0,\"ticks\":\"\"},\"type\":\"contourcarpet\"}],\"heatmap\":[{\"colorbar\":{\"outlinewidth\":0,\"ticks\":\"\"},\"colorscale\":[[0.0,\"#0d0887\"],[0.1111111111111111,\"#46039f\"],[0.2222222222222222,\"#7201a8\"],[0.3333333333333333,\"#9c179e\"],[0.4444444444444444,\"#bd3786\"],[0.5555555555555556,\"#d8576b\"],[0.6666666666666666,\"#ed7953\"],[0.7777777777777778,\"#fb9f3a\"],[0.8888888888888888,\"#fdca26\"],[1.0,\"#f0f921\"]],\"type\":\"heatmap\"}],\"heatmapgl\":[{\"colorbar\":{\"outlinewidth\":0,\"ticks\":\"\"},\"colorscale\":[[0.0,\"#0d0887\"],[0.1111111111111111,\"#46039f\"],[0.2222222222222222,\"#7201a8\"],[0.3333333333333333,\"#9c179e\"],[0.4444444444444444,\"#bd3786\"],[0.5555555555555556,\"#d8576b\"],[0.6666666666666666,\"#ed7953\"],[0.7777777777777778,\"#fb9f3a\"],[0.8888888888888888,\"#fdca26\"],[1.0,\"#f0f921\"]],\"type\":\"heatmapgl\"}],\"histogram\":[{\"marker\":{\"pattern\":{\"fillmode\":\"overlay\",\"size\":10,\"solidity\":0.2}},\"type\":\"histogram\"}],\"histogram2d\":[{\"colorbar\":{\"outlinewidth\":0,\"ticks\":\"\"},\"colorscale\":[[0.0,\"#0d0887\"],[0.1111111111111111,\"#46039f\"],[0.2222222222222222,\"#7201a8\"],[0.3333333333333333,\"#9c179e\"],[0.4444444444444444,\"#bd3786\"],[0.5555555555555556,\"#d8576b\"],[0.6666666666666666,\"#ed7953\"],[0.7777777777777778,\"#fb9f3a\"],[0.8888888888888888,\"#fdca26\"],[1.0,\"#f0f921\"]],\"type\":\"histogram2d\"}],\"histogram2dcontour\":[{\"colorbar\":{\"outlinewidth\":0,\"ticks\":\"\"},\"colorscale\":[[0.0,\"#0d0887\"],[0.1111111111111111,\"#46039f\"],[0.2222222222222222,\"#7201a8\"],[0.3333333333333333,\"#9c179e\"],[0.4444444444444444,\"#bd3786\"],[0.5555555555555556,\"#d8576b\"],[0.6666666666666666,\"#ed7953\"],[0.7777777777777778,\"#fb9f3a\"],[0.8888888888888888,\"#fdca26\"],[1.0,\"#f0f921\"]],\"type\":\"histogram2dcontour\"}],\"mesh3d\":[{\"colorbar\":{\"outlinewidth\":0,\"ticks\":\"\"},\"type\":\"mesh3d\"}],\"parcoords\":[{\"line\":{\"colorbar\":{\"outlinewidth\":0,\"ticks\":\"\"}},\"type\":\"parcoords\"}],\"pie\":[{\"automargin\":true,\"type\":\"pie\"}],\"scatter\":[{\"marker\":{\"colorbar\":{\"outlinewidth\":0,\"ticks\":\"\"}},\"type\":\"scatter\"}],\"scatter3d\":[{\"line\":{\"colorbar\":{\"outlinewidth\":0,\"ticks\":\"\"}},\"marker\":{\"colorbar\":{\"outlinewidth\":0,\"ticks\":\"\"}},\"type\":\"scatter3d\"}],\"scattercarpet\":[{\"marker\":{\"colorbar\":{\"outlinewidth\":0,\"ticks\":\"\"}},\"type\":\"scattercarpet\"}],\"scattergeo\":[{\"marker\":{\"colorbar\":{\"outlinewidth\":0,\"ticks\":\"\"}},\"type\":\"scattergeo\"}],\"scattergl\":[{\"marker\":{\"colorbar\":{\"outlinewidth\":0,\"ticks\":\"\"}},\"type\":\"scattergl\"}],\"scattermapbox\":[{\"marker\":{\"colorbar\":{\"outlinewidth\":0,\"ticks\":\"\"}},\"type\":\"scattermapbox\"}],\"scatterpolar\":[{\"marker\":{\"colorbar\":{\"outlinewidth\":0,\"ticks\":\"\"}},\"type\":\"scatterpolar\"}],\"scatterpolargl\":[{\"marker\":{\"colorbar\":{\"outlinewidth\":0,\"ticks\":\"\"}},\"type\":\"scatterpolargl\"}],\"scatterternary\":[{\"marker\":{\"colorbar\":{\"outlinewidth\":0,\"ticks\":\"\"}},\"type\":\"scatterternary\"}],\"surface\":[{\"colorbar\":{\"outlinewidth\":0,\"ticks\":\"\"},\"colorscale\":[[0.0,\"#0d0887\"],[0.1111111111111111,\"#46039f\"],[0.2222222222222222,\"#7201a8\"],[0.3333333333333333,\"#9c179e\"],[0.4444444444444444,\"#bd3786\"],[0.5555555555555556,\"#d8576b\"],[0.6666666666666666,\"#ed7953\"],[0.7777777777777778,\"#fb9f3a\"],[0.8888888888888888,\"#fdca26\"],[1.0,\"#f0f921\"]],\"type\":\"surface\"}],\"table\":[{\"cells\":{\"fill\":{\"color\":\"#EBF0F8\"},\"line\":{\"color\":\"white\"}},\"header\":{\"fill\":{\"color\":\"#C8D4E3\"},\"line\":{\"color\":\"white\"}},\"type\":\"table\"}]},\"layout\":{\"annotationdefaults\":{\"arrowcolor\":\"#2a3f5f\",\"arrowhead\":0,\"arrowwidth\":1},\"autotypenumbers\":\"strict\",\"coloraxis\":{\"colorbar\":{\"outlinewidth\":0,\"ticks\":\"\"}},\"colorscale\":{\"diverging\":[[0,\"#8e0152\"],[0.1,\"#c51b7d\"],[0.2,\"#de77ae\"],[0.3,\"#f1b6da\"],[0.4,\"#fde0ef\"],[0.5,\"#f7f7f7\"],[0.6,\"#e6f5d0\"],[0.7,\"#b8e186\"],[0.8,\"#7fbc41\"],[0.9,\"#4d9221\"],[1,\"#276419\"]],\"sequential\":[[0.0,\"#0d0887\"],[0.1111111111111111,\"#46039f\"],[0.2222222222222222,\"#7201a8\"],[0.3333333333333333,\"#9c179e\"],[0.4444444444444444,\"#bd3786\"],[0.5555555555555556,\"#d8576b\"],[0.6666666666666666,\"#ed7953\"],[0.7777777777777778,\"#fb9f3a\"],[0.8888888888888888,\"#fdca26\"],[1.0,\"#f0f921\"]],\"sequentialminus\":[[0.0,\"#0d0887\"],[0.1111111111111111,\"#46039f\"],[0.2222222222222222,\"#7201a8\"],[0.3333333333333333,\"#9c179e\"],[0.4444444444444444,\"#bd3786\"],[0.5555555555555556,\"#d8576b\"],[0.6666666666666666,\"#ed7953\"],[0.7777777777777778,\"#fb9f3a\"],[0.8888888888888888,\"#fdca26\"],[1.0,\"#f0f921\"]]},\"colorway\":[\"#636efa\",\"#EF553B\",\"#00cc96\",\"#ab63fa\",\"#FFA15A\",\"#19d3f3\",\"#FF6692\",\"#B6E880\",\"#FF97FF\",\"#FECB52\"],\"font\":{\"color\":\"#2a3f5f\"},\"geo\":{\"bgcolor\":\"white\",\"lakecolor\":\"white\",\"landcolor\":\"#E5ECF6\",\"showlakes\":true,\"showland\":true,\"subunitcolor\":\"white\"},\"hoverlabel\":{\"align\":\"left\"},\"hovermode\":\"closest\",\"mapbox\":{\"style\":\"light\"},\"paper_bgcolor\":\"white\",\"plot_bgcolor\":\"#E5ECF6\",\"polar\":{\"angularaxis\":{\"gridcolor\":\"white\",\"linecolor\":\"white\",\"ticks\":\"\"},\"bgcolor\":\"#E5ECF6\",\"radialaxis\":{\"gridcolor\":\"white\",\"linecolor\":\"white\",\"ticks\":\"\"}},\"scene\":{\"xaxis\":{\"backgroundcolor\":\"#E5ECF6\",\"gridcolor\":\"white\",\"gridwidth\":2,\"linecolor\":\"white\",\"showbackground\":true,\"ticks\":\"\",\"zerolinecolor\":\"white\"},\"yaxis\":{\"backgroundcolor\":\"#E5ECF6\",\"gridcolor\":\"white\",\"gridwidth\":2,\"linecolor\":\"white\",\"showbackground\":true,\"ticks\":\"\",\"zerolinecolor\":\"white\"},\"zaxis\":{\"backgroundcolor\":\"#E5ECF6\",\"gridcolor\":\"white\",\"gridwidth\":2,\"linecolor\":\"white\",\"showbackground\":true,\"ticks\":\"\",\"zerolinecolor\":\"white\"}},\"shapedefaults\":{\"line\":{\"color\":\"#2a3f5f\"}},\"ternary\":{\"aaxis\":{\"gridcolor\":\"white\",\"linecolor\":\"white\",\"ticks\":\"\"},\"baxis\":{\"gridcolor\":\"white\",\"linecolor\":\"white\",\"ticks\":\"\"},\"bgcolor\":\"#E5ECF6\",\"caxis\":{\"gridcolor\":\"white\",\"linecolor\":\"white\",\"ticks\":\"\"}},\"title\":{\"x\":0.05},\"xaxis\":{\"automargin\":true,\"gridcolor\":\"white\",\"linecolor\":\"white\",\"ticks\":\"\",\"title\":{\"standoff\":15},\"zerolinecolor\":\"white\",\"zerolinewidth\":2},\"yaxis\":{\"automargin\":true,\"gridcolor\":\"white\",\"linecolor\":\"white\",\"ticks\":\"\",\"title\":{\"standoff\":15},\"zerolinecolor\":\"white\",\"zerolinewidth\":2}}},\"legend\":{\"tracegroupgap\":0},\"title\":{\"text\":\"Type of shoes\"}},                        {\"responsive\": true}                    ).then(function(){\n",
              "                            \n",
              "var gd = document.getElementById('5f83126d-6721-4ce9-946b-fd5514afc17d');\n",
              "var x = new MutationObserver(function (mutations, observer) {{\n",
              "        var display = window.getComputedStyle(gd).display;\n",
              "        if (!display || display === 'none') {{\n",
              "            console.log([gd, 'removed!']);\n",
              "            Plotly.purge(gd);\n",
              "            observer.disconnect();\n",
              "        }}\n",
              "}});\n",
              "\n",
              "// Listen for the removal of the full notebook cells\n",
              "var notebookContainer = gd.closest('#notebook-container');\n",
              "if (notebookContainer) {{\n",
              "    x.observe(notebookContainer, {childList: true});\n",
              "}}\n",
              "\n",
              "// Listen for the clearing of the current output cell\n",
              "var outputEl = gd.closest('.output');\n",
              "if (outputEl) {{\n",
              "    x.observe(outputEl, {childList: true});\n",
              "}}\n",
              "\n",
              "                        })                };                            </script>        </div>\n",
              "</body>\n",
              "</html>"
            ]
          },
          "metadata": {}
        }
      ]
    },
    {
      "cell_type": "markdown",
      "source": [
        "### Shoe rarity"
      ],
      "metadata": {
        "id": "myZHn1ufGrVE"
      }
    },
    {
      "cell_type": "code",
      "source": [
        "import plotly.express as px\n",
        "\n",
        "fig = px.pie(shoedf, names='Sneaker quality', title='Rarity of shoes')\n",
        "fig.show()"
      ],
      "metadata": {
        "colab": {
          "base_uri": "https://localhost:8080/",
          "height": 542
        },
        "id": "bWU43ngVGsuY",
        "outputId": "ab19811c-0f26-4a5e-8c75-ea597f92af17"
      },
      "execution_count": null,
      "outputs": [
        {
          "output_type": "display_data",
          "data": {
            "text/html": [
              "<html>\n",
              "<head><meta charset=\"utf-8\" /></head>\n",
              "<body>\n",
              "    <div>            <script src=\"https://cdnjs.cloudflare.com/ajax/libs/mathjax/2.7.5/MathJax.js?config=TeX-AMS-MML_SVG\"></script><script type=\"text/javascript\">if (window.MathJax) {MathJax.Hub.Config({SVG: {font: \"STIX-Web\"}});}</script>                <script type=\"text/javascript\">window.PlotlyConfig = {MathJaxConfig: 'local'};</script>\n",
              "        <script src=\"https://cdn.plot.ly/plotly-2.8.3.min.js\"></script>                <div id=\"67e78994-b3ff-42b3-a11d-2350fbcdcee5\" class=\"plotly-graph-div\" style=\"height:525px; width:100%;\"></div>            <script type=\"text/javascript\">                                    window.PLOTLYENV=window.PLOTLYENV || {};                                    if (document.getElementById(\"67e78994-b3ff-42b3-a11d-2350fbcdcee5\")) {                    Plotly.newPlot(                        \"67e78994-b3ff-42b3-a11d-2350fbcdcee5\",                        [{\"domain\":{\"x\":[0.0,1.0],\"y\":[0.0,1.0]},\"hovertemplate\":\"Sneaker quality=%{label}<extra></extra>\",\"labels\":[\"Common\",\"Common\",null,\"Common\",\"Common\",\"Common\",\"Common\",\"Common\",\"Common\",\"Rare\",\"Common\",\"Common\",\"Common\",\"Common\",\"Common\",\"Common\",\"Common\",\"Common\",\"Common\",\"Common\",\"Uncommon\",\"Uncommon\",\"Common\",\"Common\",\"Common\",\"Common\",\"Common\",\"Common\",\"Common\",\"Common\",\"Common\",\"Common\",\"Common\",\"Common\",\"Common\",\"Common\",\"Common\",\"Common\",\"Common\",\"Common\",\"Common\",\"Common\",\"Common\",\"Common\",\"Common\",\"Common\",\"Common\",\"Common\",\"Common\",\"Common\",\"Uncommon\",\"Uncommon\",\"Uncommon\",\"Uncommon\",\"Common\"],\"legendgroup\":\"\",\"name\":\"\",\"showlegend\":true,\"type\":\"pie\"}],                        {\"template\":{\"data\":{\"bar\":[{\"error_x\":{\"color\":\"#2a3f5f\"},\"error_y\":{\"color\":\"#2a3f5f\"},\"marker\":{\"line\":{\"color\":\"#E5ECF6\",\"width\":0.5},\"pattern\":{\"fillmode\":\"overlay\",\"size\":10,\"solidity\":0.2}},\"type\":\"bar\"}],\"barpolar\":[{\"marker\":{\"line\":{\"color\":\"#E5ECF6\",\"width\":0.5},\"pattern\":{\"fillmode\":\"overlay\",\"size\":10,\"solidity\":0.2}},\"type\":\"barpolar\"}],\"carpet\":[{\"aaxis\":{\"endlinecolor\":\"#2a3f5f\",\"gridcolor\":\"white\",\"linecolor\":\"white\",\"minorgridcolor\":\"white\",\"startlinecolor\":\"#2a3f5f\"},\"baxis\":{\"endlinecolor\":\"#2a3f5f\",\"gridcolor\":\"white\",\"linecolor\":\"white\",\"minorgridcolor\":\"white\",\"startlinecolor\":\"#2a3f5f\"},\"type\":\"carpet\"}],\"choropleth\":[{\"colorbar\":{\"outlinewidth\":0,\"ticks\":\"\"},\"type\":\"choropleth\"}],\"contour\":[{\"colorbar\":{\"outlinewidth\":0,\"ticks\":\"\"},\"colorscale\":[[0.0,\"#0d0887\"],[0.1111111111111111,\"#46039f\"],[0.2222222222222222,\"#7201a8\"],[0.3333333333333333,\"#9c179e\"],[0.4444444444444444,\"#bd3786\"],[0.5555555555555556,\"#d8576b\"],[0.6666666666666666,\"#ed7953\"],[0.7777777777777778,\"#fb9f3a\"],[0.8888888888888888,\"#fdca26\"],[1.0,\"#f0f921\"]],\"type\":\"contour\"}],\"contourcarpet\":[{\"colorbar\":{\"outlinewidth\":0,\"ticks\":\"\"},\"type\":\"contourcarpet\"}],\"heatmap\":[{\"colorbar\":{\"outlinewidth\":0,\"ticks\":\"\"},\"colorscale\":[[0.0,\"#0d0887\"],[0.1111111111111111,\"#46039f\"],[0.2222222222222222,\"#7201a8\"],[0.3333333333333333,\"#9c179e\"],[0.4444444444444444,\"#bd3786\"],[0.5555555555555556,\"#d8576b\"],[0.6666666666666666,\"#ed7953\"],[0.7777777777777778,\"#fb9f3a\"],[0.8888888888888888,\"#fdca26\"],[1.0,\"#f0f921\"]],\"type\":\"heatmap\"}],\"heatmapgl\":[{\"colorbar\":{\"outlinewidth\":0,\"ticks\":\"\"},\"colorscale\":[[0.0,\"#0d0887\"],[0.1111111111111111,\"#46039f\"],[0.2222222222222222,\"#7201a8\"],[0.3333333333333333,\"#9c179e\"],[0.4444444444444444,\"#bd3786\"],[0.5555555555555556,\"#d8576b\"],[0.6666666666666666,\"#ed7953\"],[0.7777777777777778,\"#fb9f3a\"],[0.8888888888888888,\"#fdca26\"],[1.0,\"#f0f921\"]],\"type\":\"heatmapgl\"}],\"histogram\":[{\"marker\":{\"pattern\":{\"fillmode\":\"overlay\",\"size\":10,\"solidity\":0.2}},\"type\":\"histogram\"}],\"histogram2d\":[{\"colorbar\":{\"outlinewidth\":0,\"ticks\":\"\"},\"colorscale\":[[0.0,\"#0d0887\"],[0.1111111111111111,\"#46039f\"],[0.2222222222222222,\"#7201a8\"],[0.3333333333333333,\"#9c179e\"],[0.4444444444444444,\"#bd3786\"],[0.5555555555555556,\"#d8576b\"],[0.6666666666666666,\"#ed7953\"],[0.7777777777777778,\"#fb9f3a\"],[0.8888888888888888,\"#fdca26\"],[1.0,\"#f0f921\"]],\"type\":\"histogram2d\"}],\"histogram2dcontour\":[{\"colorbar\":{\"outlinewidth\":0,\"ticks\":\"\"},\"colorscale\":[[0.0,\"#0d0887\"],[0.1111111111111111,\"#46039f\"],[0.2222222222222222,\"#7201a8\"],[0.3333333333333333,\"#9c179e\"],[0.4444444444444444,\"#bd3786\"],[0.5555555555555556,\"#d8576b\"],[0.6666666666666666,\"#ed7953\"],[0.7777777777777778,\"#fb9f3a\"],[0.8888888888888888,\"#fdca26\"],[1.0,\"#f0f921\"]],\"type\":\"histogram2dcontour\"}],\"mesh3d\":[{\"colorbar\":{\"outlinewidth\":0,\"ticks\":\"\"},\"type\":\"mesh3d\"}],\"parcoords\":[{\"line\":{\"colorbar\":{\"outlinewidth\":0,\"ticks\":\"\"}},\"type\":\"parcoords\"}],\"pie\":[{\"automargin\":true,\"type\":\"pie\"}],\"scatter\":[{\"marker\":{\"colorbar\":{\"outlinewidth\":0,\"ticks\":\"\"}},\"type\":\"scatter\"}],\"scatter3d\":[{\"line\":{\"colorbar\":{\"outlinewidth\":0,\"ticks\":\"\"}},\"marker\":{\"colorbar\":{\"outlinewidth\":0,\"ticks\":\"\"}},\"type\":\"scatter3d\"}],\"scattercarpet\":[{\"marker\":{\"colorbar\":{\"outlinewidth\":0,\"ticks\":\"\"}},\"type\":\"scattercarpet\"}],\"scattergeo\":[{\"marker\":{\"colorbar\":{\"outlinewidth\":0,\"ticks\":\"\"}},\"type\":\"scattergeo\"}],\"scattergl\":[{\"marker\":{\"colorbar\":{\"outlinewidth\":0,\"ticks\":\"\"}},\"type\":\"scattergl\"}],\"scattermapbox\":[{\"marker\":{\"colorbar\":{\"outlinewidth\":0,\"ticks\":\"\"}},\"type\":\"scattermapbox\"}],\"scatterpolar\":[{\"marker\":{\"colorbar\":{\"outlinewidth\":0,\"ticks\":\"\"}},\"type\":\"scatterpolar\"}],\"scatterpolargl\":[{\"marker\":{\"colorbar\":{\"outlinewidth\":0,\"ticks\":\"\"}},\"type\":\"scatterpolargl\"}],\"scatterternary\":[{\"marker\":{\"colorbar\":{\"outlinewidth\":0,\"ticks\":\"\"}},\"type\":\"scatterternary\"}],\"surface\":[{\"colorbar\":{\"outlinewidth\":0,\"ticks\":\"\"},\"colorscale\":[[0.0,\"#0d0887\"],[0.1111111111111111,\"#46039f\"],[0.2222222222222222,\"#7201a8\"],[0.3333333333333333,\"#9c179e\"],[0.4444444444444444,\"#bd3786\"],[0.5555555555555556,\"#d8576b\"],[0.6666666666666666,\"#ed7953\"],[0.7777777777777778,\"#fb9f3a\"],[0.8888888888888888,\"#fdca26\"],[1.0,\"#f0f921\"]],\"type\":\"surface\"}],\"table\":[{\"cells\":{\"fill\":{\"color\":\"#EBF0F8\"},\"line\":{\"color\":\"white\"}},\"header\":{\"fill\":{\"color\":\"#C8D4E3\"},\"line\":{\"color\":\"white\"}},\"type\":\"table\"}]},\"layout\":{\"annotationdefaults\":{\"arrowcolor\":\"#2a3f5f\",\"arrowhead\":0,\"arrowwidth\":1},\"autotypenumbers\":\"strict\",\"coloraxis\":{\"colorbar\":{\"outlinewidth\":0,\"ticks\":\"\"}},\"colorscale\":{\"diverging\":[[0,\"#8e0152\"],[0.1,\"#c51b7d\"],[0.2,\"#de77ae\"],[0.3,\"#f1b6da\"],[0.4,\"#fde0ef\"],[0.5,\"#f7f7f7\"],[0.6,\"#e6f5d0\"],[0.7,\"#b8e186\"],[0.8,\"#7fbc41\"],[0.9,\"#4d9221\"],[1,\"#276419\"]],\"sequential\":[[0.0,\"#0d0887\"],[0.1111111111111111,\"#46039f\"],[0.2222222222222222,\"#7201a8\"],[0.3333333333333333,\"#9c179e\"],[0.4444444444444444,\"#bd3786\"],[0.5555555555555556,\"#d8576b\"],[0.6666666666666666,\"#ed7953\"],[0.7777777777777778,\"#fb9f3a\"],[0.8888888888888888,\"#fdca26\"],[1.0,\"#f0f921\"]],\"sequentialminus\":[[0.0,\"#0d0887\"],[0.1111111111111111,\"#46039f\"],[0.2222222222222222,\"#7201a8\"],[0.3333333333333333,\"#9c179e\"],[0.4444444444444444,\"#bd3786\"],[0.5555555555555556,\"#d8576b\"],[0.6666666666666666,\"#ed7953\"],[0.7777777777777778,\"#fb9f3a\"],[0.8888888888888888,\"#fdca26\"],[1.0,\"#f0f921\"]]},\"colorway\":[\"#636efa\",\"#EF553B\",\"#00cc96\",\"#ab63fa\",\"#FFA15A\",\"#19d3f3\",\"#FF6692\",\"#B6E880\",\"#FF97FF\",\"#FECB52\"],\"font\":{\"color\":\"#2a3f5f\"},\"geo\":{\"bgcolor\":\"white\",\"lakecolor\":\"white\",\"landcolor\":\"#E5ECF6\",\"showlakes\":true,\"showland\":true,\"subunitcolor\":\"white\"},\"hoverlabel\":{\"align\":\"left\"},\"hovermode\":\"closest\",\"mapbox\":{\"style\":\"light\"},\"paper_bgcolor\":\"white\",\"plot_bgcolor\":\"#E5ECF6\",\"polar\":{\"angularaxis\":{\"gridcolor\":\"white\",\"linecolor\":\"white\",\"ticks\":\"\"},\"bgcolor\":\"#E5ECF6\",\"radialaxis\":{\"gridcolor\":\"white\",\"linecolor\":\"white\",\"ticks\":\"\"}},\"scene\":{\"xaxis\":{\"backgroundcolor\":\"#E5ECF6\",\"gridcolor\":\"white\",\"gridwidth\":2,\"linecolor\":\"white\",\"showbackground\":true,\"ticks\":\"\",\"zerolinecolor\":\"white\"},\"yaxis\":{\"backgroundcolor\":\"#E5ECF6\",\"gridcolor\":\"white\",\"gridwidth\":2,\"linecolor\":\"white\",\"showbackground\":true,\"ticks\":\"\",\"zerolinecolor\":\"white\"},\"zaxis\":{\"backgroundcolor\":\"#E5ECF6\",\"gridcolor\":\"white\",\"gridwidth\":2,\"linecolor\":\"white\",\"showbackground\":true,\"ticks\":\"\",\"zerolinecolor\":\"white\"}},\"shapedefaults\":{\"line\":{\"color\":\"#2a3f5f\"}},\"ternary\":{\"aaxis\":{\"gridcolor\":\"white\",\"linecolor\":\"white\",\"ticks\":\"\"},\"baxis\":{\"gridcolor\":\"white\",\"linecolor\":\"white\",\"ticks\":\"\"},\"bgcolor\":\"#E5ECF6\",\"caxis\":{\"gridcolor\":\"white\",\"linecolor\":\"white\",\"ticks\":\"\"}},\"title\":{\"x\":0.05},\"xaxis\":{\"automargin\":true,\"gridcolor\":\"white\",\"linecolor\":\"white\",\"ticks\":\"\",\"title\":{\"standoff\":15},\"zerolinecolor\":\"white\",\"zerolinewidth\":2},\"yaxis\":{\"automargin\":true,\"gridcolor\":\"white\",\"linecolor\":\"white\",\"ticks\":\"\",\"title\":{\"standoff\":15},\"zerolinecolor\":\"white\",\"zerolinewidth\":2}}},\"legend\":{\"tracegroupgap\":0},\"title\":{\"text\":\"Rarity of shoes\"}},                        {\"responsive\": true}                    ).then(function(){\n",
              "                            \n",
              "var gd = document.getElementById('67e78994-b3ff-42b3-a11d-2350fbcdcee5');\n",
              "var x = new MutationObserver(function (mutations, observer) {{\n",
              "        var display = window.getComputedStyle(gd).display;\n",
              "        if (!display || display === 'none') {{\n",
              "            console.log([gd, 'removed!']);\n",
              "            Plotly.purge(gd);\n",
              "            observer.disconnect();\n",
              "        }}\n",
              "}});\n",
              "\n",
              "// Listen for the removal of the full notebook cells\n",
              "var notebookContainer = gd.closest('#notebook-container');\n",
              "if (notebookContainer) {{\n",
              "    x.observe(notebookContainer, {childList: true});\n",
              "}}\n",
              "\n",
              "// Listen for the clearing of the current output cell\n",
              "var outputEl = gd.closest('.output');\n",
              "if (outputEl) {{\n",
              "    x.observe(outputEl, {childList: true});\n",
              "}}\n",
              "\n",
              "                        })                };                            </script>        </div>\n",
              "</body>\n",
              "</html>"
            ]
          },
          "metadata": {}
        }
      ]
    },
    {
      "cell_type": "markdown",
      "source": [
        "### Shoe minting count\n"
      ],
      "metadata": {
        "id": "FdsQQswAGxvV"
      }
    },
    {
      "cell_type": "code",
      "source": [
        "import plotly.express as px\n",
        "\n",
        "fig = px.pie(shoedf, names='Shoe-minting Count', title='Minting count')\n",
        "fig.show()"
      ],
      "metadata": {
        "colab": {
          "base_uri": "https://localhost:8080/",
          "height": 542
        },
        "id": "CMWYLcHXGzv_",
        "outputId": "69a02791-1701-4e62-a2f5-63033708ba32"
      },
      "execution_count": null,
      "outputs": [
        {
          "output_type": "display_data",
          "data": {
            "text/html": [
              "<html>\n",
              "<head><meta charset=\"utf-8\" /></head>\n",
              "<body>\n",
              "    <div>            <script src=\"https://cdnjs.cloudflare.com/ajax/libs/mathjax/2.7.5/MathJax.js?config=TeX-AMS-MML_SVG\"></script><script type=\"text/javascript\">if (window.MathJax) {MathJax.Hub.Config({SVG: {font: \"STIX-Web\"}});}</script>                <script type=\"text/javascript\">window.PlotlyConfig = {MathJaxConfig: 'local'};</script>\n",
              "        <script src=\"https://cdn.plot.ly/plotly-2.8.3.min.js\"></script>                <div id=\"97cba1e4-f716-4510-b033-5e901d7f6b9a\" class=\"plotly-graph-div\" style=\"height:525px; width:100%;\"></div>            <script type=\"text/javascript\">                                    window.PLOTLYENV=window.PLOTLYENV || {};                                    if (document.getElementById(\"97cba1e4-f716-4510-b033-5e901d7f6b9a\")) {                    Plotly.newPlot(                        \"97cba1e4-f716-4510-b033-5e901d7f6b9a\",                        [{\"domain\":{\"x\":[0.0,1.0],\"y\":[0.0,1.0]},\"hovertemplate\":\"Shoe-minting Count=%{label}<extra></extra>\",\"labels\":[\"0/7\",\"2/7\",null,\"2/7\",\"4/7\",\"0/7\",\"3/7\",\"0/7\",\"2/7\",\"0/7\",\"0/7\",\"0/7\",\"2/7\",\"2/7\",\"2/7\",\"0/7\",\"1/7\",\"2/7\",\"2/7\",\"2/7\",\"0/7\",\"0/7\",\"2/7\",\"3/7\",\"2/7\",\"1/7\",\"2/7\",\"2/7\",\"0/7\",\"2/7\",\"2/7\",\"2/7\",\"1/7\",\"1/7\",\"2/7\",\"1/7\",\"2/7\",\"3/7\",\"2/7\",\"2/7\",\"2/7\",\"2/7\",\"2/7\",\"0/7\",\"2/7\",\"2/7\",\"3/7\",\"2/7\",\"2/7\",\"2/7\",\"0/7\",\"2/7\",\"0/7\",\"1/7\",\"2/7\"],\"legendgroup\":\"\",\"name\":\"\",\"showlegend\":true,\"type\":\"pie\"}],                        {\"template\":{\"data\":{\"bar\":[{\"error_x\":{\"color\":\"#2a3f5f\"},\"error_y\":{\"color\":\"#2a3f5f\"},\"marker\":{\"line\":{\"color\":\"#E5ECF6\",\"width\":0.5},\"pattern\":{\"fillmode\":\"overlay\",\"size\":10,\"solidity\":0.2}},\"type\":\"bar\"}],\"barpolar\":[{\"marker\":{\"line\":{\"color\":\"#E5ECF6\",\"width\":0.5},\"pattern\":{\"fillmode\":\"overlay\",\"size\":10,\"solidity\":0.2}},\"type\":\"barpolar\"}],\"carpet\":[{\"aaxis\":{\"endlinecolor\":\"#2a3f5f\",\"gridcolor\":\"white\",\"linecolor\":\"white\",\"minorgridcolor\":\"white\",\"startlinecolor\":\"#2a3f5f\"},\"baxis\":{\"endlinecolor\":\"#2a3f5f\",\"gridcolor\":\"white\",\"linecolor\":\"white\",\"minorgridcolor\":\"white\",\"startlinecolor\":\"#2a3f5f\"},\"type\":\"carpet\"}],\"choropleth\":[{\"colorbar\":{\"outlinewidth\":0,\"ticks\":\"\"},\"type\":\"choropleth\"}],\"contour\":[{\"colorbar\":{\"outlinewidth\":0,\"ticks\":\"\"},\"colorscale\":[[0.0,\"#0d0887\"],[0.1111111111111111,\"#46039f\"],[0.2222222222222222,\"#7201a8\"],[0.3333333333333333,\"#9c179e\"],[0.4444444444444444,\"#bd3786\"],[0.5555555555555556,\"#d8576b\"],[0.6666666666666666,\"#ed7953\"],[0.7777777777777778,\"#fb9f3a\"],[0.8888888888888888,\"#fdca26\"],[1.0,\"#f0f921\"]],\"type\":\"contour\"}],\"contourcarpet\":[{\"colorbar\":{\"outlinewidth\":0,\"ticks\":\"\"},\"type\":\"contourcarpet\"}],\"heatmap\":[{\"colorbar\":{\"outlinewidth\":0,\"ticks\":\"\"},\"colorscale\":[[0.0,\"#0d0887\"],[0.1111111111111111,\"#46039f\"],[0.2222222222222222,\"#7201a8\"],[0.3333333333333333,\"#9c179e\"],[0.4444444444444444,\"#bd3786\"],[0.5555555555555556,\"#d8576b\"],[0.6666666666666666,\"#ed7953\"],[0.7777777777777778,\"#fb9f3a\"],[0.8888888888888888,\"#fdca26\"],[1.0,\"#f0f921\"]],\"type\":\"heatmap\"}],\"heatmapgl\":[{\"colorbar\":{\"outlinewidth\":0,\"ticks\":\"\"},\"colorscale\":[[0.0,\"#0d0887\"],[0.1111111111111111,\"#46039f\"],[0.2222222222222222,\"#7201a8\"],[0.3333333333333333,\"#9c179e\"],[0.4444444444444444,\"#bd3786\"],[0.5555555555555556,\"#d8576b\"],[0.6666666666666666,\"#ed7953\"],[0.7777777777777778,\"#fb9f3a\"],[0.8888888888888888,\"#fdca26\"],[1.0,\"#f0f921\"]],\"type\":\"heatmapgl\"}],\"histogram\":[{\"marker\":{\"pattern\":{\"fillmode\":\"overlay\",\"size\":10,\"solidity\":0.2}},\"type\":\"histogram\"}],\"histogram2d\":[{\"colorbar\":{\"outlinewidth\":0,\"ticks\":\"\"},\"colorscale\":[[0.0,\"#0d0887\"],[0.1111111111111111,\"#46039f\"],[0.2222222222222222,\"#7201a8\"],[0.3333333333333333,\"#9c179e\"],[0.4444444444444444,\"#bd3786\"],[0.5555555555555556,\"#d8576b\"],[0.6666666666666666,\"#ed7953\"],[0.7777777777777778,\"#fb9f3a\"],[0.8888888888888888,\"#fdca26\"],[1.0,\"#f0f921\"]],\"type\":\"histogram2d\"}],\"histogram2dcontour\":[{\"colorbar\":{\"outlinewidth\":0,\"ticks\":\"\"},\"colorscale\":[[0.0,\"#0d0887\"],[0.1111111111111111,\"#46039f\"],[0.2222222222222222,\"#7201a8\"],[0.3333333333333333,\"#9c179e\"],[0.4444444444444444,\"#bd3786\"],[0.5555555555555556,\"#d8576b\"],[0.6666666666666666,\"#ed7953\"],[0.7777777777777778,\"#fb9f3a\"],[0.8888888888888888,\"#fdca26\"],[1.0,\"#f0f921\"]],\"type\":\"histogram2dcontour\"}],\"mesh3d\":[{\"colorbar\":{\"outlinewidth\":0,\"ticks\":\"\"},\"type\":\"mesh3d\"}],\"parcoords\":[{\"line\":{\"colorbar\":{\"outlinewidth\":0,\"ticks\":\"\"}},\"type\":\"parcoords\"}],\"pie\":[{\"automargin\":true,\"type\":\"pie\"}],\"scatter\":[{\"marker\":{\"colorbar\":{\"outlinewidth\":0,\"ticks\":\"\"}},\"type\":\"scatter\"}],\"scatter3d\":[{\"line\":{\"colorbar\":{\"outlinewidth\":0,\"ticks\":\"\"}},\"marker\":{\"colorbar\":{\"outlinewidth\":0,\"ticks\":\"\"}},\"type\":\"scatter3d\"}],\"scattercarpet\":[{\"marker\":{\"colorbar\":{\"outlinewidth\":0,\"ticks\":\"\"}},\"type\":\"scattercarpet\"}],\"scattergeo\":[{\"marker\":{\"colorbar\":{\"outlinewidth\":0,\"ticks\":\"\"}},\"type\":\"scattergeo\"}],\"scattergl\":[{\"marker\":{\"colorbar\":{\"outlinewidth\":0,\"ticks\":\"\"}},\"type\":\"scattergl\"}],\"scattermapbox\":[{\"marker\":{\"colorbar\":{\"outlinewidth\":0,\"ticks\":\"\"}},\"type\":\"scattermapbox\"}],\"scatterpolar\":[{\"marker\":{\"colorbar\":{\"outlinewidth\":0,\"ticks\":\"\"}},\"type\":\"scatterpolar\"}],\"scatterpolargl\":[{\"marker\":{\"colorbar\":{\"outlinewidth\":0,\"ticks\":\"\"}},\"type\":\"scatterpolargl\"}],\"scatterternary\":[{\"marker\":{\"colorbar\":{\"outlinewidth\":0,\"ticks\":\"\"}},\"type\":\"scatterternary\"}],\"surface\":[{\"colorbar\":{\"outlinewidth\":0,\"ticks\":\"\"},\"colorscale\":[[0.0,\"#0d0887\"],[0.1111111111111111,\"#46039f\"],[0.2222222222222222,\"#7201a8\"],[0.3333333333333333,\"#9c179e\"],[0.4444444444444444,\"#bd3786\"],[0.5555555555555556,\"#d8576b\"],[0.6666666666666666,\"#ed7953\"],[0.7777777777777778,\"#fb9f3a\"],[0.8888888888888888,\"#fdca26\"],[1.0,\"#f0f921\"]],\"type\":\"surface\"}],\"table\":[{\"cells\":{\"fill\":{\"color\":\"#EBF0F8\"},\"line\":{\"color\":\"white\"}},\"header\":{\"fill\":{\"color\":\"#C8D4E3\"},\"line\":{\"color\":\"white\"}},\"type\":\"table\"}]},\"layout\":{\"annotationdefaults\":{\"arrowcolor\":\"#2a3f5f\",\"arrowhead\":0,\"arrowwidth\":1},\"autotypenumbers\":\"strict\",\"coloraxis\":{\"colorbar\":{\"outlinewidth\":0,\"ticks\":\"\"}},\"colorscale\":{\"diverging\":[[0,\"#8e0152\"],[0.1,\"#c51b7d\"],[0.2,\"#de77ae\"],[0.3,\"#f1b6da\"],[0.4,\"#fde0ef\"],[0.5,\"#f7f7f7\"],[0.6,\"#e6f5d0\"],[0.7,\"#b8e186\"],[0.8,\"#7fbc41\"],[0.9,\"#4d9221\"],[1,\"#276419\"]],\"sequential\":[[0.0,\"#0d0887\"],[0.1111111111111111,\"#46039f\"],[0.2222222222222222,\"#7201a8\"],[0.3333333333333333,\"#9c179e\"],[0.4444444444444444,\"#bd3786\"],[0.5555555555555556,\"#d8576b\"],[0.6666666666666666,\"#ed7953\"],[0.7777777777777778,\"#fb9f3a\"],[0.8888888888888888,\"#fdca26\"],[1.0,\"#f0f921\"]],\"sequentialminus\":[[0.0,\"#0d0887\"],[0.1111111111111111,\"#46039f\"],[0.2222222222222222,\"#7201a8\"],[0.3333333333333333,\"#9c179e\"],[0.4444444444444444,\"#bd3786\"],[0.5555555555555556,\"#d8576b\"],[0.6666666666666666,\"#ed7953\"],[0.7777777777777778,\"#fb9f3a\"],[0.8888888888888888,\"#fdca26\"],[1.0,\"#f0f921\"]]},\"colorway\":[\"#636efa\",\"#EF553B\",\"#00cc96\",\"#ab63fa\",\"#FFA15A\",\"#19d3f3\",\"#FF6692\",\"#B6E880\",\"#FF97FF\",\"#FECB52\"],\"font\":{\"color\":\"#2a3f5f\"},\"geo\":{\"bgcolor\":\"white\",\"lakecolor\":\"white\",\"landcolor\":\"#E5ECF6\",\"showlakes\":true,\"showland\":true,\"subunitcolor\":\"white\"},\"hoverlabel\":{\"align\":\"left\"},\"hovermode\":\"closest\",\"mapbox\":{\"style\":\"light\"},\"paper_bgcolor\":\"white\",\"plot_bgcolor\":\"#E5ECF6\",\"polar\":{\"angularaxis\":{\"gridcolor\":\"white\",\"linecolor\":\"white\",\"ticks\":\"\"},\"bgcolor\":\"#E5ECF6\",\"radialaxis\":{\"gridcolor\":\"white\",\"linecolor\":\"white\",\"ticks\":\"\"}},\"scene\":{\"xaxis\":{\"backgroundcolor\":\"#E5ECF6\",\"gridcolor\":\"white\",\"gridwidth\":2,\"linecolor\":\"white\",\"showbackground\":true,\"ticks\":\"\",\"zerolinecolor\":\"white\"},\"yaxis\":{\"backgroundcolor\":\"#E5ECF6\",\"gridcolor\":\"white\",\"gridwidth\":2,\"linecolor\":\"white\",\"showbackground\":true,\"ticks\":\"\",\"zerolinecolor\":\"white\"},\"zaxis\":{\"backgroundcolor\":\"#E5ECF6\",\"gridcolor\":\"white\",\"gridwidth\":2,\"linecolor\":\"white\",\"showbackground\":true,\"ticks\":\"\",\"zerolinecolor\":\"white\"}},\"shapedefaults\":{\"line\":{\"color\":\"#2a3f5f\"}},\"ternary\":{\"aaxis\":{\"gridcolor\":\"white\",\"linecolor\":\"white\",\"ticks\":\"\"},\"baxis\":{\"gridcolor\":\"white\",\"linecolor\":\"white\",\"ticks\":\"\"},\"bgcolor\":\"#E5ECF6\",\"caxis\":{\"gridcolor\":\"white\",\"linecolor\":\"white\",\"ticks\":\"\"}},\"title\":{\"x\":0.05},\"xaxis\":{\"automargin\":true,\"gridcolor\":\"white\",\"linecolor\":\"white\",\"ticks\":\"\",\"title\":{\"standoff\":15},\"zerolinecolor\":\"white\",\"zerolinewidth\":2},\"yaxis\":{\"automargin\":true,\"gridcolor\":\"white\",\"linecolor\":\"white\",\"ticks\":\"\",\"title\":{\"standoff\":15},\"zerolinecolor\":\"white\",\"zerolinewidth\":2}}},\"legend\":{\"tracegroupgap\":0},\"title\":{\"text\":\"Minting count\"}},                        {\"responsive\": true}                    ).then(function(){\n",
              "                            \n",
              "var gd = document.getElementById('97cba1e4-f716-4510-b033-5e901d7f6b9a');\n",
              "var x = new MutationObserver(function (mutations, observer) {{\n",
              "        var display = window.getComputedStyle(gd).display;\n",
              "        if (!display || display === 'none') {{\n",
              "            console.log([gd, 'removed!']);\n",
              "            Plotly.purge(gd);\n",
              "            observer.disconnect();\n",
              "        }}\n",
              "}});\n",
              "\n",
              "// Listen for the removal of the full notebook cells\n",
              "var notebookContainer = gd.closest('#notebook-container');\n",
              "if (notebookContainer) {{\n",
              "    x.observe(notebookContainer, {childList: true});\n",
              "}}\n",
              "\n",
              "// Listen for the clearing of the current output cell\n",
              "var outputEl = gd.closest('.output');\n",
              "if (outputEl) {{\n",
              "    x.observe(outputEl, {childList: true});\n",
              "}}\n",
              "\n",
              "                        })                };                            </script>        </div>\n",
              "</body>\n",
              "</html>"
            ]
          },
          "metadata": {}
        }
      ]
    },
    {
      "cell_type": "markdown",
      "source": [
        "### Shoe level"
      ],
      "metadata": {
        "id": "yIiz_ni9G3GK"
      }
    },
    {
      "cell_type": "code",
      "source": [
        "import plotly.express as px\n",
        "fig = px.histogram(shoedf, x='Level', title='Level',nbins=20)\n",
        "fig.show()"
      ],
      "metadata": {
        "colab": {
          "base_uri": "https://localhost:8080/",
          "height": 542
        },
        "id": "yeCEvxiJG4Gf",
        "outputId": "42d897a7-9fe1-4a7b-c600-0264c3d122a3"
      },
      "execution_count": null,
      "outputs": [
        {
          "output_type": "display_data",
          "data": {
            "text/html": [
              "<html>\n",
              "<head><meta charset=\"utf-8\" /></head>\n",
              "<body>\n",
              "    <div>            <script src=\"https://cdnjs.cloudflare.com/ajax/libs/mathjax/2.7.5/MathJax.js?config=TeX-AMS-MML_SVG\"></script><script type=\"text/javascript\">if (window.MathJax) {MathJax.Hub.Config({SVG: {font: \"STIX-Web\"}});}</script>                <script type=\"text/javascript\">window.PlotlyConfig = {MathJaxConfig: 'local'};</script>\n",
              "        <script src=\"https://cdn.plot.ly/plotly-2.8.3.min.js\"></script>                <div id=\"fa2ee2d8-c9fd-47f4-8e5a-5a5f3329292a\" class=\"plotly-graph-div\" style=\"height:525px; width:100%;\"></div>            <script type=\"text/javascript\">                                    window.PLOTLYENV=window.PLOTLYENV || {};                                    if (document.getElementById(\"fa2ee2d8-c9fd-47f4-8e5a-5a5f3329292a\")) {                    Plotly.newPlot(                        \"fa2ee2d8-c9fd-47f4-8e5a-5a5f3329292a\",                        [{\"alignmentgroup\":\"True\",\"bingroup\":\"x\",\"hovertemplate\":\"Level=%{x}<br>count=%{y}<extra></extra>\",\"legendgroup\":\"\",\"marker\":{\"color\":\"#636efa\",\"pattern\":{\"shape\":\"\"}},\"name\":\"\",\"nbinsx\":20,\"offsetgroup\":\"\",\"orientation\":\"v\",\"showlegend\":false,\"x\":[5.0,5.0,null,5.0,5.0,5.0,5.0,5.0,9.0,0.0,0.0,0.0,11.0,12.0,5.0,9.0,5.0,5.0,9.0,5.0,0.0,0.0,5.0,9.0,5.0,5.0,5.0,5.0,0.0,5.0,5.0,5.0,5.0,5.0,6.0,9.0,5.0,5.0,5.0,5.0,5.0,5.0,5.0,0.0,5.0,5.0,5.0,5.0,5.0,9.0,0.0,28.0,0.0,5.0,9.0],\"xaxis\":\"x\",\"yaxis\":\"y\",\"type\":\"histogram\"}],                        {\"template\":{\"data\":{\"bar\":[{\"error_x\":{\"color\":\"#2a3f5f\"},\"error_y\":{\"color\":\"#2a3f5f\"},\"marker\":{\"line\":{\"color\":\"#E5ECF6\",\"width\":0.5},\"pattern\":{\"fillmode\":\"overlay\",\"size\":10,\"solidity\":0.2}},\"type\":\"bar\"}],\"barpolar\":[{\"marker\":{\"line\":{\"color\":\"#E5ECF6\",\"width\":0.5},\"pattern\":{\"fillmode\":\"overlay\",\"size\":10,\"solidity\":0.2}},\"type\":\"barpolar\"}],\"carpet\":[{\"aaxis\":{\"endlinecolor\":\"#2a3f5f\",\"gridcolor\":\"white\",\"linecolor\":\"white\",\"minorgridcolor\":\"white\",\"startlinecolor\":\"#2a3f5f\"},\"baxis\":{\"endlinecolor\":\"#2a3f5f\",\"gridcolor\":\"white\",\"linecolor\":\"white\",\"minorgridcolor\":\"white\",\"startlinecolor\":\"#2a3f5f\"},\"type\":\"carpet\"}],\"choropleth\":[{\"colorbar\":{\"outlinewidth\":0,\"ticks\":\"\"},\"type\":\"choropleth\"}],\"contour\":[{\"colorbar\":{\"outlinewidth\":0,\"ticks\":\"\"},\"colorscale\":[[0.0,\"#0d0887\"],[0.1111111111111111,\"#46039f\"],[0.2222222222222222,\"#7201a8\"],[0.3333333333333333,\"#9c179e\"],[0.4444444444444444,\"#bd3786\"],[0.5555555555555556,\"#d8576b\"],[0.6666666666666666,\"#ed7953\"],[0.7777777777777778,\"#fb9f3a\"],[0.8888888888888888,\"#fdca26\"],[1.0,\"#f0f921\"]],\"type\":\"contour\"}],\"contourcarpet\":[{\"colorbar\":{\"outlinewidth\":0,\"ticks\":\"\"},\"type\":\"contourcarpet\"}],\"heatmap\":[{\"colorbar\":{\"outlinewidth\":0,\"ticks\":\"\"},\"colorscale\":[[0.0,\"#0d0887\"],[0.1111111111111111,\"#46039f\"],[0.2222222222222222,\"#7201a8\"],[0.3333333333333333,\"#9c179e\"],[0.4444444444444444,\"#bd3786\"],[0.5555555555555556,\"#d8576b\"],[0.6666666666666666,\"#ed7953\"],[0.7777777777777778,\"#fb9f3a\"],[0.8888888888888888,\"#fdca26\"],[1.0,\"#f0f921\"]],\"type\":\"heatmap\"}],\"heatmapgl\":[{\"colorbar\":{\"outlinewidth\":0,\"ticks\":\"\"},\"colorscale\":[[0.0,\"#0d0887\"],[0.1111111111111111,\"#46039f\"],[0.2222222222222222,\"#7201a8\"],[0.3333333333333333,\"#9c179e\"],[0.4444444444444444,\"#bd3786\"],[0.5555555555555556,\"#d8576b\"],[0.6666666666666666,\"#ed7953\"],[0.7777777777777778,\"#fb9f3a\"],[0.8888888888888888,\"#fdca26\"],[1.0,\"#f0f921\"]],\"type\":\"heatmapgl\"}],\"histogram\":[{\"marker\":{\"pattern\":{\"fillmode\":\"overlay\",\"size\":10,\"solidity\":0.2}},\"type\":\"histogram\"}],\"histogram2d\":[{\"colorbar\":{\"outlinewidth\":0,\"ticks\":\"\"},\"colorscale\":[[0.0,\"#0d0887\"],[0.1111111111111111,\"#46039f\"],[0.2222222222222222,\"#7201a8\"],[0.3333333333333333,\"#9c179e\"],[0.4444444444444444,\"#bd3786\"],[0.5555555555555556,\"#d8576b\"],[0.6666666666666666,\"#ed7953\"],[0.7777777777777778,\"#fb9f3a\"],[0.8888888888888888,\"#fdca26\"],[1.0,\"#f0f921\"]],\"type\":\"histogram2d\"}],\"histogram2dcontour\":[{\"colorbar\":{\"outlinewidth\":0,\"ticks\":\"\"},\"colorscale\":[[0.0,\"#0d0887\"],[0.1111111111111111,\"#46039f\"],[0.2222222222222222,\"#7201a8\"],[0.3333333333333333,\"#9c179e\"],[0.4444444444444444,\"#bd3786\"],[0.5555555555555556,\"#d8576b\"],[0.6666666666666666,\"#ed7953\"],[0.7777777777777778,\"#fb9f3a\"],[0.8888888888888888,\"#fdca26\"],[1.0,\"#f0f921\"]],\"type\":\"histogram2dcontour\"}],\"mesh3d\":[{\"colorbar\":{\"outlinewidth\":0,\"ticks\":\"\"},\"type\":\"mesh3d\"}],\"parcoords\":[{\"line\":{\"colorbar\":{\"outlinewidth\":0,\"ticks\":\"\"}},\"type\":\"parcoords\"}],\"pie\":[{\"automargin\":true,\"type\":\"pie\"}],\"scatter\":[{\"marker\":{\"colorbar\":{\"outlinewidth\":0,\"ticks\":\"\"}},\"type\":\"scatter\"}],\"scatter3d\":[{\"line\":{\"colorbar\":{\"outlinewidth\":0,\"ticks\":\"\"}},\"marker\":{\"colorbar\":{\"outlinewidth\":0,\"ticks\":\"\"}},\"type\":\"scatter3d\"}],\"scattercarpet\":[{\"marker\":{\"colorbar\":{\"outlinewidth\":0,\"ticks\":\"\"}},\"type\":\"scattercarpet\"}],\"scattergeo\":[{\"marker\":{\"colorbar\":{\"outlinewidth\":0,\"ticks\":\"\"}},\"type\":\"scattergeo\"}],\"scattergl\":[{\"marker\":{\"colorbar\":{\"outlinewidth\":0,\"ticks\":\"\"}},\"type\":\"scattergl\"}],\"scattermapbox\":[{\"marker\":{\"colorbar\":{\"outlinewidth\":0,\"ticks\":\"\"}},\"type\":\"scattermapbox\"}],\"scatterpolar\":[{\"marker\":{\"colorbar\":{\"outlinewidth\":0,\"ticks\":\"\"}},\"type\":\"scatterpolar\"}],\"scatterpolargl\":[{\"marker\":{\"colorbar\":{\"outlinewidth\":0,\"ticks\":\"\"}},\"type\":\"scatterpolargl\"}],\"scatterternary\":[{\"marker\":{\"colorbar\":{\"outlinewidth\":0,\"ticks\":\"\"}},\"type\":\"scatterternary\"}],\"surface\":[{\"colorbar\":{\"outlinewidth\":0,\"ticks\":\"\"},\"colorscale\":[[0.0,\"#0d0887\"],[0.1111111111111111,\"#46039f\"],[0.2222222222222222,\"#7201a8\"],[0.3333333333333333,\"#9c179e\"],[0.4444444444444444,\"#bd3786\"],[0.5555555555555556,\"#d8576b\"],[0.6666666666666666,\"#ed7953\"],[0.7777777777777778,\"#fb9f3a\"],[0.8888888888888888,\"#fdca26\"],[1.0,\"#f0f921\"]],\"type\":\"surface\"}],\"table\":[{\"cells\":{\"fill\":{\"color\":\"#EBF0F8\"},\"line\":{\"color\":\"white\"}},\"header\":{\"fill\":{\"color\":\"#C8D4E3\"},\"line\":{\"color\":\"white\"}},\"type\":\"table\"}]},\"layout\":{\"annotationdefaults\":{\"arrowcolor\":\"#2a3f5f\",\"arrowhead\":0,\"arrowwidth\":1},\"autotypenumbers\":\"strict\",\"coloraxis\":{\"colorbar\":{\"outlinewidth\":0,\"ticks\":\"\"}},\"colorscale\":{\"diverging\":[[0,\"#8e0152\"],[0.1,\"#c51b7d\"],[0.2,\"#de77ae\"],[0.3,\"#f1b6da\"],[0.4,\"#fde0ef\"],[0.5,\"#f7f7f7\"],[0.6,\"#e6f5d0\"],[0.7,\"#b8e186\"],[0.8,\"#7fbc41\"],[0.9,\"#4d9221\"],[1,\"#276419\"]],\"sequential\":[[0.0,\"#0d0887\"],[0.1111111111111111,\"#46039f\"],[0.2222222222222222,\"#7201a8\"],[0.3333333333333333,\"#9c179e\"],[0.4444444444444444,\"#bd3786\"],[0.5555555555555556,\"#d8576b\"],[0.6666666666666666,\"#ed7953\"],[0.7777777777777778,\"#fb9f3a\"],[0.8888888888888888,\"#fdca26\"],[1.0,\"#f0f921\"]],\"sequentialminus\":[[0.0,\"#0d0887\"],[0.1111111111111111,\"#46039f\"],[0.2222222222222222,\"#7201a8\"],[0.3333333333333333,\"#9c179e\"],[0.4444444444444444,\"#bd3786\"],[0.5555555555555556,\"#d8576b\"],[0.6666666666666666,\"#ed7953\"],[0.7777777777777778,\"#fb9f3a\"],[0.8888888888888888,\"#fdca26\"],[1.0,\"#f0f921\"]]},\"colorway\":[\"#636efa\",\"#EF553B\",\"#00cc96\",\"#ab63fa\",\"#FFA15A\",\"#19d3f3\",\"#FF6692\",\"#B6E880\",\"#FF97FF\",\"#FECB52\"],\"font\":{\"color\":\"#2a3f5f\"},\"geo\":{\"bgcolor\":\"white\",\"lakecolor\":\"white\",\"landcolor\":\"#E5ECF6\",\"showlakes\":true,\"showland\":true,\"subunitcolor\":\"white\"},\"hoverlabel\":{\"align\":\"left\"},\"hovermode\":\"closest\",\"mapbox\":{\"style\":\"light\"},\"paper_bgcolor\":\"white\",\"plot_bgcolor\":\"#E5ECF6\",\"polar\":{\"angularaxis\":{\"gridcolor\":\"white\",\"linecolor\":\"white\",\"ticks\":\"\"},\"bgcolor\":\"#E5ECF6\",\"radialaxis\":{\"gridcolor\":\"white\",\"linecolor\":\"white\",\"ticks\":\"\"}},\"scene\":{\"xaxis\":{\"backgroundcolor\":\"#E5ECF6\",\"gridcolor\":\"white\",\"gridwidth\":2,\"linecolor\":\"white\",\"showbackground\":true,\"ticks\":\"\",\"zerolinecolor\":\"white\"},\"yaxis\":{\"backgroundcolor\":\"#E5ECF6\",\"gridcolor\":\"white\",\"gridwidth\":2,\"linecolor\":\"white\",\"showbackground\":true,\"ticks\":\"\",\"zerolinecolor\":\"white\"},\"zaxis\":{\"backgroundcolor\":\"#E5ECF6\",\"gridcolor\":\"white\",\"gridwidth\":2,\"linecolor\":\"white\",\"showbackground\":true,\"ticks\":\"\",\"zerolinecolor\":\"white\"}},\"shapedefaults\":{\"line\":{\"color\":\"#2a3f5f\"}},\"ternary\":{\"aaxis\":{\"gridcolor\":\"white\",\"linecolor\":\"white\",\"ticks\":\"\"},\"baxis\":{\"gridcolor\":\"white\",\"linecolor\":\"white\",\"ticks\":\"\"},\"bgcolor\":\"#E5ECF6\",\"caxis\":{\"gridcolor\":\"white\",\"linecolor\":\"white\",\"ticks\":\"\"}},\"title\":{\"x\":0.05},\"xaxis\":{\"automargin\":true,\"gridcolor\":\"white\",\"linecolor\":\"white\",\"ticks\":\"\",\"title\":{\"standoff\":15},\"zerolinecolor\":\"white\",\"zerolinewidth\":2},\"yaxis\":{\"automargin\":true,\"gridcolor\":\"white\",\"linecolor\":\"white\",\"ticks\":\"\",\"title\":{\"standoff\":15},\"zerolinecolor\":\"white\",\"zerolinewidth\":2}}},\"xaxis\":{\"anchor\":\"y\",\"domain\":[0.0,1.0],\"title\":{\"text\":\"Level\"}},\"yaxis\":{\"anchor\":\"x\",\"domain\":[0.0,1.0],\"title\":{\"text\":\"count\"}},\"legend\":{\"tracegroupgap\":0},\"title\":{\"text\":\"Level\"},\"barmode\":\"relative\"},                        {\"responsive\": true}                    ).then(function(){\n",
              "                            \n",
              "var gd = document.getElementById('fa2ee2d8-c9fd-47f4-8e5a-5a5f3329292a');\n",
              "var x = new MutationObserver(function (mutations, observer) {{\n",
              "        var display = window.getComputedStyle(gd).display;\n",
              "        if (!display || display === 'none') {{\n",
              "            console.log([gd, 'removed!']);\n",
              "            Plotly.purge(gd);\n",
              "            observer.disconnect();\n",
              "        }}\n",
              "}});\n",
              "\n",
              "// Listen for the removal of the full notebook cells\n",
              "var notebookContainer = gd.closest('#notebook-container');\n",
              "if (notebookContainer) {{\n",
              "    x.observe(notebookContainer, {childList: true});\n",
              "}}\n",
              "\n",
              "// Listen for the clearing of the current output cell\n",
              "var outputEl = gd.closest('.output');\n",
              "if (outputEl) {{\n",
              "    x.observe(outputEl, {childList: true});\n",
              "}}\n",
              "\n",
              "                        })                };                            </script>        </div>\n",
              "</body>\n",
              "</html>"
            ]
          },
          "metadata": {}
        }
      ]
    },
    {
      "cell_type": "markdown",
      "source": [
        "### 4 main attributes"
      ],
      "metadata": {
        "id": "vR3odcqxG6kx"
      }
    },
    {
      "cell_type": "code",
      "source": [
        "import plotly.express as px\n",
        "fig = px.histogram(shoedf, x='Efficiency', title='Efficiency',nbins=50,color_discrete_sequence=['indianred'])\n",
        "fig.show()"
      ],
      "metadata": {
        "colab": {
          "base_uri": "https://localhost:8080/",
          "height": 542
        },
        "id": "N_n7bCoMG5xA",
        "outputId": "ee441144-4ccf-42c6-bcff-95bebd487212"
      },
      "execution_count": null,
      "outputs": [
        {
          "output_type": "display_data",
          "data": {
            "text/html": [
              "<html>\n",
              "<head><meta charset=\"utf-8\" /></head>\n",
              "<body>\n",
              "    <div>            <script src=\"https://cdnjs.cloudflare.com/ajax/libs/mathjax/2.7.5/MathJax.js?config=TeX-AMS-MML_SVG\"></script><script type=\"text/javascript\">if (window.MathJax) {MathJax.Hub.Config({SVG: {font: \"STIX-Web\"}});}</script>                <script type=\"text/javascript\">window.PlotlyConfig = {MathJaxConfig: 'local'};</script>\n",
              "        <script src=\"https://cdn.plot.ly/plotly-2.8.3.min.js\"></script>                <div id=\"f58902c5-a33b-41cc-a179-aec85b70b9a3\" class=\"plotly-graph-div\" style=\"height:525px; width:100%;\"></div>            <script type=\"text/javascript\">                                    window.PLOTLYENV=window.PLOTLYENV || {};                                    if (document.getElementById(\"f58902c5-a33b-41cc-a179-aec85b70b9a3\")) {                    Plotly.newPlot(                        \"f58902c5-a33b-41cc-a179-aec85b70b9a3\",                        [{\"alignmentgroup\":\"True\",\"bingroup\":\"x\",\"hovertemplate\":\"Efficiency=%{x}<br>count=%{y}<extra></extra>\",\"legendgroup\":\"\",\"marker\":{\"color\":\"indianred\",\"pattern\":{\"shape\":\"\"}},\"name\":\"\",\"nbinsx\":50,\"offsetgroup\":\"\",\"orientation\":\"v\",\"showlegend\":false,\"x\":[27.4,5.9,null,8.8,9.7,8.5,3.0,21.5,35.4,40.3,3.8,4.6,39.0,42.7,9.7,38.4,1.7,9.1,38.2,8.2,17.7,17.0,19.8,40.3,5.9,22.2,16.9,21.3,6.1,17.2,5.3,5.1,3.9,9.1,13.1,35.9,1.7,4.5,1.0,6.5,6.8,1.1,6.6,6.0,5.8,3.5,7.8,1.9,23.8,40.0,12.7,17.0,19.9,17.5,40.9],\"xaxis\":\"x\",\"yaxis\":\"y\",\"type\":\"histogram\"}],                        {\"template\":{\"data\":{\"bar\":[{\"error_x\":{\"color\":\"#2a3f5f\"},\"error_y\":{\"color\":\"#2a3f5f\"},\"marker\":{\"line\":{\"color\":\"#E5ECF6\",\"width\":0.5},\"pattern\":{\"fillmode\":\"overlay\",\"size\":10,\"solidity\":0.2}},\"type\":\"bar\"}],\"barpolar\":[{\"marker\":{\"line\":{\"color\":\"#E5ECF6\",\"width\":0.5},\"pattern\":{\"fillmode\":\"overlay\",\"size\":10,\"solidity\":0.2}},\"type\":\"barpolar\"}],\"carpet\":[{\"aaxis\":{\"endlinecolor\":\"#2a3f5f\",\"gridcolor\":\"white\",\"linecolor\":\"white\",\"minorgridcolor\":\"white\",\"startlinecolor\":\"#2a3f5f\"},\"baxis\":{\"endlinecolor\":\"#2a3f5f\",\"gridcolor\":\"white\",\"linecolor\":\"white\",\"minorgridcolor\":\"white\",\"startlinecolor\":\"#2a3f5f\"},\"type\":\"carpet\"}],\"choropleth\":[{\"colorbar\":{\"outlinewidth\":0,\"ticks\":\"\"},\"type\":\"choropleth\"}],\"contour\":[{\"colorbar\":{\"outlinewidth\":0,\"ticks\":\"\"},\"colorscale\":[[0.0,\"#0d0887\"],[0.1111111111111111,\"#46039f\"],[0.2222222222222222,\"#7201a8\"],[0.3333333333333333,\"#9c179e\"],[0.4444444444444444,\"#bd3786\"],[0.5555555555555556,\"#d8576b\"],[0.6666666666666666,\"#ed7953\"],[0.7777777777777778,\"#fb9f3a\"],[0.8888888888888888,\"#fdca26\"],[1.0,\"#f0f921\"]],\"type\":\"contour\"}],\"contourcarpet\":[{\"colorbar\":{\"outlinewidth\":0,\"ticks\":\"\"},\"type\":\"contourcarpet\"}],\"heatmap\":[{\"colorbar\":{\"outlinewidth\":0,\"ticks\":\"\"},\"colorscale\":[[0.0,\"#0d0887\"],[0.1111111111111111,\"#46039f\"],[0.2222222222222222,\"#7201a8\"],[0.3333333333333333,\"#9c179e\"],[0.4444444444444444,\"#bd3786\"],[0.5555555555555556,\"#d8576b\"],[0.6666666666666666,\"#ed7953\"],[0.7777777777777778,\"#fb9f3a\"],[0.8888888888888888,\"#fdca26\"],[1.0,\"#f0f921\"]],\"type\":\"heatmap\"}],\"heatmapgl\":[{\"colorbar\":{\"outlinewidth\":0,\"ticks\":\"\"},\"colorscale\":[[0.0,\"#0d0887\"],[0.1111111111111111,\"#46039f\"],[0.2222222222222222,\"#7201a8\"],[0.3333333333333333,\"#9c179e\"],[0.4444444444444444,\"#bd3786\"],[0.5555555555555556,\"#d8576b\"],[0.6666666666666666,\"#ed7953\"],[0.7777777777777778,\"#fb9f3a\"],[0.8888888888888888,\"#fdca26\"],[1.0,\"#f0f921\"]],\"type\":\"heatmapgl\"}],\"histogram\":[{\"marker\":{\"pattern\":{\"fillmode\":\"overlay\",\"size\":10,\"solidity\":0.2}},\"type\":\"histogram\"}],\"histogram2d\":[{\"colorbar\":{\"outlinewidth\":0,\"ticks\":\"\"},\"colorscale\":[[0.0,\"#0d0887\"],[0.1111111111111111,\"#46039f\"],[0.2222222222222222,\"#7201a8\"],[0.3333333333333333,\"#9c179e\"],[0.4444444444444444,\"#bd3786\"],[0.5555555555555556,\"#d8576b\"],[0.6666666666666666,\"#ed7953\"],[0.7777777777777778,\"#fb9f3a\"],[0.8888888888888888,\"#fdca26\"],[1.0,\"#f0f921\"]],\"type\":\"histogram2d\"}],\"histogram2dcontour\":[{\"colorbar\":{\"outlinewidth\":0,\"ticks\":\"\"},\"colorscale\":[[0.0,\"#0d0887\"],[0.1111111111111111,\"#46039f\"],[0.2222222222222222,\"#7201a8\"],[0.3333333333333333,\"#9c179e\"],[0.4444444444444444,\"#bd3786\"],[0.5555555555555556,\"#d8576b\"],[0.6666666666666666,\"#ed7953\"],[0.7777777777777778,\"#fb9f3a\"],[0.8888888888888888,\"#fdca26\"],[1.0,\"#f0f921\"]],\"type\":\"histogram2dcontour\"}],\"mesh3d\":[{\"colorbar\":{\"outlinewidth\":0,\"ticks\":\"\"},\"type\":\"mesh3d\"}],\"parcoords\":[{\"line\":{\"colorbar\":{\"outlinewidth\":0,\"ticks\":\"\"}},\"type\":\"parcoords\"}],\"pie\":[{\"automargin\":true,\"type\":\"pie\"}],\"scatter\":[{\"marker\":{\"colorbar\":{\"outlinewidth\":0,\"ticks\":\"\"}},\"type\":\"scatter\"}],\"scatter3d\":[{\"line\":{\"colorbar\":{\"outlinewidth\":0,\"ticks\":\"\"}},\"marker\":{\"colorbar\":{\"outlinewidth\":0,\"ticks\":\"\"}},\"type\":\"scatter3d\"}],\"scattercarpet\":[{\"marker\":{\"colorbar\":{\"outlinewidth\":0,\"ticks\":\"\"}},\"type\":\"scattercarpet\"}],\"scattergeo\":[{\"marker\":{\"colorbar\":{\"outlinewidth\":0,\"ticks\":\"\"}},\"type\":\"scattergeo\"}],\"scattergl\":[{\"marker\":{\"colorbar\":{\"outlinewidth\":0,\"ticks\":\"\"}},\"type\":\"scattergl\"}],\"scattermapbox\":[{\"marker\":{\"colorbar\":{\"outlinewidth\":0,\"ticks\":\"\"}},\"type\":\"scattermapbox\"}],\"scatterpolar\":[{\"marker\":{\"colorbar\":{\"outlinewidth\":0,\"ticks\":\"\"}},\"type\":\"scatterpolar\"}],\"scatterpolargl\":[{\"marker\":{\"colorbar\":{\"outlinewidth\":0,\"ticks\":\"\"}},\"type\":\"scatterpolargl\"}],\"scatterternary\":[{\"marker\":{\"colorbar\":{\"outlinewidth\":0,\"ticks\":\"\"}},\"type\":\"scatterternary\"}],\"surface\":[{\"colorbar\":{\"outlinewidth\":0,\"ticks\":\"\"},\"colorscale\":[[0.0,\"#0d0887\"],[0.1111111111111111,\"#46039f\"],[0.2222222222222222,\"#7201a8\"],[0.3333333333333333,\"#9c179e\"],[0.4444444444444444,\"#bd3786\"],[0.5555555555555556,\"#d8576b\"],[0.6666666666666666,\"#ed7953\"],[0.7777777777777778,\"#fb9f3a\"],[0.8888888888888888,\"#fdca26\"],[1.0,\"#f0f921\"]],\"type\":\"surface\"}],\"table\":[{\"cells\":{\"fill\":{\"color\":\"#EBF0F8\"},\"line\":{\"color\":\"white\"}},\"header\":{\"fill\":{\"color\":\"#C8D4E3\"},\"line\":{\"color\":\"white\"}},\"type\":\"table\"}]},\"layout\":{\"annotationdefaults\":{\"arrowcolor\":\"#2a3f5f\",\"arrowhead\":0,\"arrowwidth\":1},\"autotypenumbers\":\"strict\",\"coloraxis\":{\"colorbar\":{\"outlinewidth\":0,\"ticks\":\"\"}},\"colorscale\":{\"diverging\":[[0,\"#8e0152\"],[0.1,\"#c51b7d\"],[0.2,\"#de77ae\"],[0.3,\"#f1b6da\"],[0.4,\"#fde0ef\"],[0.5,\"#f7f7f7\"],[0.6,\"#e6f5d0\"],[0.7,\"#b8e186\"],[0.8,\"#7fbc41\"],[0.9,\"#4d9221\"],[1,\"#276419\"]],\"sequential\":[[0.0,\"#0d0887\"],[0.1111111111111111,\"#46039f\"],[0.2222222222222222,\"#7201a8\"],[0.3333333333333333,\"#9c179e\"],[0.4444444444444444,\"#bd3786\"],[0.5555555555555556,\"#d8576b\"],[0.6666666666666666,\"#ed7953\"],[0.7777777777777778,\"#fb9f3a\"],[0.8888888888888888,\"#fdca26\"],[1.0,\"#f0f921\"]],\"sequentialminus\":[[0.0,\"#0d0887\"],[0.1111111111111111,\"#46039f\"],[0.2222222222222222,\"#7201a8\"],[0.3333333333333333,\"#9c179e\"],[0.4444444444444444,\"#bd3786\"],[0.5555555555555556,\"#d8576b\"],[0.6666666666666666,\"#ed7953\"],[0.7777777777777778,\"#fb9f3a\"],[0.8888888888888888,\"#fdca26\"],[1.0,\"#f0f921\"]]},\"colorway\":[\"#636efa\",\"#EF553B\",\"#00cc96\",\"#ab63fa\",\"#FFA15A\",\"#19d3f3\",\"#FF6692\",\"#B6E880\",\"#FF97FF\",\"#FECB52\"],\"font\":{\"color\":\"#2a3f5f\"},\"geo\":{\"bgcolor\":\"white\",\"lakecolor\":\"white\",\"landcolor\":\"#E5ECF6\",\"showlakes\":true,\"showland\":true,\"subunitcolor\":\"white\"},\"hoverlabel\":{\"align\":\"left\"},\"hovermode\":\"closest\",\"mapbox\":{\"style\":\"light\"},\"paper_bgcolor\":\"white\",\"plot_bgcolor\":\"#E5ECF6\",\"polar\":{\"angularaxis\":{\"gridcolor\":\"white\",\"linecolor\":\"white\",\"ticks\":\"\"},\"bgcolor\":\"#E5ECF6\",\"radialaxis\":{\"gridcolor\":\"white\",\"linecolor\":\"white\",\"ticks\":\"\"}},\"scene\":{\"xaxis\":{\"backgroundcolor\":\"#E5ECF6\",\"gridcolor\":\"white\",\"gridwidth\":2,\"linecolor\":\"white\",\"showbackground\":true,\"ticks\":\"\",\"zerolinecolor\":\"white\"},\"yaxis\":{\"backgroundcolor\":\"#E5ECF6\",\"gridcolor\":\"white\",\"gridwidth\":2,\"linecolor\":\"white\",\"showbackground\":true,\"ticks\":\"\",\"zerolinecolor\":\"white\"},\"zaxis\":{\"backgroundcolor\":\"#E5ECF6\",\"gridcolor\":\"white\",\"gridwidth\":2,\"linecolor\":\"white\",\"showbackground\":true,\"ticks\":\"\",\"zerolinecolor\":\"white\"}},\"shapedefaults\":{\"line\":{\"color\":\"#2a3f5f\"}},\"ternary\":{\"aaxis\":{\"gridcolor\":\"white\",\"linecolor\":\"white\",\"ticks\":\"\"},\"baxis\":{\"gridcolor\":\"white\",\"linecolor\":\"white\",\"ticks\":\"\"},\"bgcolor\":\"#E5ECF6\",\"caxis\":{\"gridcolor\":\"white\",\"linecolor\":\"white\",\"ticks\":\"\"}},\"title\":{\"x\":0.05},\"xaxis\":{\"automargin\":true,\"gridcolor\":\"white\",\"linecolor\":\"white\",\"ticks\":\"\",\"title\":{\"standoff\":15},\"zerolinecolor\":\"white\",\"zerolinewidth\":2},\"yaxis\":{\"automargin\":true,\"gridcolor\":\"white\",\"linecolor\":\"white\",\"ticks\":\"\",\"title\":{\"standoff\":15},\"zerolinecolor\":\"white\",\"zerolinewidth\":2}}},\"xaxis\":{\"anchor\":\"y\",\"domain\":[0.0,1.0],\"title\":{\"text\":\"Efficiency\"}},\"yaxis\":{\"anchor\":\"x\",\"domain\":[0.0,1.0],\"title\":{\"text\":\"count\"}},\"legend\":{\"tracegroupgap\":0},\"title\":{\"text\":\"Efficiency\"},\"barmode\":\"relative\"},                        {\"responsive\": true}                    ).then(function(){\n",
              "                            \n",
              "var gd = document.getElementById('f58902c5-a33b-41cc-a179-aec85b70b9a3');\n",
              "var x = new MutationObserver(function (mutations, observer) {{\n",
              "        var display = window.getComputedStyle(gd).display;\n",
              "        if (!display || display === 'none') {{\n",
              "            console.log([gd, 'removed!']);\n",
              "            Plotly.purge(gd);\n",
              "            observer.disconnect();\n",
              "        }}\n",
              "}});\n",
              "\n",
              "// Listen for the removal of the full notebook cells\n",
              "var notebookContainer = gd.closest('#notebook-container');\n",
              "if (notebookContainer) {{\n",
              "    x.observe(notebookContainer, {childList: true});\n",
              "}}\n",
              "\n",
              "// Listen for the clearing of the current output cell\n",
              "var outputEl = gd.closest('.output');\n",
              "if (outputEl) {{\n",
              "    x.observe(outputEl, {childList: true});\n",
              "}}\n",
              "\n",
              "                        })                };                            </script>        </div>\n",
              "</body>\n",
              "</html>"
            ]
          },
          "metadata": {}
        }
      ]
    },
    {
      "cell_type": "code",
      "source": [
        "import plotly.express as px\n",
        "fig = px.histogram(shoedf, x='Luck', title='Luck',nbins=50,color_discrete_sequence=['goldenrod'])\n",
        "fig.show()"
      ],
      "metadata": {
        "colab": {
          "base_uri": "https://localhost:8080/",
          "height": 542
        },
        "id": "FeqN8j5kHERf",
        "outputId": "50fa27c6-108b-4c01-9380-b6e4fdbb345e"
      },
      "execution_count": null,
      "outputs": [
        {
          "output_type": "display_data",
          "data": {
            "text/html": [
              "<html>\n",
              "<head><meta charset=\"utf-8\" /></head>\n",
              "<body>\n",
              "    <div>            <script src=\"https://cdnjs.cloudflare.com/ajax/libs/mathjax/2.7.5/MathJax.js?config=TeX-AMS-MML_SVG\"></script><script type=\"text/javascript\">if (window.MathJax) {MathJax.Hub.Config({SVG: {font: \"STIX-Web\"}});}</script>                <script type=\"text/javascript\">window.PlotlyConfig = {MathJaxConfig: 'local'};</script>\n",
              "        <script src=\"https://cdn.plot.ly/plotly-2.8.3.min.js\"></script>                <div id=\"ace64f27-7407-4ff7-941e-0d0de7b51333\" class=\"plotly-graph-div\" style=\"height:525px; width:100%;\"></div>            <script type=\"text/javascript\">                                    window.PLOTLYENV=window.PLOTLYENV || {};                                    if (document.getElementById(\"ace64f27-7407-4ff7-941e-0d0de7b51333\")) {                    Plotly.newPlot(                        \"ace64f27-7407-4ff7-941e-0d0de7b51333\",                        [{\"alignmentgroup\":\"True\",\"bingroup\":\"x\",\"hovertemplate\":\"Luck=%{x}<br>count=%{y}<extra></extra>\",\"legendgroup\":\"\",\"marker\":{\"color\":\"goldenrod\",\"pattern\":{\"shape\":\"\"}},\"name\":\"\",\"nbinsx\":50,\"offsetgroup\":\"\",\"orientation\":\"v\",\"showlegend\":false,\"x\":[8.9,5.3,null,2.2,1.7,9.7,1.9,9.7,8.6,30.3,9.0,1.5,9.7,6.9,2.0,5.5,8.0,2.4,3.2,5.9,13.8,11.1,7.0,8.4,2.9,5.2,4.2,5.7,5.2,1.3,8.5,3.5,4.2,8.8,5.1,5.8,4.2,1.7,5.0,1.0,2.7,3.8,7.8,6.6,2.9,9.5,1.3,6.3,9.6,6.1,15.7,172.4,21.3,9.4,7.1],\"xaxis\":\"x\",\"yaxis\":\"y\",\"type\":\"histogram\"}],                        {\"template\":{\"data\":{\"bar\":[{\"error_x\":{\"color\":\"#2a3f5f\"},\"error_y\":{\"color\":\"#2a3f5f\"},\"marker\":{\"line\":{\"color\":\"#E5ECF6\",\"width\":0.5},\"pattern\":{\"fillmode\":\"overlay\",\"size\":10,\"solidity\":0.2}},\"type\":\"bar\"}],\"barpolar\":[{\"marker\":{\"line\":{\"color\":\"#E5ECF6\",\"width\":0.5},\"pattern\":{\"fillmode\":\"overlay\",\"size\":10,\"solidity\":0.2}},\"type\":\"barpolar\"}],\"carpet\":[{\"aaxis\":{\"endlinecolor\":\"#2a3f5f\",\"gridcolor\":\"white\",\"linecolor\":\"white\",\"minorgridcolor\":\"white\",\"startlinecolor\":\"#2a3f5f\"},\"baxis\":{\"endlinecolor\":\"#2a3f5f\",\"gridcolor\":\"white\",\"linecolor\":\"white\",\"minorgridcolor\":\"white\",\"startlinecolor\":\"#2a3f5f\"},\"type\":\"carpet\"}],\"choropleth\":[{\"colorbar\":{\"outlinewidth\":0,\"ticks\":\"\"},\"type\":\"choropleth\"}],\"contour\":[{\"colorbar\":{\"outlinewidth\":0,\"ticks\":\"\"},\"colorscale\":[[0.0,\"#0d0887\"],[0.1111111111111111,\"#46039f\"],[0.2222222222222222,\"#7201a8\"],[0.3333333333333333,\"#9c179e\"],[0.4444444444444444,\"#bd3786\"],[0.5555555555555556,\"#d8576b\"],[0.6666666666666666,\"#ed7953\"],[0.7777777777777778,\"#fb9f3a\"],[0.8888888888888888,\"#fdca26\"],[1.0,\"#f0f921\"]],\"type\":\"contour\"}],\"contourcarpet\":[{\"colorbar\":{\"outlinewidth\":0,\"ticks\":\"\"},\"type\":\"contourcarpet\"}],\"heatmap\":[{\"colorbar\":{\"outlinewidth\":0,\"ticks\":\"\"},\"colorscale\":[[0.0,\"#0d0887\"],[0.1111111111111111,\"#46039f\"],[0.2222222222222222,\"#7201a8\"],[0.3333333333333333,\"#9c179e\"],[0.4444444444444444,\"#bd3786\"],[0.5555555555555556,\"#d8576b\"],[0.6666666666666666,\"#ed7953\"],[0.7777777777777778,\"#fb9f3a\"],[0.8888888888888888,\"#fdca26\"],[1.0,\"#f0f921\"]],\"type\":\"heatmap\"}],\"heatmapgl\":[{\"colorbar\":{\"outlinewidth\":0,\"ticks\":\"\"},\"colorscale\":[[0.0,\"#0d0887\"],[0.1111111111111111,\"#46039f\"],[0.2222222222222222,\"#7201a8\"],[0.3333333333333333,\"#9c179e\"],[0.4444444444444444,\"#bd3786\"],[0.5555555555555556,\"#d8576b\"],[0.6666666666666666,\"#ed7953\"],[0.7777777777777778,\"#fb9f3a\"],[0.8888888888888888,\"#fdca26\"],[1.0,\"#f0f921\"]],\"type\":\"heatmapgl\"}],\"histogram\":[{\"marker\":{\"pattern\":{\"fillmode\":\"overlay\",\"size\":10,\"solidity\":0.2}},\"type\":\"histogram\"}],\"histogram2d\":[{\"colorbar\":{\"outlinewidth\":0,\"ticks\":\"\"},\"colorscale\":[[0.0,\"#0d0887\"],[0.1111111111111111,\"#46039f\"],[0.2222222222222222,\"#7201a8\"],[0.3333333333333333,\"#9c179e\"],[0.4444444444444444,\"#bd3786\"],[0.5555555555555556,\"#d8576b\"],[0.6666666666666666,\"#ed7953\"],[0.7777777777777778,\"#fb9f3a\"],[0.8888888888888888,\"#fdca26\"],[1.0,\"#f0f921\"]],\"type\":\"histogram2d\"}],\"histogram2dcontour\":[{\"colorbar\":{\"outlinewidth\":0,\"ticks\":\"\"},\"colorscale\":[[0.0,\"#0d0887\"],[0.1111111111111111,\"#46039f\"],[0.2222222222222222,\"#7201a8\"],[0.3333333333333333,\"#9c179e\"],[0.4444444444444444,\"#bd3786\"],[0.5555555555555556,\"#d8576b\"],[0.6666666666666666,\"#ed7953\"],[0.7777777777777778,\"#fb9f3a\"],[0.8888888888888888,\"#fdca26\"],[1.0,\"#f0f921\"]],\"type\":\"histogram2dcontour\"}],\"mesh3d\":[{\"colorbar\":{\"outlinewidth\":0,\"ticks\":\"\"},\"type\":\"mesh3d\"}],\"parcoords\":[{\"line\":{\"colorbar\":{\"outlinewidth\":0,\"ticks\":\"\"}},\"type\":\"parcoords\"}],\"pie\":[{\"automargin\":true,\"type\":\"pie\"}],\"scatter\":[{\"marker\":{\"colorbar\":{\"outlinewidth\":0,\"ticks\":\"\"}},\"type\":\"scatter\"}],\"scatter3d\":[{\"line\":{\"colorbar\":{\"outlinewidth\":0,\"ticks\":\"\"}},\"marker\":{\"colorbar\":{\"outlinewidth\":0,\"ticks\":\"\"}},\"type\":\"scatter3d\"}],\"scattercarpet\":[{\"marker\":{\"colorbar\":{\"outlinewidth\":0,\"ticks\":\"\"}},\"type\":\"scattercarpet\"}],\"scattergeo\":[{\"marker\":{\"colorbar\":{\"outlinewidth\":0,\"ticks\":\"\"}},\"type\":\"scattergeo\"}],\"scattergl\":[{\"marker\":{\"colorbar\":{\"outlinewidth\":0,\"ticks\":\"\"}},\"type\":\"scattergl\"}],\"scattermapbox\":[{\"marker\":{\"colorbar\":{\"outlinewidth\":0,\"ticks\":\"\"}},\"type\":\"scattermapbox\"}],\"scatterpolar\":[{\"marker\":{\"colorbar\":{\"outlinewidth\":0,\"ticks\":\"\"}},\"type\":\"scatterpolar\"}],\"scatterpolargl\":[{\"marker\":{\"colorbar\":{\"outlinewidth\":0,\"ticks\":\"\"}},\"type\":\"scatterpolargl\"}],\"scatterternary\":[{\"marker\":{\"colorbar\":{\"outlinewidth\":0,\"ticks\":\"\"}},\"type\":\"scatterternary\"}],\"surface\":[{\"colorbar\":{\"outlinewidth\":0,\"ticks\":\"\"},\"colorscale\":[[0.0,\"#0d0887\"],[0.1111111111111111,\"#46039f\"],[0.2222222222222222,\"#7201a8\"],[0.3333333333333333,\"#9c179e\"],[0.4444444444444444,\"#bd3786\"],[0.5555555555555556,\"#d8576b\"],[0.6666666666666666,\"#ed7953\"],[0.7777777777777778,\"#fb9f3a\"],[0.8888888888888888,\"#fdca26\"],[1.0,\"#f0f921\"]],\"type\":\"surface\"}],\"table\":[{\"cells\":{\"fill\":{\"color\":\"#EBF0F8\"},\"line\":{\"color\":\"white\"}},\"header\":{\"fill\":{\"color\":\"#C8D4E3\"},\"line\":{\"color\":\"white\"}},\"type\":\"table\"}]},\"layout\":{\"annotationdefaults\":{\"arrowcolor\":\"#2a3f5f\",\"arrowhead\":0,\"arrowwidth\":1},\"autotypenumbers\":\"strict\",\"coloraxis\":{\"colorbar\":{\"outlinewidth\":0,\"ticks\":\"\"}},\"colorscale\":{\"diverging\":[[0,\"#8e0152\"],[0.1,\"#c51b7d\"],[0.2,\"#de77ae\"],[0.3,\"#f1b6da\"],[0.4,\"#fde0ef\"],[0.5,\"#f7f7f7\"],[0.6,\"#e6f5d0\"],[0.7,\"#b8e186\"],[0.8,\"#7fbc41\"],[0.9,\"#4d9221\"],[1,\"#276419\"]],\"sequential\":[[0.0,\"#0d0887\"],[0.1111111111111111,\"#46039f\"],[0.2222222222222222,\"#7201a8\"],[0.3333333333333333,\"#9c179e\"],[0.4444444444444444,\"#bd3786\"],[0.5555555555555556,\"#d8576b\"],[0.6666666666666666,\"#ed7953\"],[0.7777777777777778,\"#fb9f3a\"],[0.8888888888888888,\"#fdca26\"],[1.0,\"#f0f921\"]],\"sequentialminus\":[[0.0,\"#0d0887\"],[0.1111111111111111,\"#46039f\"],[0.2222222222222222,\"#7201a8\"],[0.3333333333333333,\"#9c179e\"],[0.4444444444444444,\"#bd3786\"],[0.5555555555555556,\"#d8576b\"],[0.6666666666666666,\"#ed7953\"],[0.7777777777777778,\"#fb9f3a\"],[0.8888888888888888,\"#fdca26\"],[1.0,\"#f0f921\"]]},\"colorway\":[\"#636efa\",\"#EF553B\",\"#00cc96\",\"#ab63fa\",\"#FFA15A\",\"#19d3f3\",\"#FF6692\",\"#B6E880\",\"#FF97FF\",\"#FECB52\"],\"font\":{\"color\":\"#2a3f5f\"},\"geo\":{\"bgcolor\":\"white\",\"lakecolor\":\"white\",\"landcolor\":\"#E5ECF6\",\"showlakes\":true,\"showland\":true,\"subunitcolor\":\"white\"},\"hoverlabel\":{\"align\":\"left\"},\"hovermode\":\"closest\",\"mapbox\":{\"style\":\"light\"},\"paper_bgcolor\":\"white\",\"plot_bgcolor\":\"#E5ECF6\",\"polar\":{\"angularaxis\":{\"gridcolor\":\"white\",\"linecolor\":\"white\",\"ticks\":\"\"},\"bgcolor\":\"#E5ECF6\",\"radialaxis\":{\"gridcolor\":\"white\",\"linecolor\":\"white\",\"ticks\":\"\"}},\"scene\":{\"xaxis\":{\"backgroundcolor\":\"#E5ECF6\",\"gridcolor\":\"white\",\"gridwidth\":2,\"linecolor\":\"white\",\"showbackground\":true,\"ticks\":\"\",\"zerolinecolor\":\"white\"},\"yaxis\":{\"backgroundcolor\":\"#E5ECF6\",\"gridcolor\":\"white\",\"gridwidth\":2,\"linecolor\":\"white\",\"showbackground\":true,\"ticks\":\"\",\"zerolinecolor\":\"white\"},\"zaxis\":{\"backgroundcolor\":\"#E5ECF6\",\"gridcolor\":\"white\",\"gridwidth\":2,\"linecolor\":\"white\",\"showbackground\":true,\"ticks\":\"\",\"zerolinecolor\":\"white\"}},\"shapedefaults\":{\"line\":{\"color\":\"#2a3f5f\"}},\"ternary\":{\"aaxis\":{\"gridcolor\":\"white\",\"linecolor\":\"white\",\"ticks\":\"\"},\"baxis\":{\"gridcolor\":\"white\",\"linecolor\":\"white\",\"ticks\":\"\"},\"bgcolor\":\"#E5ECF6\",\"caxis\":{\"gridcolor\":\"white\",\"linecolor\":\"white\",\"ticks\":\"\"}},\"title\":{\"x\":0.05},\"xaxis\":{\"automargin\":true,\"gridcolor\":\"white\",\"linecolor\":\"white\",\"ticks\":\"\",\"title\":{\"standoff\":15},\"zerolinecolor\":\"white\",\"zerolinewidth\":2},\"yaxis\":{\"automargin\":true,\"gridcolor\":\"white\",\"linecolor\":\"white\",\"ticks\":\"\",\"title\":{\"standoff\":15},\"zerolinecolor\":\"white\",\"zerolinewidth\":2}}},\"xaxis\":{\"anchor\":\"y\",\"domain\":[0.0,1.0],\"title\":{\"text\":\"Luck\"}},\"yaxis\":{\"anchor\":\"x\",\"domain\":[0.0,1.0],\"title\":{\"text\":\"count\"}},\"legend\":{\"tracegroupgap\":0},\"title\":{\"text\":\"Luck\"},\"barmode\":\"relative\"},                        {\"responsive\": true}                    ).then(function(){\n",
              "                            \n",
              "var gd = document.getElementById('ace64f27-7407-4ff7-941e-0d0de7b51333');\n",
              "var x = new MutationObserver(function (mutations, observer) {{\n",
              "        var display = window.getComputedStyle(gd).display;\n",
              "        if (!display || display === 'none') {{\n",
              "            console.log([gd, 'removed!']);\n",
              "            Plotly.purge(gd);\n",
              "            observer.disconnect();\n",
              "        }}\n",
              "}});\n",
              "\n",
              "// Listen for the removal of the full notebook cells\n",
              "var notebookContainer = gd.closest('#notebook-container');\n",
              "if (notebookContainer) {{\n",
              "    x.observe(notebookContainer, {childList: true});\n",
              "}}\n",
              "\n",
              "// Listen for the clearing of the current output cell\n",
              "var outputEl = gd.closest('.output');\n",
              "if (outputEl) {{\n",
              "    x.observe(outputEl, {childList: true});\n",
              "}}\n",
              "\n",
              "                        })                };                            </script>        </div>\n",
              "</body>\n",
              "</html>"
            ]
          },
          "metadata": {}
        }
      ]
    },
    {
      "cell_type": "code",
      "source": [
        "import plotly.express as px\n",
        "fig = px.histogram(shoedf, x='Comfortability', title='Comfortability',nbins=50,color_discrete_sequence=['blue'])\n",
        "fig.show()"
      ],
      "metadata": {
        "colab": {
          "base_uri": "https://localhost:8080/",
          "height": 542
        },
        "id": "BQqBKe1sHHTB",
        "outputId": "b5e680ec-a507-4c65-8b10-ce643481966d"
      },
      "execution_count": null,
      "outputs": [
        {
          "output_type": "display_data",
          "data": {
            "text/html": [
              "<html>\n",
              "<head><meta charset=\"utf-8\" /></head>\n",
              "<body>\n",
              "    <div>            <script src=\"https://cdnjs.cloudflare.com/ajax/libs/mathjax/2.7.5/MathJax.js?config=TeX-AMS-MML_SVG\"></script><script type=\"text/javascript\">if (window.MathJax) {MathJax.Hub.Config({SVG: {font: \"STIX-Web\"}});}</script>                <script type=\"text/javascript\">window.PlotlyConfig = {MathJaxConfig: 'local'};</script>\n",
              "        <script src=\"https://cdn.plot.ly/plotly-2.8.3.min.js\"></script>                <div id=\"c637c057-fcdc-4f9d-9a65-a0b633a4a6ec\" class=\"plotly-graph-div\" style=\"height:525px; width:100%;\"></div>            <script type=\"text/javascript\">                                    window.PLOTLYENV=window.PLOTLYENV || {};                                    if (document.getElementById(\"c637c057-fcdc-4f9d-9a65-a0b633a4a6ec\")) {                    Plotly.newPlot(                        \"c637c057-fcdc-4f9d-9a65-a0b633a4a6ec\",                        [{\"alignmentgroup\":\"True\",\"bingroup\":\"x\",\"hovertemplate\":\"Comfortability=%{x}<br>count=%{y}<extra></extra>\",\"legendgroup\":\"\",\"marker\":{\"color\":\"blue\",\"pattern\":{\"shape\":\"\"}},\"name\":\"\",\"nbinsx\":50,\"offsetgroup\":\"\",\"orientation\":\"v\",\"showlegend\":false,\"x\":[1.7,9.5,null,8.3,2.4,6.5,3.7,7.5,1.2,40.5,4.8,5.7,9.8,6.8,7.8,4.5,3.5,2.2,4.1,2.3,17.7,10.2,2.9,9.5,6.6,2.8,1.6,5.6,3.0,6.4,4.9,1.2,9.6,2.6,7.5,9.2,1.7,1.2,6.2,2.8,8.5,7.2,5.2,3.6,3.3,4.2,4.3,4.7,1.3,3.4,15.9,16.8,20.8,11.6,2.4],\"xaxis\":\"x\",\"yaxis\":\"y\",\"type\":\"histogram\"}],                        {\"template\":{\"data\":{\"bar\":[{\"error_x\":{\"color\":\"#2a3f5f\"},\"error_y\":{\"color\":\"#2a3f5f\"},\"marker\":{\"line\":{\"color\":\"#E5ECF6\",\"width\":0.5},\"pattern\":{\"fillmode\":\"overlay\",\"size\":10,\"solidity\":0.2}},\"type\":\"bar\"}],\"barpolar\":[{\"marker\":{\"line\":{\"color\":\"#E5ECF6\",\"width\":0.5},\"pattern\":{\"fillmode\":\"overlay\",\"size\":10,\"solidity\":0.2}},\"type\":\"barpolar\"}],\"carpet\":[{\"aaxis\":{\"endlinecolor\":\"#2a3f5f\",\"gridcolor\":\"white\",\"linecolor\":\"white\",\"minorgridcolor\":\"white\",\"startlinecolor\":\"#2a3f5f\"},\"baxis\":{\"endlinecolor\":\"#2a3f5f\",\"gridcolor\":\"white\",\"linecolor\":\"white\",\"minorgridcolor\":\"white\",\"startlinecolor\":\"#2a3f5f\"},\"type\":\"carpet\"}],\"choropleth\":[{\"colorbar\":{\"outlinewidth\":0,\"ticks\":\"\"},\"type\":\"choropleth\"}],\"contour\":[{\"colorbar\":{\"outlinewidth\":0,\"ticks\":\"\"},\"colorscale\":[[0.0,\"#0d0887\"],[0.1111111111111111,\"#46039f\"],[0.2222222222222222,\"#7201a8\"],[0.3333333333333333,\"#9c179e\"],[0.4444444444444444,\"#bd3786\"],[0.5555555555555556,\"#d8576b\"],[0.6666666666666666,\"#ed7953\"],[0.7777777777777778,\"#fb9f3a\"],[0.8888888888888888,\"#fdca26\"],[1.0,\"#f0f921\"]],\"type\":\"contour\"}],\"contourcarpet\":[{\"colorbar\":{\"outlinewidth\":0,\"ticks\":\"\"},\"type\":\"contourcarpet\"}],\"heatmap\":[{\"colorbar\":{\"outlinewidth\":0,\"ticks\":\"\"},\"colorscale\":[[0.0,\"#0d0887\"],[0.1111111111111111,\"#46039f\"],[0.2222222222222222,\"#7201a8\"],[0.3333333333333333,\"#9c179e\"],[0.4444444444444444,\"#bd3786\"],[0.5555555555555556,\"#d8576b\"],[0.6666666666666666,\"#ed7953\"],[0.7777777777777778,\"#fb9f3a\"],[0.8888888888888888,\"#fdca26\"],[1.0,\"#f0f921\"]],\"type\":\"heatmap\"}],\"heatmapgl\":[{\"colorbar\":{\"outlinewidth\":0,\"ticks\":\"\"},\"colorscale\":[[0.0,\"#0d0887\"],[0.1111111111111111,\"#46039f\"],[0.2222222222222222,\"#7201a8\"],[0.3333333333333333,\"#9c179e\"],[0.4444444444444444,\"#bd3786\"],[0.5555555555555556,\"#d8576b\"],[0.6666666666666666,\"#ed7953\"],[0.7777777777777778,\"#fb9f3a\"],[0.8888888888888888,\"#fdca26\"],[1.0,\"#f0f921\"]],\"type\":\"heatmapgl\"}],\"histogram\":[{\"marker\":{\"pattern\":{\"fillmode\":\"overlay\",\"size\":10,\"solidity\":0.2}},\"type\":\"histogram\"}],\"histogram2d\":[{\"colorbar\":{\"outlinewidth\":0,\"ticks\":\"\"},\"colorscale\":[[0.0,\"#0d0887\"],[0.1111111111111111,\"#46039f\"],[0.2222222222222222,\"#7201a8\"],[0.3333333333333333,\"#9c179e\"],[0.4444444444444444,\"#bd3786\"],[0.5555555555555556,\"#d8576b\"],[0.6666666666666666,\"#ed7953\"],[0.7777777777777778,\"#fb9f3a\"],[0.8888888888888888,\"#fdca26\"],[1.0,\"#f0f921\"]],\"type\":\"histogram2d\"}],\"histogram2dcontour\":[{\"colorbar\":{\"outlinewidth\":0,\"ticks\":\"\"},\"colorscale\":[[0.0,\"#0d0887\"],[0.1111111111111111,\"#46039f\"],[0.2222222222222222,\"#7201a8\"],[0.3333333333333333,\"#9c179e\"],[0.4444444444444444,\"#bd3786\"],[0.5555555555555556,\"#d8576b\"],[0.6666666666666666,\"#ed7953\"],[0.7777777777777778,\"#fb9f3a\"],[0.8888888888888888,\"#fdca26\"],[1.0,\"#f0f921\"]],\"type\":\"histogram2dcontour\"}],\"mesh3d\":[{\"colorbar\":{\"outlinewidth\":0,\"ticks\":\"\"},\"type\":\"mesh3d\"}],\"parcoords\":[{\"line\":{\"colorbar\":{\"outlinewidth\":0,\"ticks\":\"\"}},\"type\":\"parcoords\"}],\"pie\":[{\"automargin\":true,\"type\":\"pie\"}],\"scatter\":[{\"marker\":{\"colorbar\":{\"outlinewidth\":0,\"ticks\":\"\"}},\"type\":\"scatter\"}],\"scatter3d\":[{\"line\":{\"colorbar\":{\"outlinewidth\":0,\"ticks\":\"\"}},\"marker\":{\"colorbar\":{\"outlinewidth\":0,\"ticks\":\"\"}},\"type\":\"scatter3d\"}],\"scattercarpet\":[{\"marker\":{\"colorbar\":{\"outlinewidth\":0,\"ticks\":\"\"}},\"type\":\"scattercarpet\"}],\"scattergeo\":[{\"marker\":{\"colorbar\":{\"outlinewidth\":0,\"ticks\":\"\"}},\"type\":\"scattergeo\"}],\"scattergl\":[{\"marker\":{\"colorbar\":{\"outlinewidth\":0,\"ticks\":\"\"}},\"type\":\"scattergl\"}],\"scattermapbox\":[{\"marker\":{\"colorbar\":{\"outlinewidth\":0,\"ticks\":\"\"}},\"type\":\"scattermapbox\"}],\"scatterpolar\":[{\"marker\":{\"colorbar\":{\"outlinewidth\":0,\"ticks\":\"\"}},\"type\":\"scatterpolar\"}],\"scatterpolargl\":[{\"marker\":{\"colorbar\":{\"outlinewidth\":0,\"ticks\":\"\"}},\"type\":\"scatterpolargl\"}],\"scatterternary\":[{\"marker\":{\"colorbar\":{\"outlinewidth\":0,\"ticks\":\"\"}},\"type\":\"scatterternary\"}],\"surface\":[{\"colorbar\":{\"outlinewidth\":0,\"ticks\":\"\"},\"colorscale\":[[0.0,\"#0d0887\"],[0.1111111111111111,\"#46039f\"],[0.2222222222222222,\"#7201a8\"],[0.3333333333333333,\"#9c179e\"],[0.4444444444444444,\"#bd3786\"],[0.5555555555555556,\"#d8576b\"],[0.6666666666666666,\"#ed7953\"],[0.7777777777777778,\"#fb9f3a\"],[0.8888888888888888,\"#fdca26\"],[1.0,\"#f0f921\"]],\"type\":\"surface\"}],\"table\":[{\"cells\":{\"fill\":{\"color\":\"#EBF0F8\"},\"line\":{\"color\":\"white\"}},\"header\":{\"fill\":{\"color\":\"#C8D4E3\"},\"line\":{\"color\":\"white\"}},\"type\":\"table\"}]},\"layout\":{\"annotationdefaults\":{\"arrowcolor\":\"#2a3f5f\",\"arrowhead\":0,\"arrowwidth\":1},\"autotypenumbers\":\"strict\",\"coloraxis\":{\"colorbar\":{\"outlinewidth\":0,\"ticks\":\"\"}},\"colorscale\":{\"diverging\":[[0,\"#8e0152\"],[0.1,\"#c51b7d\"],[0.2,\"#de77ae\"],[0.3,\"#f1b6da\"],[0.4,\"#fde0ef\"],[0.5,\"#f7f7f7\"],[0.6,\"#e6f5d0\"],[0.7,\"#b8e186\"],[0.8,\"#7fbc41\"],[0.9,\"#4d9221\"],[1,\"#276419\"]],\"sequential\":[[0.0,\"#0d0887\"],[0.1111111111111111,\"#46039f\"],[0.2222222222222222,\"#7201a8\"],[0.3333333333333333,\"#9c179e\"],[0.4444444444444444,\"#bd3786\"],[0.5555555555555556,\"#d8576b\"],[0.6666666666666666,\"#ed7953\"],[0.7777777777777778,\"#fb9f3a\"],[0.8888888888888888,\"#fdca26\"],[1.0,\"#f0f921\"]],\"sequentialminus\":[[0.0,\"#0d0887\"],[0.1111111111111111,\"#46039f\"],[0.2222222222222222,\"#7201a8\"],[0.3333333333333333,\"#9c179e\"],[0.4444444444444444,\"#bd3786\"],[0.5555555555555556,\"#d8576b\"],[0.6666666666666666,\"#ed7953\"],[0.7777777777777778,\"#fb9f3a\"],[0.8888888888888888,\"#fdca26\"],[1.0,\"#f0f921\"]]},\"colorway\":[\"#636efa\",\"#EF553B\",\"#00cc96\",\"#ab63fa\",\"#FFA15A\",\"#19d3f3\",\"#FF6692\",\"#B6E880\",\"#FF97FF\",\"#FECB52\"],\"font\":{\"color\":\"#2a3f5f\"},\"geo\":{\"bgcolor\":\"white\",\"lakecolor\":\"white\",\"landcolor\":\"#E5ECF6\",\"showlakes\":true,\"showland\":true,\"subunitcolor\":\"white\"},\"hoverlabel\":{\"align\":\"left\"},\"hovermode\":\"closest\",\"mapbox\":{\"style\":\"light\"},\"paper_bgcolor\":\"white\",\"plot_bgcolor\":\"#E5ECF6\",\"polar\":{\"angularaxis\":{\"gridcolor\":\"white\",\"linecolor\":\"white\",\"ticks\":\"\"},\"bgcolor\":\"#E5ECF6\",\"radialaxis\":{\"gridcolor\":\"white\",\"linecolor\":\"white\",\"ticks\":\"\"}},\"scene\":{\"xaxis\":{\"backgroundcolor\":\"#E5ECF6\",\"gridcolor\":\"white\",\"gridwidth\":2,\"linecolor\":\"white\",\"showbackground\":true,\"ticks\":\"\",\"zerolinecolor\":\"white\"},\"yaxis\":{\"backgroundcolor\":\"#E5ECF6\",\"gridcolor\":\"white\",\"gridwidth\":2,\"linecolor\":\"white\",\"showbackground\":true,\"ticks\":\"\",\"zerolinecolor\":\"white\"},\"zaxis\":{\"backgroundcolor\":\"#E5ECF6\",\"gridcolor\":\"white\",\"gridwidth\":2,\"linecolor\":\"white\",\"showbackground\":true,\"ticks\":\"\",\"zerolinecolor\":\"white\"}},\"shapedefaults\":{\"line\":{\"color\":\"#2a3f5f\"}},\"ternary\":{\"aaxis\":{\"gridcolor\":\"white\",\"linecolor\":\"white\",\"ticks\":\"\"},\"baxis\":{\"gridcolor\":\"white\",\"linecolor\":\"white\",\"ticks\":\"\"},\"bgcolor\":\"#E5ECF6\",\"caxis\":{\"gridcolor\":\"white\",\"linecolor\":\"white\",\"ticks\":\"\"}},\"title\":{\"x\":0.05},\"xaxis\":{\"automargin\":true,\"gridcolor\":\"white\",\"linecolor\":\"white\",\"ticks\":\"\",\"title\":{\"standoff\":15},\"zerolinecolor\":\"white\",\"zerolinewidth\":2},\"yaxis\":{\"automargin\":true,\"gridcolor\":\"white\",\"linecolor\":\"white\",\"ticks\":\"\",\"title\":{\"standoff\":15},\"zerolinecolor\":\"white\",\"zerolinewidth\":2}}},\"xaxis\":{\"anchor\":\"y\",\"domain\":[0.0,1.0],\"title\":{\"text\":\"Comfortability\"}},\"yaxis\":{\"anchor\":\"x\",\"domain\":[0.0,1.0],\"title\":{\"text\":\"count\"}},\"legend\":{\"tracegroupgap\":0},\"title\":{\"text\":\"Comfortability\"},\"barmode\":\"relative\"},                        {\"responsive\": true}                    ).then(function(){\n",
              "                            \n",
              "var gd = document.getElementById('c637c057-fcdc-4f9d-9a65-a0b633a4a6ec');\n",
              "var x = new MutationObserver(function (mutations, observer) {{\n",
              "        var display = window.getComputedStyle(gd).display;\n",
              "        if (!display || display === 'none') {{\n",
              "            console.log([gd, 'removed!']);\n",
              "            Plotly.purge(gd);\n",
              "            observer.disconnect();\n",
              "        }}\n",
              "}});\n",
              "\n",
              "// Listen for the removal of the full notebook cells\n",
              "var notebookContainer = gd.closest('#notebook-container');\n",
              "if (notebookContainer) {{\n",
              "    x.observe(notebookContainer, {childList: true});\n",
              "}}\n",
              "\n",
              "// Listen for the clearing of the current output cell\n",
              "var outputEl = gd.closest('.output');\n",
              "if (outputEl) {{\n",
              "    x.observe(outputEl, {childList: true});\n",
              "}}\n",
              "\n",
              "                        })                };                            </script>        </div>\n",
              "</body>\n",
              "</html>"
            ]
          },
          "metadata": {}
        }
      ]
    },
    {
      "cell_type": "code",
      "source": [
        "import plotly.express as px\n",
        "fig = px.histogram(shoedf, x='Resilience', title='Resilience',nbins=50,color_discrete_sequence=['magenta'])\n",
        "fig.show()"
      ],
      "metadata": {
        "colab": {
          "base_uri": "https://localhost:8080/",
          "height": 542
        },
        "id": "2-iEJBawHJKT",
        "outputId": "a69a55ce-e264-4117-b9d5-32920da24efc"
      },
      "execution_count": null,
      "outputs": [
        {
          "output_type": "display_data",
          "data": {
            "text/html": [
              "<html>\n",
              "<head><meta charset=\"utf-8\" /></head>\n",
              "<body>\n",
              "    <div>            <script src=\"https://cdnjs.cloudflare.com/ajax/libs/mathjax/2.7.5/MathJax.js?config=TeX-AMS-MML_SVG\"></script><script type=\"text/javascript\">if (window.MathJax) {MathJax.Hub.Config({SVG: {font: \"STIX-Web\"}});}</script>                <script type=\"text/javascript\">window.PlotlyConfig = {MathJaxConfig: 'local'};</script>\n",
              "        <script src=\"https://cdn.plot.ly/plotly-2.8.3.min.js\"></script>                <div id=\"0a53c9ba-b858-40d0-93a2-d5db8375a114\" class=\"plotly-graph-div\" style=\"height:525px; width:100%;\"></div>            <script type=\"text/javascript\">                                    window.PLOTLYENV=window.PLOTLYENV || {};                                    if (document.getElementById(\"0a53c9ba-b858-40d0-93a2-d5db8375a114\")) {                    Plotly.newPlot(                        \"0a53c9ba-b858-40d0-93a2-d5db8375a114\",                        [{\"alignmentgroup\":\"True\",\"bingroup\":\"x\",\"hovertemplate\":\"Resilience=%{x}<br>count=%{y}<extra></extra>\",\"legendgroup\":\"\",\"marker\":{\"color\":\"magenta\",\"pattern\":{\"shape\":\"\"}},\"name\":\"\",\"nbinsx\":50,\"offsetgroup\":\"\",\"orientation\":\"v\",\"showlegend\":false,\"x\":[9.9,9.9,null,2.6,7.0,7.4,7.0,9.9,11.6,38.6,3.5,4.3,11.7,11.9,2.4,10.7,4.5,3.3,10.0,2.9,17.6,11.1,8.9,11.6,6.9,10.1,6.9,7.7,7.7,11.1,2.8,8.9,9.3,7.7,7.1,10.1,2.8,3.0,4.1,8.6,1.1,6.8,3.8,9.0,1.8,1.5,6.2,8.1,10.4,11.8,21.1,20.6,20.1,15.1,10.9],\"xaxis\":\"x\",\"yaxis\":\"y\",\"type\":\"histogram\"}],                        {\"template\":{\"data\":{\"bar\":[{\"error_x\":{\"color\":\"#2a3f5f\"},\"error_y\":{\"color\":\"#2a3f5f\"},\"marker\":{\"line\":{\"color\":\"#E5ECF6\",\"width\":0.5},\"pattern\":{\"fillmode\":\"overlay\",\"size\":10,\"solidity\":0.2}},\"type\":\"bar\"}],\"barpolar\":[{\"marker\":{\"line\":{\"color\":\"#E5ECF6\",\"width\":0.5},\"pattern\":{\"fillmode\":\"overlay\",\"size\":10,\"solidity\":0.2}},\"type\":\"barpolar\"}],\"carpet\":[{\"aaxis\":{\"endlinecolor\":\"#2a3f5f\",\"gridcolor\":\"white\",\"linecolor\":\"white\",\"minorgridcolor\":\"white\",\"startlinecolor\":\"#2a3f5f\"},\"baxis\":{\"endlinecolor\":\"#2a3f5f\",\"gridcolor\":\"white\",\"linecolor\":\"white\",\"minorgridcolor\":\"white\",\"startlinecolor\":\"#2a3f5f\"},\"type\":\"carpet\"}],\"choropleth\":[{\"colorbar\":{\"outlinewidth\":0,\"ticks\":\"\"},\"type\":\"choropleth\"}],\"contour\":[{\"colorbar\":{\"outlinewidth\":0,\"ticks\":\"\"},\"colorscale\":[[0.0,\"#0d0887\"],[0.1111111111111111,\"#46039f\"],[0.2222222222222222,\"#7201a8\"],[0.3333333333333333,\"#9c179e\"],[0.4444444444444444,\"#bd3786\"],[0.5555555555555556,\"#d8576b\"],[0.6666666666666666,\"#ed7953\"],[0.7777777777777778,\"#fb9f3a\"],[0.8888888888888888,\"#fdca26\"],[1.0,\"#f0f921\"]],\"type\":\"contour\"}],\"contourcarpet\":[{\"colorbar\":{\"outlinewidth\":0,\"ticks\":\"\"},\"type\":\"contourcarpet\"}],\"heatmap\":[{\"colorbar\":{\"outlinewidth\":0,\"ticks\":\"\"},\"colorscale\":[[0.0,\"#0d0887\"],[0.1111111111111111,\"#46039f\"],[0.2222222222222222,\"#7201a8\"],[0.3333333333333333,\"#9c179e\"],[0.4444444444444444,\"#bd3786\"],[0.5555555555555556,\"#d8576b\"],[0.6666666666666666,\"#ed7953\"],[0.7777777777777778,\"#fb9f3a\"],[0.8888888888888888,\"#fdca26\"],[1.0,\"#f0f921\"]],\"type\":\"heatmap\"}],\"heatmapgl\":[{\"colorbar\":{\"outlinewidth\":0,\"ticks\":\"\"},\"colorscale\":[[0.0,\"#0d0887\"],[0.1111111111111111,\"#46039f\"],[0.2222222222222222,\"#7201a8\"],[0.3333333333333333,\"#9c179e\"],[0.4444444444444444,\"#bd3786\"],[0.5555555555555556,\"#d8576b\"],[0.6666666666666666,\"#ed7953\"],[0.7777777777777778,\"#fb9f3a\"],[0.8888888888888888,\"#fdca26\"],[1.0,\"#f0f921\"]],\"type\":\"heatmapgl\"}],\"histogram\":[{\"marker\":{\"pattern\":{\"fillmode\":\"overlay\",\"size\":10,\"solidity\":0.2}},\"type\":\"histogram\"}],\"histogram2d\":[{\"colorbar\":{\"outlinewidth\":0,\"ticks\":\"\"},\"colorscale\":[[0.0,\"#0d0887\"],[0.1111111111111111,\"#46039f\"],[0.2222222222222222,\"#7201a8\"],[0.3333333333333333,\"#9c179e\"],[0.4444444444444444,\"#bd3786\"],[0.5555555555555556,\"#d8576b\"],[0.6666666666666666,\"#ed7953\"],[0.7777777777777778,\"#fb9f3a\"],[0.8888888888888888,\"#fdca26\"],[1.0,\"#f0f921\"]],\"type\":\"histogram2d\"}],\"histogram2dcontour\":[{\"colorbar\":{\"outlinewidth\":0,\"ticks\":\"\"},\"colorscale\":[[0.0,\"#0d0887\"],[0.1111111111111111,\"#46039f\"],[0.2222222222222222,\"#7201a8\"],[0.3333333333333333,\"#9c179e\"],[0.4444444444444444,\"#bd3786\"],[0.5555555555555556,\"#d8576b\"],[0.6666666666666666,\"#ed7953\"],[0.7777777777777778,\"#fb9f3a\"],[0.8888888888888888,\"#fdca26\"],[1.0,\"#f0f921\"]],\"type\":\"histogram2dcontour\"}],\"mesh3d\":[{\"colorbar\":{\"outlinewidth\":0,\"ticks\":\"\"},\"type\":\"mesh3d\"}],\"parcoords\":[{\"line\":{\"colorbar\":{\"outlinewidth\":0,\"ticks\":\"\"}},\"type\":\"parcoords\"}],\"pie\":[{\"automargin\":true,\"type\":\"pie\"}],\"scatter\":[{\"marker\":{\"colorbar\":{\"outlinewidth\":0,\"ticks\":\"\"}},\"type\":\"scatter\"}],\"scatter3d\":[{\"line\":{\"colorbar\":{\"outlinewidth\":0,\"ticks\":\"\"}},\"marker\":{\"colorbar\":{\"outlinewidth\":0,\"ticks\":\"\"}},\"type\":\"scatter3d\"}],\"scattercarpet\":[{\"marker\":{\"colorbar\":{\"outlinewidth\":0,\"ticks\":\"\"}},\"type\":\"scattercarpet\"}],\"scattergeo\":[{\"marker\":{\"colorbar\":{\"outlinewidth\":0,\"ticks\":\"\"}},\"type\":\"scattergeo\"}],\"scattergl\":[{\"marker\":{\"colorbar\":{\"outlinewidth\":0,\"ticks\":\"\"}},\"type\":\"scattergl\"}],\"scattermapbox\":[{\"marker\":{\"colorbar\":{\"outlinewidth\":0,\"ticks\":\"\"}},\"type\":\"scattermapbox\"}],\"scatterpolar\":[{\"marker\":{\"colorbar\":{\"outlinewidth\":0,\"ticks\":\"\"}},\"type\":\"scatterpolar\"}],\"scatterpolargl\":[{\"marker\":{\"colorbar\":{\"outlinewidth\":0,\"ticks\":\"\"}},\"type\":\"scatterpolargl\"}],\"scatterternary\":[{\"marker\":{\"colorbar\":{\"outlinewidth\":0,\"ticks\":\"\"}},\"type\":\"scatterternary\"}],\"surface\":[{\"colorbar\":{\"outlinewidth\":0,\"ticks\":\"\"},\"colorscale\":[[0.0,\"#0d0887\"],[0.1111111111111111,\"#46039f\"],[0.2222222222222222,\"#7201a8\"],[0.3333333333333333,\"#9c179e\"],[0.4444444444444444,\"#bd3786\"],[0.5555555555555556,\"#d8576b\"],[0.6666666666666666,\"#ed7953\"],[0.7777777777777778,\"#fb9f3a\"],[0.8888888888888888,\"#fdca26\"],[1.0,\"#f0f921\"]],\"type\":\"surface\"}],\"table\":[{\"cells\":{\"fill\":{\"color\":\"#EBF0F8\"},\"line\":{\"color\":\"white\"}},\"header\":{\"fill\":{\"color\":\"#C8D4E3\"},\"line\":{\"color\":\"white\"}},\"type\":\"table\"}]},\"layout\":{\"annotationdefaults\":{\"arrowcolor\":\"#2a3f5f\",\"arrowhead\":0,\"arrowwidth\":1},\"autotypenumbers\":\"strict\",\"coloraxis\":{\"colorbar\":{\"outlinewidth\":0,\"ticks\":\"\"}},\"colorscale\":{\"diverging\":[[0,\"#8e0152\"],[0.1,\"#c51b7d\"],[0.2,\"#de77ae\"],[0.3,\"#f1b6da\"],[0.4,\"#fde0ef\"],[0.5,\"#f7f7f7\"],[0.6,\"#e6f5d0\"],[0.7,\"#b8e186\"],[0.8,\"#7fbc41\"],[0.9,\"#4d9221\"],[1,\"#276419\"]],\"sequential\":[[0.0,\"#0d0887\"],[0.1111111111111111,\"#46039f\"],[0.2222222222222222,\"#7201a8\"],[0.3333333333333333,\"#9c179e\"],[0.4444444444444444,\"#bd3786\"],[0.5555555555555556,\"#d8576b\"],[0.6666666666666666,\"#ed7953\"],[0.7777777777777778,\"#fb9f3a\"],[0.8888888888888888,\"#fdca26\"],[1.0,\"#f0f921\"]],\"sequentialminus\":[[0.0,\"#0d0887\"],[0.1111111111111111,\"#46039f\"],[0.2222222222222222,\"#7201a8\"],[0.3333333333333333,\"#9c179e\"],[0.4444444444444444,\"#bd3786\"],[0.5555555555555556,\"#d8576b\"],[0.6666666666666666,\"#ed7953\"],[0.7777777777777778,\"#fb9f3a\"],[0.8888888888888888,\"#fdca26\"],[1.0,\"#f0f921\"]]},\"colorway\":[\"#636efa\",\"#EF553B\",\"#00cc96\",\"#ab63fa\",\"#FFA15A\",\"#19d3f3\",\"#FF6692\",\"#B6E880\",\"#FF97FF\",\"#FECB52\"],\"font\":{\"color\":\"#2a3f5f\"},\"geo\":{\"bgcolor\":\"white\",\"lakecolor\":\"white\",\"landcolor\":\"#E5ECF6\",\"showlakes\":true,\"showland\":true,\"subunitcolor\":\"white\"},\"hoverlabel\":{\"align\":\"left\"},\"hovermode\":\"closest\",\"mapbox\":{\"style\":\"light\"},\"paper_bgcolor\":\"white\",\"plot_bgcolor\":\"#E5ECF6\",\"polar\":{\"angularaxis\":{\"gridcolor\":\"white\",\"linecolor\":\"white\",\"ticks\":\"\"},\"bgcolor\":\"#E5ECF6\",\"radialaxis\":{\"gridcolor\":\"white\",\"linecolor\":\"white\",\"ticks\":\"\"}},\"scene\":{\"xaxis\":{\"backgroundcolor\":\"#E5ECF6\",\"gridcolor\":\"white\",\"gridwidth\":2,\"linecolor\":\"white\",\"showbackground\":true,\"ticks\":\"\",\"zerolinecolor\":\"white\"},\"yaxis\":{\"backgroundcolor\":\"#E5ECF6\",\"gridcolor\":\"white\",\"gridwidth\":2,\"linecolor\":\"white\",\"showbackground\":true,\"ticks\":\"\",\"zerolinecolor\":\"white\"},\"zaxis\":{\"backgroundcolor\":\"#E5ECF6\",\"gridcolor\":\"white\",\"gridwidth\":2,\"linecolor\":\"white\",\"showbackground\":true,\"ticks\":\"\",\"zerolinecolor\":\"white\"}},\"shapedefaults\":{\"line\":{\"color\":\"#2a3f5f\"}},\"ternary\":{\"aaxis\":{\"gridcolor\":\"white\",\"linecolor\":\"white\",\"ticks\":\"\"},\"baxis\":{\"gridcolor\":\"white\",\"linecolor\":\"white\",\"ticks\":\"\"},\"bgcolor\":\"#E5ECF6\",\"caxis\":{\"gridcolor\":\"white\",\"linecolor\":\"white\",\"ticks\":\"\"}},\"title\":{\"x\":0.05},\"xaxis\":{\"automargin\":true,\"gridcolor\":\"white\",\"linecolor\":\"white\",\"ticks\":\"\",\"title\":{\"standoff\":15},\"zerolinecolor\":\"white\",\"zerolinewidth\":2},\"yaxis\":{\"automargin\":true,\"gridcolor\":\"white\",\"linecolor\":\"white\",\"ticks\":\"\",\"title\":{\"standoff\":15},\"zerolinecolor\":\"white\",\"zerolinewidth\":2}}},\"xaxis\":{\"anchor\":\"y\",\"domain\":[0.0,1.0],\"title\":{\"text\":\"Resilience\"}},\"yaxis\":{\"anchor\":\"x\",\"domain\":[0.0,1.0],\"title\":{\"text\":\"count\"}},\"legend\":{\"tracegroupgap\":0},\"title\":{\"text\":\"Resilience\"},\"barmode\":\"relative\"},                        {\"responsive\": true}                    ).then(function(){\n",
              "                            \n",
              "var gd = document.getElementById('0a53c9ba-b858-40d0-93a2-d5db8375a114');\n",
              "var x = new MutationObserver(function (mutations, observer) {{\n",
              "        var display = window.getComputedStyle(gd).display;\n",
              "        if (!display || display === 'none') {{\n",
              "            console.log([gd, 'removed!']);\n",
              "            Plotly.purge(gd);\n",
              "            observer.disconnect();\n",
              "        }}\n",
              "}});\n",
              "\n",
              "// Listen for the removal of the full notebook cells\n",
              "var notebookContainer = gd.closest('#notebook-container');\n",
              "if (notebookContainer) {{\n",
              "    x.observe(notebookContainer, {childList: true});\n",
              "}}\n",
              "\n",
              "// Listen for the clearing of the current output cell\n",
              "var outputEl = gd.closest('.output');\n",
              "if (outputEl) {{\n",
              "    x.observe(outputEl, {childList: true});\n",
              "}}\n",
              "\n",
              "                        })                };                            </script>        </div>\n",
              "</body>\n",
              "</html>"
            ]
          },
          "metadata": {}
        }
      ]
    },
    {
      "cell_type": "markdown",
      "source": [
        "### Socket"
      ],
      "metadata": {
        "id": "bntWeZHqHWgK"
      }
    },
    {
      "cell_type": "code",
      "source": [
        "import plotly.express as px\n",
        "\n",
        "tempdf = shoedf[\"Socket 1\"]\n",
        "tempdf = tempdf.append(shoedf[\"Socket 2\"])\n",
        "tempdf = tempdf.append(shoedf[\"Socket 3\"])\n",
        "tempdf = tempdf.append(shoedf[\"Socket 4\"])\n",
        "tempdf = pd.DataFrame(tempdf.to_list(), columns = [\"socket\"])\n",
        "\n",
        "fig = px.pie(tempdf, names='socket', title='Minting count')\n",
        "fig.show()"
      ],
      "metadata": {
        "colab": {
          "base_uri": "https://localhost:8080/",
          "height": 542
        },
        "id": "Yu-UBY0WHVXJ",
        "outputId": "1a66d75c-798e-483a-c996-511ee47e07b9"
      },
      "execution_count": null,
      "outputs": [
        {
          "output_type": "display_data",
          "data": {
            "text/html": [
              "<html>\n",
              "<head><meta charset=\"utf-8\" /></head>\n",
              "<body>\n",
              "    <div>            <script src=\"https://cdnjs.cloudflare.com/ajax/libs/mathjax/2.7.5/MathJax.js?config=TeX-AMS-MML_SVG\"></script><script type=\"text/javascript\">if (window.MathJax) {MathJax.Hub.Config({SVG: {font: \"STIX-Web\"}});}</script>                <script type=\"text/javascript\">window.PlotlyConfig = {MathJaxConfig: 'local'};</script>\n",
              "        <script src=\"https://cdn.plot.ly/plotly-2.8.3.min.js\"></script>                <div id=\"baf1a642-0678-44cd-bf52-3bbb05c0cf8e\" class=\"plotly-graph-div\" style=\"height:525px; width:100%;\"></div>            <script type=\"text/javascript\">                                    window.PLOTLYENV=window.PLOTLYENV || {};                                    if (document.getElementById(\"baf1a642-0678-44cd-bf52-3bbb05c0cf8e\")) {                    Plotly.newPlot(                        \"baf1a642-0678-44cd-bf52-3bbb05c0cf8e\",                        [{\"domain\":{\"x\":[0.0,1.0],\"y\":[0.0,1.0]},\"hovertemplate\":\"socket=%{label}<extra></extra>\",\"labels\":[\"Luck/unknown/empty\",\"Durability/unknown/empty\",null,\"Durability/unknown/empty\",\"Durability/unknown/empty\",\"Luck/unknown/empty\",\"Comfort/unknown/empty\",\"Efficiency/unknown/empty\",\"Efficiency/unknown/empty\",\"Comfort/unknown/empty\",\"Efficiency/unknown/empty\",\"Luck/unknown/empty\",\"Comfort/unknown/empty\",\"Luck/unknown/empty\",\"Luck/unknown/empty\",\"Comfort/unknown/empty\",\"Luck/unknown/empty\",\"Comfort/unknown/empty\",\"Comfort/unknown/empty\",\"Efficiency/unknown/empty\",\"Durability/unknown/empty\",\"Comfort/unknown/empty\",\"Luck/unknown/empty\",\"Durability/unknown/empty\",\"Comfort/unknown/empty\",\"Luck/unknown/empty\",\"Efficiency/unknown/empty\",\"Luck/unknown/empty\",\"Efficiency/unknown/empty\",\"Comfort/unknown/empty\",\"Comfort/unknown/empty\",\"Comfort/unknown/empty\",\"Luck/unknown/empty\",\"Luck/unknown/empty\",\"Durability/unknown/empty\",\"Efficiency/Lv.1/empty\",\"Efficiency/unknown/empty\",\"Efficiency/unknown/empty\",\"Efficiency/unknown/empty\",\"Efficiency/unknown/empty\",\"Efficiency/unknown/empty\",\"Efficiency/unknown/empty\",\"Comfort/unknown/empty\",\"Durability/unknown/empty\",\"Luck/unknown/empty\",\"Comfort/unknown/empty\",\"Durability/unknown/empty\",\"Durability/unknown/empty\",\"Luck/unknown/empty\",\"Efficiency/unknown/empty\",\"Efficiency/unknown/empty\",\"Luck/Lv.1/empty\",\"Comfort/unknown/empty\",\"Comfort/unknown/empty\",\"Efficiency/unknown/empty\",\"Durability/unknown/empty\",\"Luck/unknown/empty\",null,\"Luck/unknown/empty\",\"Comfort/unknown/empty\",\"Luck/unknown/empty\",\"Efficiency/unknown/empty\",\"Luck/unknown/empty\",\"Durability/unknown/empty\",\"Luck/unknown/empty\",\"Durability/unknown/empty\",\"Durability/unknown/empty\",\"Durability/unknown/empty\",\"Comfort/unknown/empty\",\"Efficiency/unknown/empty\",\"Comfort/unknown/empty\",\"Comfort/unknown/empty\",\"Durability/unknown/empty\",\"Efficiency/unknown/empty\",\"Durability/unknown/empty\",\"Efficiency/unknown/empty\",\"Comfort/unknown/empty\",\"Durability/unknown/empty\",\"Durability/unknown/empty\",\"Luck/unknown/empty\",\"Comfort/unknown/empty\",\"Comfort/unknown/empty\",\"Efficiency/unknown/empty\",\"Durability/unknown/empty\",\"Durability/unknown/empty\",\"Efficiency/unknown/empty\",\"Comfort/unknown/empty\",\"Durability/unknown/empty\",\"Efficiency/unknown/empty\",\"Durability/unknown/empty\",\"Comfort/unknown/empty\",\"Luck/unknown/empty\",\"Comfort/unknown/empty\",\"Efficiency/unknown/empty\",\"Durability/unknown/empty\",\"Efficiency/unknown/empty\",\"Durability/unknown/empty\",\"Durability/unknown/empty\",\"Luck/unknown/empty\",\"Durability/unknown/empty\",\"Comfort/unknown/empty\",\"Luck/unknown/empty\",\"Luck/unknown/empty\",\"Comfort/unknown/empty\",\"Efficiency/unknown/empty\",\"Efficiency/unknown/empty\",\"Efficiency/Lv.2/empty\",\"Comfort/unknown/empty\",\"Efficiency/unknown/empty\",\"Durability/unknown/empty\",\"Luck/unknown/empty\",\"Durability/unknown/empty\",null,\"Luck/unknown/empty\",\"Luck/unknown/empty\",\"Comfort/unknown/empty\",\"Efficiency/unknown/empty\",\"Durability/unknown/empty\",\"Durability/unknown/empty\",\"Efficiency/unknown/empty\",\"Efficiency/unknown/empty\",\"Luck/unknown/empty\",\"Comfort/unknown/empty\",\"Luck/unknown/empty\",\"Luck/unknown/empty\",\"Comfort/unknown/empty\",\"Comfort/unknown/empty\",\"Comfort/unknown/empty\",\"Efficiency/unknown/empty\",\"Efficiency/unknown/empty\",\"Comfort/unknown/empty\",\"Durability/unknown/empty\",\"Efficiency/unknown/empty\",\"Efficiency/unknown/empty\",\"Durability/unknown/empty\",\"Luck/unknown/empty\",\"Efficiency/unknown/empty\",\"Durability/unknown/empty\",\"Durability/unknown/empty\",\"Durability/unknown/empty\",\"Comfort/unknown/empty\",\"Efficiency/unknown/empty\",\"Comfort/unknown/empty\",\"Durability/unknown/empty\",\"Durability/unknown/empty\",\"Efficiency/unknown/empty\",\"Comfort/unknown/empty\",\"Comfort/unknown/empty\",\"Luck/unknown/empty\",\"Durability/unknown/empty\",\"Durability/unknown/empty\",\"Luck/unknown/empty\",\"Efficiency/unknown/empty\",\"Luck/unknown/empty\",\"Comfort/unknown/empty\",\"Luck/unknown/empty\",\"Comfort/unknown/empty\",\"Comfort/unknown/empty\",\"Luck/unknown/empty\",\"Luck/unknown/empty\",\"Durability/unknown/empty\",\"Efficiency/Lv.2/empty\",\"Comfort/unknown/empty\",\"Efficiency/unknown/empty\",\"Comfort/unknown/empty\",\"Durability/unknown/empty\",\"Comfort/unknown/empty\",null,\"Durability/unknown/empty\",\"Efficiency/unknown/empty\",\"Durability/unknown/empty\",\"Comfort/unknown/empty\",\"Luck/unknown/empty\",\"Comfort/unknown/empty\",\"Luck/unknown/empty\",\"Durability/unknown/empty\",\"Comfort/unknown/empty\",\"Comfort/unknown/empty\",\"Luck/unknown/empty\",\"Luck/unknown/empty\",\"Comfort/unknown/empty\",\"Comfort/unknown/empty\",\"Luck/unknown/empty\",\"Comfort/unknown/empty\",\"Efficiency/unknown/empty\",\"Luck/unknown/empty\",\"Comfort/unknown/empty\",\"Luck/unknown/empty\",\"Comfort/unknown/empty\",\"Luck/unknown/empty\",\"Luck/unknown/empty\",\"Efficiency/unknown/empty\",\"Efficiency/unknown/empty\",\"Luck/unknown/empty\",\"Efficiency/unknown/empty\",\"Efficiency/unknown/empty\",\"Efficiency/unknown/empty\",\"Comfort/unknown/empty\",\"Durability/unknown/empty\",\"Durability/unknown/empty\",\"Luck/unknown/empty\",\"Luck/unknown/empty\",\"Durability/unknown/empty\",\"Durability/unknown/empty\",\"Efficiency/unknown/empty\",\"Durability/unknown/empty\",\"Durability/unknown/empty\",\"Luck/unknown/empty\",\"Comfort/unknown/empty\",\"Comfort/unknown/empty\",\"Luck/unknown/empty\",\"Durability/unknown/empty\",\"Durability/unknown/empty\",\"Luck/unknown/empty\",\"Efficiency/unknown/empty\",\"Luck/unknown/empty\",\"Efficiency/Lv.1/empty\",\"Durability/unknown/empty\",\"Luck/unknown/empty\",\"Efficiency/unknown/empty\"],\"legendgroup\":\"\",\"name\":\"\",\"showlegend\":true,\"type\":\"pie\"}],                        {\"template\":{\"data\":{\"bar\":[{\"error_x\":{\"color\":\"#2a3f5f\"},\"error_y\":{\"color\":\"#2a3f5f\"},\"marker\":{\"line\":{\"color\":\"#E5ECF6\",\"width\":0.5},\"pattern\":{\"fillmode\":\"overlay\",\"size\":10,\"solidity\":0.2}},\"type\":\"bar\"}],\"barpolar\":[{\"marker\":{\"line\":{\"color\":\"#E5ECF6\",\"width\":0.5},\"pattern\":{\"fillmode\":\"overlay\",\"size\":10,\"solidity\":0.2}},\"type\":\"barpolar\"}],\"carpet\":[{\"aaxis\":{\"endlinecolor\":\"#2a3f5f\",\"gridcolor\":\"white\",\"linecolor\":\"white\",\"minorgridcolor\":\"white\",\"startlinecolor\":\"#2a3f5f\"},\"baxis\":{\"endlinecolor\":\"#2a3f5f\",\"gridcolor\":\"white\",\"linecolor\":\"white\",\"minorgridcolor\":\"white\",\"startlinecolor\":\"#2a3f5f\"},\"type\":\"carpet\"}],\"choropleth\":[{\"colorbar\":{\"outlinewidth\":0,\"ticks\":\"\"},\"type\":\"choropleth\"}],\"contour\":[{\"colorbar\":{\"outlinewidth\":0,\"ticks\":\"\"},\"colorscale\":[[0.0,\"#0d0887\"],[0.1111111111111111,\"#46039f\"],[0.2222222222222222,\"#7201a8\"],[0.3333333333333333,\"#9c179e\"],[0.4444444444444444,\"#bd3786\"],[0.5555555555555556,\"#d8576b\"],[0.6666666666666666,\"#ed7953\"],[0.7777777777777778,\"#fb9f3a\"],[0.8888888888888888,\"#fdca26\"],[1.0,\"#f0f921\"]],\"type\":\"contour\"}],\"contourcarpet\":[{\"colorbar\":{\"outlinewidth\":0,\"ticks\":\"\"},\"type\":\"contourcarpet\"}],\"heatmap\":[{\"colorbar\":{\"outlinewidth\":0,\"ticks\":\"\"},\"colorscale\":[[0.0,\"#0d0887\"],[0.1111111111111111,\"#46039f\"],[0.2222222222222222,\"#7201a8\"],[0.3333333333333333,\"#9c179e\"],[0.4444444444444444,\"#bd3786\"],[0.5555555555555556,\"#d8576b\"],[0.6666666666666666,\"#ed7953\"],[0.7777777777777778,\"#fb9f3a\"],[0.8888888888888888,\"#fdca26\"],[1.0,\"#f0f921\"]],\"type\":\"heatmap\"}],\"heatmapgl\":[{\"colorbar\":{\"outlinewidth\":0,\"ticks\":\"\"},\"colorscale\":[[0.0,\"#0d0887\"],[0.1111111111111111,\"#46039f\"],[0.2222222222222222,\"#7201a8\"],[0.3333333333333333,\"#9c179e\"],[0.4444444444444444,\"#bd3786\"],[0.5555555555555556,\"#d8576b\"],[0.6666666666666666,\"#ed7953\"],[0.7777777777777778,\"#fb9f3a\"],[0.8888888888888888,\"#fdca26\"],[1.0,\"#f0f921\"]],\"type\":\"heatmapgl\"}],\"histogram\":[{\"marker\":{\"pattern\":{\"fillmode\":\"overlay\",\"size\":10,\"solidity\":0.2}},\"type\":\"histogram\"}],\"histogram2d\":[{\"colorbar\":{\"outlinewidth\":0,\"ticks\":\"\"},\"colorscale\":[[0.0,\"#0d0887\"],[0.1111111111111111,\"#46039f\"],[0.2222222222222222,\"#7201a8\"],[0.3333333333333333,\"#9c179e\"],[0.4444444444444444,\"#bd3786\"],[0.5555555555555556,\"#d8576b\"],[0.6666666666666666,\"#ed7953\"],[0.7777777777777778,\"#fb9f3a\"],[0.8888888888888888,\"#fdca26\"],[1.0,\"#f0f921\"]],\"type\":\"histogram2d\"}],\"histogram2dcontour\":[{\"colorbar\":{\"outlinewidth\":0,\"ticks\":\"\"},\"colorscale\":[[0.0,\"#0d0887\"],[0.1111111111111111,\"#46039f\"],[0.2222222222222222,\"#7201a8\"],[0.3333333333333333,\"#9c179e\"],[0.4444444444444444,\"#bd3786\"],[0.5555555555555556,\"#d8576b\"],[0.6666666666666666,\"#ed7953\"],[0.7777777777777778,\"#fb9f3a\"],[0.8888888888888888,\"#fdca26\"],[1.0,\"#f0f921\"]],\"type\":\"histogram2dcontour\"}],\"mesh3d\":[{\"colorbar\":{\"outlinewidth\":0,\"ticks\":\"\"},\"type\":\"mesh3d\"}],\"parcoords\":[{\"line\":{\"colorbar\":{\"outlinewidth\":0,\"ticks\":\"\"}},\"type\":\"parcoords\"}],\"pie\":[{\"automargin\":true,\"type\":\"pie\"}],\"scatter\":[{\"marker\":{\"colorbar\":{\"outlinewidth\":0,\"ticks\":\"\"}},\"type\":\"scatter\"}],\"scatter3d\":[{\"line\":{\"colorbar\":{\"outlinewidth\":0,\"ticks\":\"\"}},\"marker\":{\"colorbar\":{\"outlinewidth\":0,\"ticks\":\"\"}},\"type\":\"scatter3d\"}],\"scattercarpet\":[{\"marker\":{\"colorbar\":{\"outlinewidth\":0,\"ticks\":\"\"}},\"type\":\"scattercarpet\"}],\"scattergeo\":[{\"marker\":{\"colorbar\":{\"outlinewidth\":0,\"ticks\":\"\"}},\"type\":\"scattergeo\"}],\"scattergl\":[{\"marker\":{\"colorbar\":{\"outlinewidth\":0,\"ticks\":\"\"}},\"type\":\"scattergl\"}],\"scattermapbox\":[{\"marker\":{\"colorbar\":{\"outlinewidth\":0,\"ticks\":\"\"}},\"type\":\"scattermapbox\"}],\"scatterpolar\":[{\"marker\":{\"colorbar\":{\"outlinewidth\":0,\"ticks\":\"\"}},\"type\":\"scatterpolar\"}],\"scatterpolargl\":[{\"marker\":{\"colorbar\":{\"outlinewidth\":0,\"ticks\":\"\"}},\"type\":\"scatterpolargl\"}],\"scatterternary\":[{\"marker\":{\"colorbar\":{\"outlinewidth\":0,\"ticks\":\"\"}},\"type\":\"scatterternary\"}],\"surface\":[{\"colorbar\":{\"outlinewidth\":0,\"ticks\":\"\"},\"colorscale\":[[0.0,\"#0d0887\"],[0.1111111111111111,\"#46039f\"],[0.2222222222222222,\"#7201a8\"],[0.3333333333333333,\"#9c179e\"],[0.4444444444444444,\"#bd3786\"],[0.5555555555555556,\"#d8576b\"],[0.6666666666666666,\"#ed7953\"],[0.7777777777777778,\"#fb9f3a\"],[0.8888888888888888,\"#fdca26\"],[1.0,\"#f0f921\"]],\"type\":\"surface\"}],\"table\":[{\"cells\":{\"fill\":{\"color\":\"#EBF0F8\"},\"line\":{\"color\":\"white\"}},\"header\":{\"fill\":{\"color\":\"#C8D4E3\"},\"line\":{\"color\":\"white\"}},\"type\":\"table\"}]},\"layout\":{\"annotationdefaults\":{\"arrowcolor\":\"#2a3f5f\",\"arrowhead\":0,\"arrowwidth\":1},\"autotypenumbers\":\"strict\",\"coloraxis\":{\"colorbar\":{\"outlinewidth\":0,\"ticks\":\"\"}},\"colorscale\":{\"diverging\":[[0,\"#8e0152\"],[0.1,\"#c51b7d\"],[0.2,\"#de77ae\"],[0.3,\"#f1b6da\"],[0.4,\"#fde0ef\"],[0.5,\"#f7f7f7\"],[0.6,\"#e6f5d0\"],[0.7,\"#b8e186\"],[0.8,\"#7fbc41\"],[0.9,\"#4d9221\"],[1,\"#276419\"]],\"sequential\":[[0.0,\"#0d0887\"],[0.1111111111111111,\"#46039f\"],[0.2222222222222222,\"#7201a8\"],[0.3333333333333333,\"#9c179e\"],[0.4444444444444444,\"#bd3786\"],[0.5555555555555556,\"#d8576b\"],[0.6666666666666666,\"#ed7953\"],[0.7777777777777778,\"#fb9f3a\"],[0.8888888888888888,\"#fdca26\"],[1.0,\"#f0f921\"]],\"sequentialminus\":[[0.0,\"#0d0887\"],[0.1111111111111111,\"#46039f\"],[0.2222222222222222,\"#7201a8\"],[0.3333333333333333,\"#9c179e\"],[0.4444444444444444,\"#bd3786\"],[0.5555555555555556,\"#d8576b\"],[0.6666666666666666,\"#ed7953\"],[0.7777777777777778,\"#fb9f3a\"],[0.8888888888888888,\"#fdca26\"],[1.0,\"#f0f921\"]]},\"colorway\":[\"#636efa\",\"#EF553B\",\"#00cc96\",\"#ab63fa\",\"#FFA15A\",\"#19d3f3\",\"#FF6692\",\"#B6E880\",\"#FF97FF\",\"#FECB52\"],\"font\":{\"color\":\"#2a3f5f\"},\"geo\":{\"bgcolor\":\"white\",\"lakecolor\":\"white\",\"landcolor\":\"#E5ECF6\",\"showlakes\":true,\"showland\":true,\"subunitcolor\":\"white\"},\"hoverlabel\":{\"align\":\"left\"},\"hovermode\":\"closest\",\"mapbox\":{\"style\":\"light\"},\"paper_bgcolor\":\"white\",\"plot_bgcolor\":\"#E5ECF6\",\"polar\":{\"angularaxis\":{\"gridcolor\":\"white\",\"linecolor\":\"white\",\"ticks\":\"\"},\"bgcolor\":\"#E5ECF6\",\"radialaxis\":{\"gridcolor\":\"white\",\"linecolor\":\"white\",\"ticks\":\"\"}},\"scene\":{\"xaxis\":{\"backgroundcolor\":\"#E5ECF6\",\"gridcolor\":\"white\",\"gridwidth\":2,\"linecolor\":\"white\",\"showbackground\":true,\"ticks\":\"\",\"zerolinecolor\":\"white\"},\"yaxis\":{\"backgroundcolor\":\"#E5ECF6\",\"gridcolor\":\"white\",\"gridwidth\":2,\"linecolor\":\"white\",\"showbackground\":true,\"ticks\":\"\",\"zerolinecolor\":\"white\"},\"zaxis\":{\"backgroundcolor\":\"#E5ECF6\",\"gridcolor\":\"white\",\"gridwidth\":2,\"linecolor\":\"white\",\"showbackground\":true,\"ticks\":\"\",\"zerolinecolor\":\"white\"}},\"shapedefaults\":{\"line\":{\"color\":\"#2a3f5f\"}},\"ternary\":{\"aaxis\":{\"gridcolor\":\"white\",\"linecolor\":\"white\",\"ticks\":\"\"},\"baxis\":{\"gridcolor\":\"white\",\"linecolor\":\"white\",\"ticks\":\"\"},\"bgcolor\":\"#E5ECF6\",\"caxis\":{\"gridcolor\":\"white\",\"linecolor\":\"white\",\"ticks\":\"\"}},\"title\":{\"x\":0.05},\"xaxis\":{\"automargin\":true,\"gridcolor\":\"white\",\"linecolor\":\"white\",\"ticks\":\"\",\"title\":{\"standoff\":15},\"zerolinecolor\":\"white\",\"zerolinewidth\":2},\"yaxis\":{\"automargin\":true,\"gridcolor\":\"white\",\"linecolor\":\"white\",\"ticks\":\"\",\"title\":{\"standoff\":15},\"zerolinecolor\":\"white\",\"zerolinewidth\":2}}},\"legend\":{\"tracegroupgap\":0},\"title\":{\"text\":\"Minting count\"}},                        {\"responsive\": true}                    ).then(function(){\n",
              "                            \n",
              "var gd = document.getElementById('baf1a642-0678-44cd-bf52-3bbb05c0cf8e');\n",
              "var x = new MutationObserver(function (mutations, observer) {{\n",
              "        var display = window.getComputedStyle(gd).display;\n",
              "        if (!display || display === 'none') {{\n",
              "            console.log([gd, 'removed!']);\n",
              "            Plotly.purge(gd);\n",
              "            observer.disconnect();\n",
              "        }}\n",
              "}});\n",
              "\n",
              "// Listen for the removal of the full notebook cells\n",
              "var notebookContainer = gd.closest('#notebook-container');\n",
              "if (notebookContainer) {{\n",
              "    x.observe(notebookContainer, {childList: true});\n",
              "}}\n",
              "\n",
              "// Listen for the clearing of the current output cell\n",
              "var outputEl = gd.closest('.output');\n",
              "if (outputEl) {{\n",
              "    x.observe(outputEl, {childList: true});\n",
              "}}\n",
              "\n",
              "                        })                };                            </script>        </div>\n",
              "</body>\n",
              "</html>"
            ]
          },
          "metadata": {}
        }
      ]
    }
  ]
}